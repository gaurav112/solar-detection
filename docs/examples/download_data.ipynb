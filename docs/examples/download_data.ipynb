{
  "cells": [
    {
      "cell_type": "markdown",
      "metadata": {
        "id": "nofKus-lYZIZ"
      },
      "source": [
        "# Download Data\n",
        "\n",
        "[![image](https://colab.research.google.com/assets/colab-badge.svg)](https://colab.research.google.com/github/opengeos/geoai/blob/main/docs/examples/download_data.ipynb)\n",
        "\n",
        "## Install Package\n",
        "To use the `geoai-py` package, ensure it is installed in your environment. Uncomment the command below if needed."
      ]
    },
    {
      "cell_type": "code",
      "execution_count": 6,
      "metadata": {
        "colab": {
          "base_uri": "https://localhost:8080/",
          "height": 1000
        },
        "collapsed": true,
        "id": "UCbB5WyEYZIc",
        "outputId": "c5870488-3810-4bfe-98e0-89b6880532a7"
      },
      "outputs": [
        {
          "output_type": "stream",
          "name": "stdout",
          "text": [
            "Collecting geoai-py\n",
            "  Downloading geoai_py-0.4.1-py2.py3-none-any.whl.metadata (6.1 kB)\n",
            "Requirement already satisfied: albumentations in /usr/local/lib/python3.11/dist-packages (from geoai-py) (2.0.5)\n",
            "Collecting contextily (from geoai-py)\n",
            "  Downloading contextily-1.6.2-py3-none-any.whl.metadata (2.9 kB)\n",
            "Requirement already satisfied: geopandas in /usr/local/lib/python3.11/dist-packages (from geoai-py) (1.0.1)\n",
            "Requirement already satisfied: huggingface_hub in /usr/local/lib/python3.11/dist-packages (from geoai-py) (0.28.1)\n",
            "Collecting jupyter-server-proxy (from geoai-py)\n",
            "  Downloading jupyter_server_proxy-4.4.0-py3-none-any.whl.metadata (8.7 kB)\n",
            "Requirement already satisfied: leafmap in /usr/local/lib/python3.11/dist-packages (from geoai-py) (0.42.13)\n",
            "Collecting localtileserver (from geoai-py)\n",
            "  Downloading localtileserver-0.10.6-py3-none-any.whl.metadata (5.2 kB)\n",
            "Collecting mapclassify (from geoai-py)\n",
            "  Downloading mapclassify-2.8.1-py3-none-any.whl.metadata (2.8 kB)\n",
            "Collecting overturemaps (from geoai-py)\n",
            "  Downloading overturemaps-0.12.0-py3-none-any.whl.metadata (3.9 kB)\n",
            "Collecting planetary-computer (from geoai-py)\n",
            "  Downloading planetary_computer-1.0.0-py3-none-any.whl.metadata (7.4 kB)\n",
            "Requirement already satisfied: pystac-client in /usr/local/lib/python3.11/dist-packages (from geoai-py) (0.8.6)\n",
            "Collecting rasterio (from geoai-py)\n",
            "  Downloading rasterio-1.4.3-cp311-cp311-manylinux_2_17_x86_64.manylinux2014_x86_64.whl.metadata (9.1 kB)\n",
            "Collecting rioxarray (from geoai-py)\n",
            "  Downloading rioxarray-0.18.2-py3-none-any.whl.metadata (5.4 kB)\n",
            "Requirement already satisfied: scikit-image in /usr/local/lib/python3.11/dist-packages (from geoai-py) (0.25.2)\n",
            "Requirement already satisfied: scikit-learn in /usr/local/lib/python3.11/dist-packages (from geoai-py) (1.6.1)\n",
            "Requirement already satisfied: torch in /usr/local/lib/python3.11/dist-packages (from geoai-py) (2.6.0+cu124)\n",
            "Collecting torchgeo (from geoai-py)\n",
            "  Downloading torchgeo-0.6.2-py3-none-any.whl.metadata (19 kB)\n",
            "Requirement already satisfied: tqdm in /usr/local/lib/python3.11/dist-packages (from geoai-py) (4.67.1)\n",
            "Requirement already satisfied: transformers in /usr/local/lib/python3.11/dist-packages (from geoai-py) (4.48.3)\n",
            "Requirement already satisfied: numpy>=1.24.4 in /usr/local/lib/python3.11/dist-packages (from albumentations->geoai-py) (2.0.2)\n",
            "Requirement already satisfied: scipy>=1.10.0 in /usr/local/lib/python3.11/dist-packages (from albumentations->geoai-py) (1.14.1)\n",
            "Requirement already satisfied: PyYAML in /usr/local/lib/python3.11/dist-packages (from albumentations->geoai-py) (6.0.2)\n",
            "Requirement already satisfied: pydantic>=2.9.2 in /usr/local/lib/python3.11/dist-packages (from albumentations->geoai-py) (2.10.6)\n",
            "Requirement already satisfied: albucore==0.0.23 in /usr/local/lib/python3.11/dist-packages (from albumentations->geoai-py) (0.0.23)\n",
            "Requirement already satisfied: opencv-python-headless>=4.9.0.80 in /usr/local/lib/python3.11/dist-packages (from albumentations->geoai-py) (4.11.0.86)\n",
            "Requirement already satisfied: stringzilla>=3.10.4 in /usr/local/lib/python3.11/dist-packages (from albucore==0.0.23->albumentations->geoai-py) (3.12.3)\n",
            "Requirement already satisfied: simsimd>=5.9.2 in /usr/local/lib/python3.11/dist-packages (from albucore==0.0.23->albumentations->geoai-py) (6.2.1)\n",
            "Requirement already satisfied: geopy in /usr/local/lib/python3.11/dist-packages (from contextily->geoai-py) (2.4.1)\n",
            "Requirement already satisfied: matplotlib in /usr/local/lib/python3.11/dist-packages (from contextily->geoai-py) (3.10.0)\n",
            "Collecting mercantile (from contextily->geoai-py)\n",
            "  Downloading mercantile-1.2.1-py3-none-any.whl.metadata (4.8 kB)\n",
            "Requirement already satisfied: pillow in /usr/local/lib/python3.11/dist-packages (from contextily->geoai-py) (11.1.0)\n",
            "Requirement already satisfied: requests in /usr/local/lib/python3.11/dist-packages (from contextily->geoai-py) (2.32.3)\n",
            "Requirement already satisfied: joblib in /usr/local/lib/python3.11/dist-packages (from contextily->geoai-py) (1.4.2)\n",
            "Requirement already satisfied: xyzservices in /usr/local/lib/python3.11/dist-packages (from contextily->geoai-py) (2025.1.0)\n",
            "Requirement already satisfied: pyogrio>=0.7.2 in /usr/local/lib/python3.11/dist-packages (from geopandas->geoai-py) (0.10.0)\n",
            "Requirement already satisfied: packaging in /usr/local/lib/python3.11/dist-packages (from geopandas->geoai-py) (24.2)\n",
            "Requirement already satisfied: pandas>=1.4.0 in /usr/local/lib/python3.11/dist-packages (from geopandas->geoai-py) (2.2.2)\n",
            "Requirement already satisfied: pyproj>=3.3.0 in /usr/local/lib/python3.11/dist-packages (from geopandas->geoai-py) (3.7.1)\n",
            "Requirement already satisfied: shapely>=2.0.0 in /usr/local/lib/python3.11/dist-packages (from geopandas->geoai-py) (2.0.7)\n",
            "Requirement already satisfied: filelock in /usr/local/lib/python3.11/dist-packages (from huggingface_hub->geoai-py) (3.17.0)\n",
            "Requirement already satisfied: fsspec>=2023.5.0 in /usr/local/lib/python3.11/dist-packages (from huggingface_hub->geoai-py) (2024.10.0)\n",
            "Requirement already satisfied: typing-extensions>=3.7.4.3 in /usr/local/lib/python3.11/dist-packages (from huggingface_hub->geoai-py) (4.12.2)\n",
            "Requirement already satisfied: aiohttp in /usr/local/lib/python3.11/dist-packages (from jupyter-server-proxy->geoai-py) (3.11.13)\n",
            "Requirement already satisfied: jupyter-server>=1.24.0 in /usr/local/lib/python3.11/dist-packages (from jupyter-server-proxy->geoai-py) (1.24.0)\n",
            "Collecting simpervisor>=1.0.0 (from jupyter-server-proxy->geoai-py)\n",
            "  Downloading simpervisor-1.0.0-py3-none-any.whl.metadata (4.3 kB)\n",
            "Requirement already satisfied: tornado>=6.1.0 in /usr/local/lib/python3.11/dist-packages (from jupyter-server-proxy->geoai-py) (6.4.2)\n",
            "Requirement already satisfied: traitlets>=5.1.0 in /usr/local/lib/python3.11/dist-packages (from jupyter-server-proxy->geoai-py) (5.7.1)\n",
            "Requirement already satisfied: anywidget in /usr/local/lib/python3.11/dist-packages (from leafmap->geoai-py) (0.9.16)\n",
            "Requirement already satisfied: bqplot in /usr/local/lib/python3.11/dist-packages (from leafmap->geoai-py) (0.12.44)\n",
            "Requirement already satisfied: colour in /usr/local/lib/python3.11/dist-packages (from leafmap->geoai-py) (0.1.5)\n",
            "Requirement already satisfied: duckdb in /usr/local/lib/python3.11/dist-packages (from leafmap->geoai-py) (1.1.3)\n",
            "Requirement already satisfied: folium in /usr/local/lib/python3.11/dist-packages (from leafmap->geoai-py) (0.19.5)\n",
            "Requirement already satisfied: gdown in /usr/local/lib/python3.11/dist-packages (from leafmap->geoai-py) (5.2.0)\n",
            "Requirement already satisfied: geojson in /usr/local/lib/python3.11/dist-packages (from leafmap->geoai-py) (3.2.0)\n",
            "Requirement already satisfied: ipyevents in /usr/local/lib/python3.11/dist-packages (from leafmap->geoai-py) (2.0.2)\n",
            "Requirement already satisfied: ipyfilechooser in /usr/local/lib/python3.11/dist-packages (from leafmap->geoai-py) (0.6.0)\n",
            "Requirement already satisfied: ipyleaflet in /usr/local/lib/python3.11/dist-packages (from leafmap->geoai-py) (0.19.2)\n",
            "Requirement already satisfied: ipyvuetify in /usr/local/lib/python3.11/dist-packages (from leafmap->geoai-py) (1.11.1)\n",
            "Requirement already satisfied: ipywidgets in /usr/local/lib/python3.11/dist-packages (from leafmap->geoai-py) (7.7.1)\n",
            "Requirement already satisfied: plotly in /usr/local/lib/python3.11/dist-packages (from leafmap->geoai-py) (5.24.1)\n",
            "Requirement already satisfied: psutil in /usr/local/lib/python3.11/dist-packages (from leafmap->geoai-py) (5.9.5)\n",
            "Requirement already satisfied: pyshp in /usr/local/lib/python3.11/dist-packages (from leafmap->geoai-py) (2.3.1)\n",
            "Requirement already satisfied: python-box in /usr/local/lib/python3.11/dist-packages (from leafmap->geoai-py) (7.3.2)\n",
            "Requirement already satisfied: scooby in /usr/local/lib/python3.11/dist-packages (from leafmap->geoai-py) (0.10.0)\n",
            "Requirement already satisfied: whiteboxgui in /usr/local/lib/python3.11/dist-packages (from leafmap->geoai-py) (2.3.0)\n",
            "Requirement already satisfied: click in /usr/local/lib/python3.11/dist-packages (from localtileserver->geoai-py) (8.1.8)\n",
            "Requirement already satisfied: flask<4,>=2.0.0 in /usr/local/lib/python3.11/dist-packages (from localtileserver->geoai-py) (3.1.0)\n",
            "Collecting Flask-Caching (from localtileserver->geoai-py)\n",
            "  Downloading Flask_Caching-2.3.1-py3-none-any.whl.metadata (2.2 kB)\n",
            "Collecting flask-cors (from localtileserver->geoai-py)\n",
            "  Downloading flask_cors-5.0.1-py3-none-any.whl.metadata (961 bytes)\n",
            "Collecting flask-restx>=1.3.0 (from localtileserver->geoai-py)\n",
            "  Downloading flask_restx-1.3.0-py2.py3-none-any.whl.metadata (9.3 kB)\n",
            "Collecting rio-tiler (from localtileserver->geoai-py)\n",
            "  Downloading rio_tiler-7.5.0-py3-none-any.whl.metadata (12 kB)\n",
            "Collecting rio-cogeo (from localtileserver->geoai-py)\n",
            "  Downloading rio_cogeo-5.4.1-py3-none-any.whl.metadata (4.7 kB)\n",
            "Collecting server-thread (from localtileserver->geoai-py)\n",
            "  Downloading server_thread-0.3.0-py3-none-any.whl.metadata (5.3 kB)\n",
            "Requirement already satisfied: werkzeug in /usr/local/lib/python3.11/dist-packages (from localtileserver->geoai-py) (3.1.3)\n",
            "Requirement already satisfied: networkx>=2.7 in /usr/local/lib/python3.11/dist-packages (from mapclassify->geoai-py) (3.4.2)\n",
            "Requirement already satisfied: threadpoolctl>=3.1.0 in /usr/local/lib/python3.11/dist-packages (from scikit-learn->geoai-py) (3.6.0)\n",
            "Requirement already satisfied: pyarrow>=15.0.2 in /usr/local/lib/python3.11/dist-packages (from overturemaps->geoai-py) (18.1.0)\n",
            "Requirement already satisfied: pystac>=1.0.0 in /usr/local/lib/python3.11/dist-packages (from planetary-computer->geoai-py) (1.12.2)\n",
            "Requirement already satisfied: pytz>=2020.5 in /usr/local/lib/python3.11/dist-packages (from planetary-computer->geoai-py) (2025.1)\n",
            "Collecting python-dotenv (from planetary-computer->geoai-py)\n",
            "  Downloading python_dotenv-1.0.1-py3-none-any.whl.metadata (23 kB)\n",
            "Requirement already satisfied: python-dateutil>=2.8.2 in /usr/local/lib/python3.11/dist-packages (from pystac-client->geoai-py) (2.8.2)\n",
            "Collecting affine (from rasterio->geoai-py)\n",
            "  Downloading affine-2.4.0-py3-none-any.whl.metadata (4.0 kB)\n",
            "Requirement already satisfied: attrs in /usr/local/lib/python3.11/dist-packages (from rasterio->geoai-py) (25.3.0)\n",
            "Requirement already satisfied: certifi in /usr/local/lib/python3.11/dist-packages (from rasterio->geoai-py) (2025.1.31)\n",
            "Collecting cligj>=0.5 (from rasterio->geoai-py)\n",
            "  Downloading cligj-0.7.2-py3-none-any.whl.metadata (5.0 kB)\n",
            "Collecting click-plugins (from rasterio->geoai-py)\n",
            "  Downloading click_plugins-1.1.1-py2.py3-none-any.whl.metadata (6.4 kB)\n",
            "Requirement already satisfied: pyparsing in /usr/local/lib/python3.11/dist-packages (from rasterio->geoai-py) (3.2.1)\n",
            "Requirement already satisfied: xarray>=2024.7.0 in /usr/local/lib/python3.11/dist-packages (from rioxarray->geoai-py) (2025.1.2)\n",
            "Requirement already satisfied: imageio!=2.35.0,>=2.33 in /usr/local/lib/python3.11/dist-packages (from scikit-image->geoai-py) (2.37.0)\n",
            "Requirement already satisfied: tifffile>=2022.8.12 in /usr/local/lib/python3.11/dist-packages (from scikit-image->geoai-py) (2025.3.13)\n",
            "Requirement already satisfied: lazy-loader>=0.4 in /usr/local/lib/python3.11/dist-packages (from scikit-image->geoai-py) (0.4)\n",
            "Requirement already satisfied: jinja2 in /usr/local/lib/python3.11/dist-packages (from torch->geoai-py) (3.1.6)\n",
            "Collecting nvidia-cuda-nvrtc-cu12==12.4.127 (from torch->geoai-py)\n",
            "  Downloading nvidia_cuda_nvrtc_cu12-12.4.127-py3-none-manylinux2014_x86_64.whl.metadata (1.5 kB)\n",
            "Collecting nvidia-cuda-runtime-cu12==12.4.127 (from torch->geoai-py)\n",
            "  Downloading nvidia_cuda_runtime_cu12-12.4.127-py3-none-manylinux2014_x86_64.whl.metadata (1.5 kB)\n",
            "Collecting nvidia-cuda-cupti-cu12==12.4.127 (from torch->geoai-py)\n",
            "  Downloading nvidia_cuda_cupti_cu12-12.4.127-py3-none-manylinux2014_x86_64.whl.metadata (1.6 kB)\n",
            "Collecting nvidia-cudnn-cu12==9.1.0.70 (from torch->geoai-py)\n",
            "  Downloading nvidia_cudnn_cu12-9.1.0.70-py3-none-manylinux2014_x86_64.whl.metadata (1.6 kB)\n",
            "Collecting nvidia-cublas-cu12==12.4.5.8 (from torch->geoai-py)\n",
            "  Downloading nvidia_cublas_cu12-12.4.5.8-py3-none-manylinux2014_x86_64.whl.metadata (1.5 kB)\n",
            "Collecting nvidia-cufft-cu12==11.2.1.3 (from torch->geoai-py)\n",
            "  Downloading nvidia_cufft_cu12-11.2.1.3-py3-none-manylinux2014_x86_64.whl.metadata (1.5 kB)\n",
            "Collecting nvidia-curand-cu12==10.3.5.147 (from torch->geoai-py)\n",
            "  Downloading nvidia_curand_cu12-10.3.5.147-py3-none-manylinux2014_x86_64.whl.metadata (1.5 kB)\n",
            "Collecting nvidia-cusolver-cu12==11.6.1.9 (from torch->geoai-py)\n",
            "  Downloading nvidia_cusolver_cu12-11.6.1.9-py3-none-manylinux2014_x86_64.whl.metadata (1.6 kB)\n",
            "Collecting nvidia-cusparse-cu12==12.3.1.170 (from torch->geoai-py)\n",
            "  Downloading nvidia_cusparse_cu12-12.3.1.170-py3-none-manylinux2014_x86_64.whl.metadata (1.6 kB)\n",
            "Requirement already satisfied: nvidia-cusparselt-cu12==0.6.2 in /usr/local/lib/python3.11/dist-packages (from torch->geoai-py) (0.6.2)\n",
            "Requirement already satisfied: nvidia-nccl-cu12==2.21.5 in /usr/local/lib/python3.11/dist-packages (from torch->geoai-py) (2.21.5)\n",
            "Requirement already satisfied: nvidia-nvtx-cu12==12.4.127 in /usr/local/lib/python3.11/dist-packages (from torch->geoai-py) (12.4.127)\n",
            "Collecting nvidia-nvjitlink-cu12==12.4.127 (from torch->geoai-py)\n",
            "  Downloading nvidia_nvjitlink_cu12-12.4.127-py3-none-manylinux2014_x86_64.whl.metadata (1.5 kB)\n",
            "Requirement already satisfied: triton==3.2.0 in /usr/local/lib/python3.11/dist-packages (from torch->geoai-py) (3.2.0)\n",
            "Requirement already satisfied: sympy==1.13.1 in /usr/local/lib/python3.11/dist-packages (from torch->geoai-py) (1.13.1)\n",
            "Requirement already satisfied: mpmath<1.4,>=1.1.0 in /usr/local/lib/python3.11/dist-packages (from sympy==1.13.1->torch->geoai-py) (1.3.0)\n",
            "Requirement already satisfied: einops>=0.3 in /usr/local/lib/python3.11/dist-packages (from torchgeo->geoai-py) (0.8.1)\n",
            "Collecting fiona>=1.8.21 (from torchgeo->geoai-py)\n",
            "  Downloading fiona-1.10.1-cp311-cp311-manylinux_2_17_x86_64.manylinux2014_x86_64.whl.metadata (56 kB)\n",
            "\u001b[2K     \u001b[90m━━━━━━━━━━━━━━━━━━━━━━━━━━━━━━━━━━━━━━━━\u001b[0m \u001b[32m56.6/56.6 kB\u001b[0m \u001b[31m1.9 MB/s\u001b[0m eta \u001b[36m0:00:00\u001b[0m\n",
            "\u001b[?25hCollecting kornia>=0.7.3 (from torchgeo->geoai-py)\n",
            "  Downloading kornia-0.8.0-py2.py3-none-any.whl.metadata (17 kB)\n",
            "Collecting lightly!=1.4.26,>=1.4.5 (from torchgeo->geoai-py)\n",
            "  Downloading lightly-1.5.19-py3-none-any.whl.metadata (36 kB)\n",
            "Collecting lightning!=2.3.*,>=2 (from lightning[pytorch-extra]!=2.3.*,>=2->torchgeo->geoai-py)\n",
            "  Downloading lightning-2.5.0.post0-py3-none-any.whl.metadata (40 kB)\n",
            "\u001b[2K     \u001b[90m━━━━━━━━━━━━━━━━━━━━━━━━━━━━━━━━━━━━━━━━\u001b[0m \u001b[32m40.4/40.4 kB\u001b[0m \u001b[31m3.6 MB/s\u001b[0m eta \u001b[36m0:00:00\u001b[0m\n",
            "\u001b[?25hCollecting rtree>=1 (from torchgeo->geoai-py)\n",
            "  Downloading rtree-1.4.0-py3-none-manylinux2014_x86_64.manylinux_2_17_x86_64.whl.metadata (2.1 kB)\n",
            "Collecting segmentation-models-pytorch>=0.2 (from torchgeo->geoai-py)\n",
            "  Downloading segmentation_models_pytorch-0.4.0-py3-none-any.whl.metadata (32 kB)\n",
            "Requirement already satisfied: timm>=0.4.12 in /usr/local/lib/python3.11/dist-packages (from torchgeo->geoai-py) (1.0.15)\n",
            "Collecting torchmetrics>=0.10 (from torchgeo->geoai-py)\n",
            "  Downloading torchmetrics-1.6.3-py3-none-any.whl.metadata (20 kB)\n",
            "Requirement already satisfied: torchvision>=0.14 in /usr/local/lib/python3.11/dist-packages (from torchgeo->geoai-py) (0.21.0+cu124)\n",
            "Requirement already satisfied: regex!=2019.12.17 in /usr/local/lib/python3.11/dist-packages (from transformers->geoai-py) (2024.11.6)\n",
            "Requirement already satisfied: tokenizers<0.22,>=0.21 in /usr/local/lib/python3.11/dist-packages (from transformers->geoai-py) (0.21.1)\n",
            "Requirement already satisfied: safetensors>=0.4.1 in /usr/local/lib/python3.11/dist-packages (from transformers->geoai-py) (0.5.3)\n",
            "Requirement already satisfied: itsdangerous>=2.2 in /usr/local/lib/python3.11/dist-packages (from flask<4,>=2.0.0->localtileserver->geoai-py) (2.2.0)\n",
            "Requirement already satisfied: blinker>=1.9 in /usr/local/lib/python3.11/dist-packages (from flask<4,>=2.0.0->localtileserver->geoai-py) (1.9.0)\n",
            "Collecting aniso8601>=0.82 (from flask-restx>=1.3.0->localtileserver->geoai-py)\n",
            "  Downloading aniso8601-10.0.0-py2.py3-none-any.whl.metadata (23 kB)\n",
            "Requirement already satisfied: jsonschema in /usr/local/lib/python3.11/dist-packages (from flask-restx>=1.3.0->localtileserver->geoai-py) (4.23.0)\n",
            "Requirement already satisfied: importlib-resources in /usr/local/lib/python3.11/dist-packages (from flask-restx>=1.3.0->localtileserver->geoai-py) (6.5.2)\n",
            "Requirement already satisfied: MarkupSafe>=2.0 in /usr/local/lib/python3.11/dist-packages (from jinja2->torch->geoai-py) (3.0.2)\n",
            "Requirement already satisfied: anyio<4,>=3.1.0 in /usr/local/lib/python3.11/dist-packages (from jupyter-server>=1.24.0->jupyter-server-proxy->geoai-py) (3.7.1)\n",
            "Requirement already satisfied: argon2-cffi in /usr/local/lib/python3.11/dist-packages (from jupyter-server>=1.24.0->jupyter-server-proxy->geoai-py) (23.1.0)\n",
            "Requirement already satisfied: jupyter-client>=6.1.12 in /usr/local/lib/python3.11/dist-packages (from jupyter-server>=1.24.0->jupyter-server-proxy->geoai-py) (6.1.12)\n",
            "Requirement already satisfied: jupyter-core!=5.0.*,>=4.12 in /usr/local/lib/python3.11/dist-packages (from jupyter-server>=1.24.0->jupyter-server-proxy->geoai-py) (5.7.2)\n",
            "Requirement already satisfied: nbconvert>=6.4.4 in /usr/local/lib/python3.11/dist-packages (from jupyter-server>=1.24.0->jupyter-server-proxy->geoai-py) (7.16.6)\n",
            "Requirement already satisfied: nbformat>=5.2.0 in /usr/local/lib/python3.11/dist-packages (from jupyter-server>=1.24.0->jupyter-server-proxy->geoai-py) (5.10.4)\n",
            "Requirement already satisfied: prometheus-client in /usr/local/lib/python3.11/dist-packages (from jupyter-server>=1.24.0->jupyter-server-proxy->geoai-py) (0.21.1)\n",
            "Requirement already satisfied: pyzmq>=17 in /usr/local/lib/python3.11/dist-packages (from jupyter-server>=1.24.0->jupyter-server-proxy->geoai-py) (24.0.1)\n",
            "Requirement already satisfied: Send2Trash in /usr/local/lib/python3.11/dist-packages (from jupyter-server>=1.24.0->jupyter-server-proxy->geoai-py) (1.8.3)\n",
            "Requirement already satisfied: terminado>=0.8.3 in /usr/local/lib/python3.11/dist-packages (from jupyter-server>=1.24.0->jupyter-server-proxy->geoai-py) (0.18.1)\n",
            "Requirement already satisfied: websocket-client in /usr/local/lib/python3.11/dist-packages (from jupyter-server>=1.24.0->jupyter-server-proxy->geoai-py) (1.8.0)\n",
            "Collecting kornia_rs>=0.1.0 (from kornia>=0.7.3->torchgeo->geoai-py)\n",
            "  Downloading kornia_rs-0.1.8-cp311-cp311-manylinux_2_17_x86_64.manylinux2014_x86_64.whl.metadata (10 kB)\n",
            "Collecting hydra-core>=1.0.0 (from lightly!=1.4.26,>=1.4.5->torchgeo->geoai-py)\n",
            "  Downloading hydra_core-1.3.2-py3-none-any.whl.metadata (5.5 kB)\n",
            "Collecting lightly_utils~=0.0.0 (from lightly!=1.4.26,>=1.4.5->torchgeo->geoai-py)\n",
            "  Downloading lightly_utils-0.0.2-py3-none-any.whl.metadata (1.4 kB)\n",
            "Requirement already satisfied: six>=1.10 in /usr/local/lib/python3.11/dist-packages (from lightly!=1.4.26,>=1.4.5->torchgeo->geoai-py) (1.17.0)\n",
            "Collecting pytorch_lightning>=1.0.4 (from lightly!=1.4.26,>=1.4.5->torchgeo->geoai-py)\n",
            "  Downloading pytorch_lightning-2.5.0.post0-py3-none-any.whl.metadata (21 kB)\n",
            "Requirement already satisfied: urllib3>=1.25.3 in /usr/local/lib/python3.11/dist-packages (from lightly!=1.4.26,>=1.4.5->torchgeo->geoai-py) (2.3.0)\n",
            "Collecting aenum>=3.1.11 (from lightly!=1.4.26,>=1.4.5->torchgeo->geoai-py)\n",
            "  Downloading aenum-3.1.15-py3-none-any.whl.metadata (3.7 kB)\n",
            "Collecting lightning-utilities<2.0,>=0.10.0 (from lightning!=2.3.*,>=2->lightning[pytorch-extra]!=2.3.*,>=2->torchgeo->geoai-py)\n",
            "  Downloading lightning_utilities-0.14.1-py3-none-any.whl.metadata (5.6 kB)\n",
            "Collecting jsonargparse<5.0,>=4.27.7 (from jsonargparse[signatures]<5.0,>=4.27.7; extra == \"pytorch-extra\"->lightning[pytorch-extra]!=2.3.*,>=2->torchgeo->geoai-py)\n",
            "  Downloading jsonargparse-4.37.0-py3-none-any.whl.metadata (12 kB)\n",
            "Collecting omegaconf<3.0,>=2.2.3 (from lightning[pytorch-extra]!=2.3.*,>=2->torchgeo->geoai-py)\n",
            "  Downloading omegaconf-2.3.0-py3-none-any.whl.metadata (3.9 kB)\n",
            "Requirement already satisfied: rich<14.0,>=12.3.0 in /usr/local/lib/python3.11/dist-packages (from lightning[pytorch-extra]!=2.3.*,>=2->torchgeo->geoai-py) (13.9.4)\n",
            "Collecting tensorboardX<3.0,>=2.2 (from lightning[pytorch-extra]!=2.3.*,>=2->torchgeo->geoai-py)\n",
            "  Downloading tensorboardX-2.6.2.2-py2.py3-none-any.whl.metadata (5.8 kB)\n",
            "Collecting bitsandbytes<1.0,>=0.44.0 (from lightning[pytorch-extra]!=2.3.*,>=2->torchgeo->geoai-py)\n",
            "  Downloading bitsandbytes-0.45.3-py3-none-manylinux_2_24_x86_64.whl.metadata (5.0 kB)\n",
            "Requirement already satisfied: contourpy>=1.0.1 in /usr/local/lib/python3.11/dist-packages (from matplotlib->contextily->geoai-py) (1.3.1)\n",
            "Requirement already satisfied: cycler>=0.10 in /usr/local/lib/python3.11/dist-packages (from matplotlib->contextily->geoai-py) (0.12.1)\n",
            "Requirement already satisfied: fonttools>=4.22.0 in /usr/local/lib/python3.11/dist-packages (from matplotlib->contextily->geoai-py) (4.56.0)\n",
            "Requirement already satisfied: kiwisolver>=1.3.1 in /usr/local/lib/python3.11/dist-packages (from matplotlib->contextily->geoai-py) (1.4.8)\n",
            "Requirement already satisfied: tzdata>=2022.7 in /usr/local/lib/python3.11/dist-packages (from pandas>=1.4.0->geopandas->geoai-py) (2025.1)\n",
            "Requirement already satisfied: annotated-types>=0.6.0 in /usr/local/lib/python3.11/dist-packages (from pydantic>=2.9.2->albumentations->geoai-py) (0.7.0)\n",
            "Requirement already satisfied: pydantic-core==2.27.2 in /usr/local/lib/python3.11/dist-packages (from pydantic>=2.9.2->albumentations->geoai-py) (2.27.2)\n",
            "Requirement already satisfied: charset-normalizer<4,>=2 in /usr/local/lib/python3.11/dist-packages (from requests->contextily->geoai-py) (3.4.1)\n",
            "Requirement already satisfied: idna<4,>=2.5 in /usr/local/lib/python3.11/dist-packages (from requests->contextily->geoai-py) (3.10)\n",
            "Collecting efficientnet-pytorch>=0.6.1 (from segmentation-models-pytorch>=0.2->torchgeo->geoai-py)\n",
            "  Downloading efficientnet_pytorch-0.7.1.tar.gz (21 kB)\n",
            "  Preparing metadata (setup.py) ... \u001b[?25l\u001b[?25hdone\n",
            "Collecting pretrainedmodels>=0.7.1 (from segmentation-models-pytorch>=0.2->torchgeo->geoai-py)\n",
            "  Downloading pretrainedmodels-0.7.4.tar.gz (58 kB)\n",
            "\u001b[2K     \u001b[90m━━━━━━━━━━━━━━━━━━━━━━━━━━━━━━━━━━━━━━━━\u001b[0m \u001b[32m58.8/58.8 kB\u001b[0m \u001b[31m5.1 MB/s\u001b[0m eta \u001b[36m0:00:00\u001b[0m\n",
            "\u001b[?25h  Preparing metadata (setup.py) ... \u001b[?25l\u001b[?25hdone\n",
            "Requirement already satisfied: aiohappyeyeballs>=2.3.0 in /usr/local/lib/python3.11/dist-packages (from aiohttp->jupyter-server-proxy->geoai-py) (2.6.1)\n",
            "Requirement already satisfied: aiosignal>=1.1.2 in /usr/local/lib/python3.11/dist-packages (from aiohttp->jupyter-server-proxy->geoai-py) (1.3.2)\n",
            "Requirement already satisfied: frozenlist>=1.1.1 in /usr/local/lib/python3.11/dist-packages (from aiohttp->jupyter-server-proxy->geoai-py) (1.5.0)\n",
            "Requirement already satisfied: multidict<7.0,>=4.5 in /usr/local/lib/python3.11/dist-packages (from aiohttp->jupyter-server-proxy->geoai-py) (6.1.0)\n",
            "Requirement already satisfied: propcache>=0.2.0 in /usr/local/lib/python3.11/dist-packages (from aiohttp->jupyter-server-proxy->geoai-py) (0.3.0)\n",
            "Requirement already satisfied: yarl<2.0,>=1.17.0 in /usr/local/lib/python3.11/dist-packages (from aiohttp->jupyter-server-proxy->geoai-py) (1.18.3)\n",
            "Requirement already satisfied: psygnal>=0.8.1 in /usr/local/lib/python3.11/dist-packages (from anywidget->leafmap->geoai-py) (0.12.0)\n",
            "Requirement already satisfied: ipykernel>=4.5.1 in /usr/local/lib/python3.11/dist-packages (from ipywidgets->leafmap->geoai-py) (6.17.1)\n",
            "Requirement already satisfied: ipython-genutils~=0.2.0 in /usr/local/lib/python3.11/dist-packages (from ipywidgets->leafmap->geoai-py) (0.2.0)\n",
            "Requirement already satisfied: widgetsnbextension~=3.6.0 in /usr/local/lib/python3.11/dist-packages (from ipywidgets->leafmap->geoai-py) (3.6.10)\n",
            "Requirement already satisfied: ipython>=4.0.0 in /usr/local/lib/python3.11/dist-packages (from ipywidgets->leafmap->geoai-py) (7.34.0)\n",
            "Requirement already satisfied: jupyterlab-widgets>=1.0.0 in /usr/local/lib/python3.11/dist-packages (from ipywidgets->leafmap->geoai-py) (3.0.13)\n",
            "Requirement already satisfied: traittypes>=0.0.6 in /usr/local/lib/python3.11/dist-packages (from bqplot->leafmap->geoai-py) (0.2.1)\n",
            "Collecting cachelib>=0.9.0 (from Flask-Caching->localtileserver->geoai-py)\n",
            "  Downloading cachelib-0.13.0-py3-none-any.whl.metadata (2.0 kB)\n",
            "Requirement already satisfied: branca>=0.6.0 in /usr/local/lib/python3.11/dist-packages (from folium->leafmap->geoai-py) (0.8.1)\n",
            "Requirement already satisfied: beautifulsoup4 in /usr/local/lib/python3.11/dist-packages (from gdown->leafmap->geoai-py) (4.13.3)\n",
            "Requirement already satisfied: geographiclib<3,>=1.52 in /usr/local/lib/python3.11/dist-packages (from geopy->contextily->geoai-py) (2.0)\n",
            "Requirement already satisfied: jupyter-leaflet<0.20,>=0.19 in /usr/local/lib/python3.11/dist-packages (from ipyleaflet->leafmap->geoai-py) (0.19.2)\n",
            "Requirement already satisfied: ipyvue<2,>=1.7 in /usr/local/lib/python3.11/dist-packages (from ipyvuetify->leafmap->geoai-py) (1.11.2)\n",
            "Requirement already satisfied: tenacity>=6.2.0 in /usr/local/lib/python3.11/dist-packages (from plotly->leafmap->geoai-py) (9.0.0)\n",
            "Collecting morecantile<7.0,>=5.0 (from rio-cogeo->localtileserver->geoai-py)\n",
            "  Downloading morecantile-6.2.0-py3-none-any.whl.metadata (7.3 kB)\n",
            "Requirement already satisfied: cachetools in /usr/local/lib/python3.11/dist-packages (from rio-tiler->localtileserver->geoai-py) (5.5.2)\n",
            "Collecting color-operations (from rio-tiler->localtileserver->geoai-py)\n",
            "  Downloading color_operations-0.1.6-cp311-cp311-manylinux_2_5_x86_64.manylinux1_x86_64.manylinux_2_17_x86_64.manylinux2014_x86_64.whl.metadata (6.0 kB)\n",
            "Requirement already satisfied: httpx in /usr/local/lib/python3.11/dist-packages (from rio-tiler->localtileserver->geoai-py) (0.28.1)\n",
            "Requirement already satisfied: numexpr in /usr/local/lib/python3.11/dist-packages (from rio-tiler->localtileserver->geoai-py) (2.10.2)\n",
            "Collecting uvicorn (from server-thread->localtileserver->geoai-py)\n",
            "  Downloading uvicorn-0.34.0-py3-none-any.whl.metadata (6.5 kB)\n",
            "Requirement already satisfied: ipytree in /usr/local/lib/python3.11/dist-packages (from whiteboxgui->leafmap->geoai-py) (0.2.2)\n",
            "Requirement already satisfied: whitebox in /usr/local/lib/python3.11/dist-packages (from whiteboxgui->leafmap->geoai-py) (2.3.6)\n",
            "Requirement already satisfied: sniffio>=1.1 in /usr/local/lib/python3.11/dist-packages (from anyio<4,>=3.1.0->jupyter-server>=1.24.0->jupyter-server-proxy->geoai-py) (1.3.1)\n",
            "Collecting antlr4-python3-runtime==4.9.* (from hydra-core>=1.0.0->lightly!=1.4.26,>=1.4.5->torchgeo->geoai-py)\n",
            "  Downloading antlr4-python3-runtime-4.9.3.tar.gz (117 kB)\n",
            "\u001b[2K     \u001b[90m━━━━━━━━━━━━━━━━━━━━━━━━━━━━━━━━━━━━━━━━\u001b[0m \u001b[32m117.0/117.0 kB\u001b[0m \u001b[31m9.9 MB/s\u001b[0m eta \u001b[36m0:00:00\u001b[0m\n",
            "\u001b[?25h  Preparing metadata (setup.py) ... \u001b[?25l\u001b[?25hdone\n",
            "Requirement already satisfied: debugpy>=1.0 in /usr/local/lib/python3.11/dist-packages (from ipykernel>=4.5.1->ipywidgets->leafmap->geoai-py) (1.8.0)\n",
            "Requirement already satisfied: matplotlib-inline>=0.1 in /usr/local/lib/python3.11/dist-packages (from ipykernel>=4.5.1->ipywidgets->leafmap->geoai-py) (0.1.7)\n",
            "Requirement already satisfied: nest-asyncio in /usr/local/lib/python3.11/dist-packages (from ipykernel>=4.5.1->ipywidgets->leafmap->geoai-py) (1.6.0)\n",
            "Requirement already satisfied: setuptools>=18.5 in /usr/local/lib/python3.11/dist-packages (from ipython>=4.0.0->ipywidgets->leafmap->geoai-py) (75.1.0)\n",
            "Requirement already satisfied: jedi>=0.16 in /usr/local/lib/python3.11/dist-packages (from ipython>=4.0.0->ipywidgets->leafmap->geoai-py) (0.19.2)\n",
            "Requirement already satisfied: decorator in /usr/local/lib/python3.11/dist-packages (from ipython>=4.0.0->ipywidgets->leafmap->geoai-py) (4.4.2)\n",
            "Requirement already satisfied: pickleshare in /usr/local/lib/python3.11/dist-packages (from ipython>=4.0.0->ipywidgets->leafmap->geoai-py) (0.7.5)\n",
            "Requirement already satisfied: prompt-toolkit!=3.0.0,!=3.0.1,<3.1.0,>=2.0.0 in /usr/local/lib/python3.11/dist-packages (from ipython>=4.0.0->ipywidgets->leafmap->geoai-py) (3.0.50)\n",
            "Requirement already satisfied: pygments in /usr/local/lib/python3.11/dist-packages (from ipython>=4.0.0->ipywidgets->leafmap->geoai-py) (2.18.0)\n",
            "Requirement already satisfied: backcall in /usr/local/lib/python3.11/dist-packages (from ipython>=4.0.0->ipywidgets->leafmap->geoai-py) (0.2.0)\n",
            "Requirement already satisfied: pexpect>4.3 in /usr/local/lib/python3.11/dist-packages (from ipython>=4.0.0->ipywidgets->leafmap->geoai-py) (4.9.0)\n",
            "Requirement already satisfied: docstring-parser>=0.15 in /usr/local/lib/python3.11/dist-packages (from jsonargparse[signatures]<5.0,>=4.27.7; extra == \"pytorch-extra\"->lightning[pytorch-extra]!=2.3.*,>=2->torchgeo->geoai-py) (0.16)\n",
            "Collecting typeshed-client>=2.1.0 (from jsonargparse[signatures]<5.0,>=4.27.7; extra == \"pytorch-extra\"->lightning[pytorch-extra]!=2.3.*,>=2->torchgeo->geoai-py)\n",
            "  Downloading typeshed_client-2.7.0-py3-none-any.whl.metadata (7.9 kB)\n",
            "Requirement already satisfied: jsonschema-specifications>=2023.03.6 in /usr/local/lib/python3.11/dist-packages (from jsonschema->flask-restx>=1.3.0->localtileserver->geoai-py) (2024.10.1)\n",
            "Requirement already satisfied: referencing>=0.28.4 in /usr/local/lib/python3.11/dist-packages (from jsonschema->flask-restx>=1.3.0->localtileserver->geoai-py) (0.36.2)\n",
            "Requirement already satisfied: rpds-py>=0.7.1 in /usr/local/lib/python3.11/dist-packages (from jsonschema->flask-restx>=1.3.0->localtileserver->geoai-py) (0.23.1)\n",
            "Requirement already satisfied: platformdirs>=2.5 in /usr/local/lib/python3.11/dist-packages (from jupyter-core!=5.0.*,>=4.12->jupyter-server>=1.24.0->jupyter-server-proxy->geoai-py) (4.3.6)\n",
            "Requirement already satisfied: bleach!=5.0.0 in /usr/local/lib/python3.11/dist-packages (from bleach[css]!=5.0.0->nbconvert>=6.4.4->jupyter-server>=1.24.0->jupyter-server-proxy->geoai-py) (6.2.0)\n",
            "Requirement already satisfied: defusedxml in /usr/local/lib/python3.11/dist-packages (from nbconvert>=6.4.4->jupyter-server>=1.24.0->jupyter-server-proxy->geoai-py) (0.7.1)\n",
            "Requirement already satisfied: jupyterlab-pygments in /usr/local/lib/python3.11/dist-packages (from nbconvert>=6.4.4->jupyter-server>=1.24.0->jupyter-server-proxy->geoai-py) (0.3.0)\n",
            "Requirement already satisfied: mistune<4,>=2.0.3 in /usr/local/lib/python3.11/dist-packages (from nbconvert>=6.4.4->jupyter-server>=1.24.0->jupyter-server-proxy->geoai-py) (3.1.2)\n",
            "Requirement already satisfied: nbclient>=0.5.0 in /usr/local/lib/python3.11/dist-packages (from nbconvert>=6.4.4->jupyter-server>=1.24.0->jupyter-server-proxy->geoai-py) (0.10.2)\n",
            "Requirement already satisfied: pandocfilters>=1.4.1 in /usr/local/lib/python3.11/dist-packages (from nbconvert>=6.4.4->jupyter-server>=1.24.0->jupyter-server-proxy->geoai-py) (1.5.1)\n",
            "Requirement already satisfied: fastjsonschema>=2.15 in /usr/local/lib/python3.11/dist-packages (from nbformat>=5.2.0->jupyter-server>=1.24.0->jupyter-server-proxy->geoai-py) (2.21.1)\n",
            "Collecting munch (from pretrainedmodels>=0.7.1->segmentation-models-pytorch>=0.2->torchgeo->geoai-py)\n",
            "  Downloading munch-4.0.0-py2.py3-none-any.whl.metadata (5.9 kB)\n",
            "Requirement already satisfied: markdown-it-py>=2.2.0 in /usr/local/lib/python3.11/dist-packages (from rich<14.0,>=12.3.0->lightning[pytorch-extra]!=2.3.*,>=2->torchgeo->geoai-py) (3.0.0)\n",
            "Requirement already satisfied: protobuf>=3.20 in /usr/local/lib/python3.11/dist-packages (from tensorboardX<3.0,>=2.2->lightning[pytorch-extra]!=2.3.*,>=2->torchgeo->geoai-py) (4.25.6)\n",
            "Requirement already satisfied: ptyprocess in /usr/local/lib/python3.11/dist-packages (from terminado>=0.8.3->jupyter-server>=1.24.0->jupyter-server-proxy->geoai-py) (0.7.0)\n",
            "Requirement already satisfied: notebook>=4.4.1 in /usr/local/lib/python3.11/dist-packages (from widgetsnbextension~=3.6.0->ipywidgets->leafmap->geoai-py) (6.5.5)\n",
            "Requirement already satisfied: argon2-cffi-bindings in /usr/local/lib/python3.11/dist-packages (from argon2-cffi->jupyter-server>=1.24.0->jupyter-server-proxy->geoai-py) (21.2.0)\n",
            "Requirement already satisfied: soupsieve>1.2 in /usr/local/lib/python3.11/dist-packages (from beautifulsoup4->gdown->leafmap->geoai-py) (2.6)\n",
            "Requirement already satisfied: httpcore==1.* in /usr/local/lib/python3.11/dist-packages (from httpx->rio-tiler->localtileserver->geoai-py) (1.0.7)\n",
            "Requirement already satisfied: h11<0.15,>=0.13 in /usr/local/lib/python3.11/dist-packages (from httpcore==1.*->httpx->rio-tiler->localtileserver->geoai-py) (0.14.0)\n",
            "Requirement already satisfied: PySocks!=1.5.7,>=1.5.6 in /usr/local/lib/python3.11/dist-packages (from requests[socks]->gdown->leafmap->geoai-py) (1.7.1)\n",
            "Requirement already satisfied: webencodings in /usr/local/lib/python3.11/dist-packages (from bleach!=5.0.0->bleach[css]!=5.0.0->nbconvert>=6.4.4->jupyter-server>=1.24.0->jupyter-server-proxy->geoai-py) (0.5.1)\n",
            "Requirement already satisfied: tinycss2<1.5,>=1.1.0 in /usr/local/lib/python3.11/dist-packages (from bleach[css]!=5.0.0->nbconvert>=6.4.4->jupyter-server>=1.24.0->jupyter-server-proxy->geoai-py) (1.4.0)\n",
            "Requirement already satisfied: parso<0.9.0,>=0.8.4 in /usr/local/lib/python3.11/dist-packages (from jedi>=0.16->ipython>=4.0.0->ipywidgets->leafmap->geoai-py) (0.8.4)\n",
            "Requirement already satisfied: mdurl~=0.1 in /usr/local/lib/python3.11/dist-packages (from markdown-it-py>=2.2.0->rich<14.0,>=12.3.0->lightning[pytorch-extra]!=2.3.*,>=2->torchgeo->geoai-py) (0.1.2)\n",
            "Requirement already satisfied: nbclassic>=0.4.7 in /usr/local/lib/python3.11/dist-packages (from notebook>=4.4.1->widgetsnbextension~=3.6.0->ipywidgets->leafmap->geoai-py) (1.2.0)\n",
            "Requirement already satisfied: wcwidth in /usr/local/lib/python3.11/dist-packages (from prompt-toolkit!=3.0.0,!=3.0.1,<3.1.0,>=2.0.0->ipython>=4.0.0->ipywidgets->leafmap->geoai-py) (0.2.13)\n",
            "Requirement already satisfied: cffi>=1.0.1 in /usr/local/lib/python3.11/dist-packages (from argon2-cffi-bindings->argon2-cffi->jupyter-server>=1.24.0->jupyter-server-proxy->geoai-py) (1.17.1)\n",
            "Requirement already satisfied: pycparser in /usr/local/lib/python3.11/dist-packages (from cffi>=1.0.1->argon2-cffi-bindings->argon2-cffi->jupyter-server>=1.24.0->jupyter-server-proxy->geoai-py) (2.22)\n",
            "Requirement already satisfied: notebook-shim>=0.2.3 in /usr/local/lib/python3.11/dist-packages (from nbclassic>=0.4.7->notebook>=4.4.1->widgetsnbextension~=3.6.0->ipywidgets->leafmap->geoai-py) (0.2.4)\n",
            "Downloading geoai_py-0.4.1-py2.py3-none-any.whl (100 kB)\n",
            "\u001b[2K   \u001b[90m━━━━━━━━━━━━━━━━━━━━━━━━━━━━━━━━━━━━━━━━\u001b[0m \u001b[32m100.6/100.6 kB\u001b[0m \u001b[31m8.4 MB/s\u001b[0m eta \u001b[36m0:00:00\u001b[0m\n",
            "\u001b[?25hDownloading contextily-1.6.2-py3-none-any.whl (17 kB)\n",
            "Downloading jupyter_server_proxy-4.4.0-py3-none-any.whl (37 kB)\n",
            "Downloading localtileserver-0.10.6-py3-none-any.whl (17.1 MB)\n",
            "\u001b[2K   \u001b[90m━━━━━━━━━━━━━━━━━━━━━━━━━━━━━━━━━━━━━━━━\u001b[0m \u001b[32m17.1/17.1 MB\u001b[0m \u001b[31m84.6 MB/s\u001b[0m eta \u001b[36m0:00:00\u001b[0m\n",
            "\u001b[?25hDownloading mapclassify-2.8.1-py3-none-any.whl (59 kB)\n",
            "\u001b[2K   \u001b[90m━━━━━━━━━━━━━━━━━━━━━━━━━━━━━━━━━━━━━━━━\u001b[0m \u001b[32m59.1/59.1 kB\u001b[0m \u001b[31m4.9 MB/s\u001b[0m eta \u001b[36m0:00:00\u001b[0m\n",
            "\u001b[?25hDownloading overturemaps-0.12.0-py3-none-any.whl (9.9 kB)\n",
            "Downloading planetary_computer-1.0.0-py3-none-any.whl (14 kB)\n",
            "Downloading rasterio-1.4.3-cp311-cp311-manylinux_2_17_x86_64.manylinux2014_x86_64.whl (22.2 MB)\n",
            "\u001b[2K   \u001b[90m━━━━━━━━━━━━━━━━━━━━━━━━━━━━━━━━━━━━━━━━\u001b[0m \u001b[32m22.2/22.2 MB\u001b[0m \u001b[31m83.0 MB/s\u001b[0m eta \u001b[36m0:00:00\u001b[0m\n",
            "\u001b[?25hDownloading rioxarray-0.18.2-py3-none-any.whl (61 kB)\n",
            "\u001b[2K   \u001b[90m━━━━━━━━━━━━━━━━━━━━━━━━━━━━━━━━━━━━━━━━\u001b[0m \u001b[32m61.9/61.9 kB\u001b[0m \u001b[31m4.9 MB/s\u001b[0m eta \u001b[36m0:00:00\u001b[0m\n",
            "\u001b[?25hDownloading nvidia_cublas_cu12-12.4.5.8-py3-none-manylinux2014_x86_64.whl (363.4 MB)\n",
            "\u001b[2K   \u001b[90m━━━━━━━━━━━━━━━━━━━━━━━━━━━━━━━━━━━━━━━━\u001b[0m \u001b[32m363.4/363.4 MB\u001b[0m \u001b[31m1.3 MB/s\u001b[0m eta \u001b[36m0:00:00\u001b[0m\n",
            "\u001b[?25hDownloading nvidia_cuda_cupti_cu12-12.4.127-py3-none-manylinux2014_x86_64.whl (13.8 MB)\n",
            "\u001b[2K   \u001b[90m━━━━━━━━━━━━━━━━━━━━━━━━━━━━━━━━━━━━━━━━\u001b[0m \u001b[32m13.8/13.8 MB\u001b[0m \u001b[31m93.5 MB/s\u001b[0m eta \u001b[36m0:00:00\u001b[0m\n",
            "\u001b[?25hDownloading nvidia_cuda_nvrtc_cu12-12.4.127-py3-none-manylinux2014_x86_64.whl (24.6 MB)\n",
            "\u001b[2K   \u001b[90m━━━━━━━━━━━━━━━━━━━━━━━━━━━━━━━━━━━━━━━━\u001b[0m \u001b[32m24.6/24.6 MB\u001b[0m \u001b[31m68.4 MB/s\u001b[0m eta \u001b[36m0:00:00\u001b[0m\n",
            "\u001b[?25hDownloading nvidia_cuda_runtime_cu12-12.4.127-py3-none-manylinux2014_x86_64.whl (883 kB)\n",
            "\u001b[2K   \u001b[90m━━━━━━━━━━━━━━━━━━━━━━━━━━━━━━━━━━━━━━━━\u001b[0m \u001b[32m883.7/883.7 kB\u001b[0m \u001b[31m47.6 MB/s\u001b[0m eta \u001b[36m0:00:00\u001b[0m\n",
            "\u001b[?25hDownloading nvidia_cudnn_cu12-9.1.0.70-py3-none-manylinux2014_x86_64.whl (664.8 MB)\n",
            "\u001b[2K   \u001b[90m━━━━━━━━━━━━━━━━━━━━━━━━━━━━━━━━━━━━━━━━\u001b[0m \u001b[32m664.8/664.8 MB\u001b[0m \u001b[31m2.8 MB/s\u001b[0m eta \u001b[36m0:00:00\u001b[0m\n",
            "\u001b[?25hDownloading nvidia_cufft_cu12-11.2.1.3-py3-none-manylinux2014_x86_64.whl (211.5 MB)\n",
            "\u001b[2K   \u001b[90m━━━━━━━━━━━━━━━━━━━━━━━━━━━━━━━━━━━━━━━━\u001b[0m \u001b[32m211.5/211.5 MB\u001b[0m \u001b[31m5.7 MB/s\u001b[0m eta \u001b[36m0:00:00\u001b[0m\n",
            "\u001b[?25hDownloading nvidia_curand_cu12-10.3.5.147-py3-none-manylinux2014_x86_64.whl (56.3 MB)\n",
            "\u001b[2K   \u001b[90m━━━━━━━━━━━━━━━━━━━━━━━━━━━━━━━━━━━━━━━━\u001b[0m \u001b[32m56.3/56.3 MB\u001b[0m \u001b[31m11.4 MB/s\u001b[0m eta \u001b[36m0:00:00\u001b[0m\n",
            "\u001b[?25hDownloading nvidia_cusolver_cu12-11.6.1.9-py3-none-manylinux2014_x86_64.whl (127.9 MB)\n",
            "\u001b[2K   \u001b[90m━━━━━━━━━━━━━━━━━━━━━━━━━━━━━━━━━━━━━━━━\u001b[0m \u001b[32m127.9/127.9 MB\u001b[0m \u001b[31m7.3 MB/s\u001b[0m eta \u001b[36m0:00:00\u001b[0m\n",
            "\u001b[?25hDownloading nvidia_cusparse_cu12-12.3.1.170-py3-none-manylinux2014_x86_64.whl (207.5 MB)\n",
            "\u001b[2K   \u001b[90m━━━━━━━━━━━━━━━━━━━━━━━━━━━━━━━━━━━━━━━━\u001b[0m \u001b[32m207.5/207.5 MB\u001b[0m \u001b[31m5.9 MB/s\u001b[0m eta \u001b[36m0:00:00\u001b[0m\n",
            "\u001b[?25hDownloading nvidia_nvjitlink_cu12-12.4.127-py3-none-manylinux2014_x86_64.whl (21.1 MB)\n",
            "\u001b[2K   \u001b[90m━━━━━━━━━━━━━━━━━━━━━━━━━━━━━━━━━━━━━━━━\u001b[0m \u001b[32m21.1/21.1 MB\u001b[0m \u001b[31m78.9 MB/s\u001b[0m eta \u001b[36m0:00:00\u001b[0m\n",
            "\u001b[?25hDownloading torchgeo-0.6.2-py3-none-any.whl (454 kB)\n",
            "\u001b[2K   \u001b[90m━━━━━━━━━━━━━━━━━━━━━━━━━━━━━━━━━━━━━━━━\u001b[0m \u001b[32m454.7/454.7 kB\u001b[0m \u001b[31m30.7 MB/s\u001b[0m eta \u001b[36m0:00:00\u001b[0m\n",
            "\u001b[?25hDownloading cligj-0.7.2-py3-none-any.whl (7.1 kB)\n",
            "Downloading fiona-1.10.1-cp311-cp311-manylinux_2_17_x86_64.manylinux2014_x86_64.whl (17.3 MB)\n",
            "\u001b[2K   \u001b[90m━━━━━━━━━━━━━━━━━━━━━━━━━━━━━━━━━━━━━━━━\u001b[0m \u001b[32m17.3/17.3 MB\u001b[0m \u001b[31m84.7 MB/s\u001b[0m eta \u001b[36m0:00:00\u001b[0m\n",
            "\u001b[?25hDownloading click_plugins-1.1.1-py2.py3-none-any.whl (7.5 kB)\n",
            "Downloading flask_restx-1.3.0-py2.py3-none-any.whl (2.8 MB)\n",
            "\u001b[2K   \u001b[90m━━━━━━━━━━━━━━━━━━━━━━━━━━━━━━━━━━━━━━━━\u001b[0m \u001b[32m2.8/2.8 MB\u001b[0m \u001b[31m77.3 MB/s\u001b[0m eta \u001b[36m0:00:00\u001b[0m\n",
            "\u001b[?25hDownloading kornia-0.8.0-py2.py3-none-any.whl (1.1 MB)\n",
            "\u001b[2K   \u001b[90m━━━━━━━━━━━━━━━━━━━━━━━━━━━━━━━━━━━━━━━━\u001b[0m \u001b[32m1.1/1.1 MB\u001b[0m \u001b[31m53.1 MB/s\u001b[0m eta \u001b[36m0:00:00\u001b[0m\n",
            "\u001b[?25hDownloading lightly-1.5.19-py3-none-any.whl (850 kB)\n",
            "\u001b[2K   \u001b[90m━━━━━━━━━━━━━━━━━━━━━━━━━━━━━━━━━━━━━━━━\u001b[0m \u001b[32m850.8/850.8 kB\u001b[0m \u001b[31m41.9 MB/s\u001b[0m eta \u001b[36m0:00:00\u001b[0m\n",
            "\u001b[?25hDownloading lightning-2.5.0.post0-py3-none-any.whl (815 kB)\n",
            "\u001b[2K   \u001b[90m━━━━━━━━━━━━━━━━━━━━━━━━━━━━━━━━━━━━━━━━\u001b[0m \u001b[32m815.2/815.2 kB\u001b[0m \u001b[31m47.3 MB/s\u001b[0m eta \u001b[36m0:00:00\u001b[0m\n",
            "\u001b[?25hDownloading rtree-1.4.0-py3-none-manylinux2014_x86_64.manylinux_2_17_x86_64.whl (541 kB)\n",
            "\u001b[2K   \u001b[90m━━━━━━━━━━━━━━━━━━━━━━━━━━━━━━━━━━━━━━━━\u001b[0m \u001b[32m541.1/541.1 kB\u001b[0m \u001b[31m34.7 MB/s\u001b[0m eta \u001b[36m0:00:00\u001b[0m\n",
            "\u001b[?25hDownloading segmentation_models_pytorch-0.4.0-py3-none-any.whl (121 kB)\n",
            "\u001b[2K   \u001b[90m━━━━━━━━━━━━━━━━━━━━━━━━━━━━━━━━━━━━━━━━\u001b[0m \u001b[32m121.3/121.3 kB\u001b[0m \u001b[31m9.8 MB/s\u001b[0m eta \u001b[36m0:00:00\u001b[0m\n",
            "\u001b[?25hDownloading simpervisor-1.0.0-py3-none-any.whl (8.3 kB)\n",
            "Downloading torchmetrics-1.6.3-py3-none-any.whl (931 kB)\n",
            "\u001b[2K   \u001b[90m━━━━━━━━━━━━━━━━━━━━━━━━━━━━━━━━━━━━━━━━\u001b[0m \u001b[32m931.7/931.7 kB\u001b[0m \u001b[31m52.5 MB/s\u001b[0m eta \u001b[36m0:00:00\u001b[0m\n",
            "\u001b[?25hDownloading affine-2.4.0-py3-none-any.whl (15 kB)\n",
            "Downloading Flask_Caching-2.3.1-py3-none-any.whl (28 kB)\n",
            "Downloading flask_cors-5.0.1-py3-none-any.whl (11 kB)\n",
            "Downloading mercantile-1.2.1-py3-none-any.whl (14 kB)\n",
            "Downloading python_dotenv-1.0.1-py3-none-any.whl (19 kB)\n",
            "Downloading rio_cogeo-5.4.1-py3-none-any.whl (20 kB)\n",
            "Downloading rio_tiler-7.5.0-py3-none-any.whl (267 kB)\n",
            "\u001b[2K   \u001b[90m━━━━━━━━━━━━━━━━━━━━━━━━━━━━━━━━━━━━━━━━\u001b[0m \u001b[32m267.5/267.5 kB\u001b[0m \u001b[31m19.8 MB/s\u001b[0m eta \u001b[36m0:00:00\u001b[0m\n",
            "\u001b[?25hDownloading server_thread-0.3.0-py3-none-any.whl (6.6 kB)\n",
            "Downloading aenum-3.1.15-py3-none-any.whl (137 kB)\n",
            "\u001b[2K   \u001b[90m━━━━━━━━━━━━━━━━━━━━━━━━━━━━━━━━━━━━━━━━\u001b[0m \u001b[32m137.6/137.6 kB\u001b[0m \u001b[31m10.6 MB/s\u001b[0m eta \u001b[36m0:00:00\u001b[0m\n",
            "\u001b[?25hDownloading aniso8601-10.0.0-py2.py3-none-any.whl (52 kB)\n",
            "\u001b[2K   \u001b[90m━━━━━━━━━━━━━━━━━━━━━━━━━━━━━━━━━━━━━━━━\u001b[0m \u001b[32m52.8/52.8 kB\u001b[0m \u001b[31m4.5 MB/s\u001b[0m eta \u001b[36m0:00:00\u001b[0m\n",
            "\u001b[?25hDownloading bitsandbytes-0.45.3-py3-none-manylinux_2_24_x86_64.whl (76.1 MB)\n",
            "\u001b[2K   \u001b[90m━━━━━━━━━━━━━━━━━━━━━━━━━━━━━━━━━━━━━━━━\u001b[0m \u001b[32m76.1/76.1 MB\u001b[0m \u001b[31m10.8 MB/s\u001b[0m eta \u001b[36m0:00:00\u001b[0m\n",
            "\u001b[?25hDownloading cachelib-0.13.0-py3-none-any.whl (20 kB)\n",
            "Downloading hydra_core-1.3.2-py3-none-any.whl (154 kB)\n",
            "\u001b[2K   \u001b[90m━━━━━━━━━━━━━━━━━━━━━━━━━━━━━━━━━━━━━━━━\u001b[0m \u001b[32m154.5/154.5 kB\u001b[0m \u001b[31m12.9 MB/s\u001b[0m eta \u001b[36m0:00:00\u001b[0m\n",
            "\u001b[?25hDownloading jsonargparse-4.37.0-py3-none-any.whl (216 kB)\n",
            "\u001b[2K   \u001b[90m━━━━━━━━━━━━━━━━━━━━━━━━━━━━━━━━━━━━━━━━\u001b[0m \u001b[32m216.3/216.3 kB\u001b[0m \u001b[31m17.1 MB/s\u001b[0m eta \u001b[36m0:00:00\u001b[0m\n",
            "\u001b[?25hDownloading kornia_rs-0.1.8-cp311-cp311-manylinux_2_17_x86_64.manylinux2014_x86_64.whl (2.1 MB)\n",
            "\u001b[2K   \u001b[90m━━━━━━━━━━━━━━━━━━━━━━━━━━━━━━━━━━━━━━━━\u001b[0m \u001b[32m2.1/2.1 MB\u001b[0m \u001b[31m73.9 MB/s\u001b[0m eta \u001b[36m0:00:00\u001b[0m\n",
            "\u001b[?25hDownloading lightly_utils-0.0.2-py3-none-any.whl (6.4 kB)\n",
            "Downloading lightning_utilities-0.14.1-py3-none-any.whl (28 kB)\n",
            "Downloading morecantile-6.2.0-py3-none-any.whl (49 kB)\n",
            "\u001b[2K   \u001b[90m━━━━━━━━━━━━━━━━━━━━━━━━━━━━━━━━━━━━━━━━\u001b[0m \u001b[32m49.5/49.5 kB\u001b[0m \u001b[31m3.7 MB/s\u001b[0m eta \u001b[36m0:00:00\u001b[0m\n",
            "\u001b[?25hDownloading omegaconf-2.3.0-py3-none-any.whl (79 kB)\n",
            "\u001b[2K   \u001b[90m━━━━━━━━━━━━━━━━━━━━━━━━━━━━━━━━━━━━━━━━\u001b[0m \u001b[32m79.5/79.5 kB\u001b[0m \u001b[31m6.5 MB/s\u001b[0m eta \u001b[36m0:00:00\u001b[0m\n",
            "\u001b[?25hDownloading pytorch_lightning-2.5.0.post0-py3-none-any.whl (819 kB)\n",
            "\u001b[2K   \u001b[90m━━━━━━━━━━━━━━━━━━━━━━━━━━━━━━━━━━━━━━━━\u001b[0m \u001b[32m819.3/819.3 kB\u001b[0m \u001b[31m46.3 MB/s\u001b[0m eta \u001b[36m0:00:00\u001b[0m\n",
            "\u001b[?25hDownloading tensorboardX-2.6.2.2-py2.py3-none-any.whl (101 kB)\n",
            "\u001b[2K   \u001b[90m━━━━━━━━━━━━━━━━━━━━━━━━━━━━━━━━━━━━━━━━\u001b[0m \u001b[32m101.7/101.7 kB\u001b[0m \u001b[31m8.7 MB/s\u001b[0m eta \u001b[36m0:00:00\u001b[0m\n",
            "\u001b[?25hDownloading color_operations-0.1.6-cp311-cp311-manylinux_2_5_x86_64.manylinux1_x86_64.manylinux_2_17_x86_64.manylinux2014_x86_64.whl (195 kB)\n",
            "\u001b[2K   \u001b[90m━━━━━━━━━━━━━━━━━━━━━━━━━━━━━━━━━━━━━━━━\u001b[0m \u001b[32m195.0/195.0 kB\u001b[0m \u001b[31m16.5 MB/s\u001b[0m eta \u001b[36m0:00:00\u001b[0m\n",
            "\u001b[?25hDownloading uvicorn-0.34.0-py3-none-any.whl (62 kB)\n",
            "\u001b[2K   \u001b[90m━━━━━━━━━━━━━━━━━━━━━━━━━━━━━━━━━━━━━━━━\u001b[0m \u001b[32m62.3/62.3 kB\u001b[0m \u001b[31m5.0 MB/s\u001b[0m eta \u001b[36m0:00:00\u001b[0m\n",
            "\u001b[?25hDownloading typeshed_client-2.7.0-py3-none-any.whl (624 kB)\n",
            "\u001b[2K   \u001b[90m━━━━━━━━━━━━━━━━━━━━━━━━━━━━━━━━━━━━━━━━\u001b[0m \u001b[32m624.4/624.4 kB\u001b[0m \u001b[31m37.3 MB/s\u001b[0m eta \u001b[36m0:00:00\u001b[0m\n",
            "\u001b[?25hDownloading munch-4.0.0-py2.py3-none-any.whl (9.9 kB)\n",
            "Building wheels for collected packages: efficientnet-pytorch, antlr4-python3-runtime, pretrainedmodels\n",
            "  Building wheel for efficientnet-pytorch (setup.py) ... \u001b[?25l\u001b[?25hdone\n",
            "  Created wheel for efficientnet-pytorch: filename=efficientnet_pytorch-0.7.1-py3-none-any.whl size=16424 sha256=64948c7ba6201093dfab5601cfb08f921130f09a24e464f8d24d50a01a81760b\n",
            "  Stored in directory: /root/.cache/pip/wheels/8b/6f/9b/231a832f811ab6ebb1b32455b177ffc6b8b1cd8de19de70c09\n",
            "  Building wheel for antlr4-python3-runtime (setup.py) ... \u001b[?25l\u001b[?25hdone\n",
            "  Created wheel for antlr4-python3-runtime: filename=antlr4_python3_runtime-4.9.3-py3-none-any.whl size=144555 sha256=8c0af27dbdcf697a92bdf03a6c287ec97ccd29f976995f0c21717ba9b5ee310d\n",
            "  Stored in directory: /root/.cache/pip/wheels/1a/97/32/461f837398029ad76911109f07047fde1d7b661a147c7c56d1\n",
            "  Building wheel for pretrainedmodels (setup.py) ... \u001b[?25l\u001b[?25hdone\n",
            "  Created wheel for pretrainedmodels: filename=pretrainedmodels-0.7.4-py3-none-any.whl size=60944 sha256=ce28fb21d9c94aae9127178c38dfa6ddc3aae315a7c1841a762d44bbb0ba565e\n",
            "  Stored in directory: /root/.cache/pip/wheels/5f/5b/96/fd94bc35962d7c6b699e8814db545155ac91d2b95785e1b035\n",
            "Successfully built efficientnet-pytorch antlr4-python3-runtime pretrainedmodels\n",
            "Installing collected packages: antlr4-python3-runtime, aniso8601, aenum, uvicorn, typeshed-client, tensorboardX, simpervisor, rtree, python-dotenv, omegaconf, nvidia-nvjitlink-cu12, nvidia-curand-cu12, nvidia-cufft-cu12, nvidia-cuda-runtime-cu12, nvidia-cuda-nvrtc-cu12, nvidia-cuda-cupti-cu12, nvidia-cublas-cu12, munch, mercantile, lightning-utilities, lightly_utils, kornia_rs, jsonargparse, color-operations, cligj, click-plugins, cachelib, affine, server-thread, rasterio, overturemaps, nvidia-cusparse-cu12, nvidia-cudnn-cu12, hydra-core, fiona, nvidia-cusolver-cu12, morecantile, mapclassify, flask-cors, Flask-Caching, contextily, rioxarray, rio-tiler, rio-cogeo, flask-restx, torchmetrics, localtileserver, kornia, efficientnet-pytorch, bitsandbytes, pytorch_lightning, pretrainedmodels, planetary-computer, segmentation-models-pytorch, lightning, lightly, jupyter-server-proxy, torchgeo, geoai-py\n",
            "  Attempting uninstall: nvidia-nvjitlink-cu12\n",
            "    Found existing installation: nvidia-nvjitlink-cu12 12.5.82\n",
            "    Uninstalling nvidia-nvjitlink-cu12-12.5.82:\n",
            "      Successfully uninstalled nvidia-nvjitlink-cu12-12.5.82\n",
            "  Attempting uninstall: nvidia-curand-cu12\n",
            "    Found existing installation: nvidia-curand-cu12 10.3.6.82\n",
            "    Uninstalling nvidia-curand-cu12-10.3.6.82:\n",
            "      Successfully uninstalled nvidia-curand-cu12-10.3.6.82\n",
            "  Attempting uninstall: nvidia-cufft-cu12\n",
            "    Found existing installation: nvidia-cufft-cu12 11.2.3.61\n",
            "    Uninstalling nvidia-cufft-cu12-11.2.3.61:\n",
            "      Successfully uninstalled nvidia-cufft-cu12-11.2.3.61\n",
            "  Attempting uninstall: nvidia-cuda-runtime-cu12\n",
            "    Found existing installation: nvidia-cuda-runtime-cu12 12.5.82\n",
            "    Uninstalling nvidia-cuda-runtime-cu12-12.5.82:\n",
            "      Successfully uninstalled nvidia-cuda-runtime-cu12-12.5.82\n",
            "  Attempting uninstall: nvidia-cuda-nvrtc-cu12\n",
            "    Found existing installation: nvidia-cuda-nvrtc-cu12 12.5.82\n",
            "    Uninstalling nvidia-cuda-nvrtc-cu12-12.5.82:\n",
            "      Successfully uninstalled nvidia-cuda-nvrtc-cu12-12.5.82\n",
            "  Attempting uninstall: nvidia-cuda-cupti-cu12\n",
            "    Found existing installation: nvidia-cuda-cupti-cu12 12.5.82\n",
            "    Uninstalling nvidia-cuda-cupti-cu12-12.5.82:\n",
            "      Successfully uninstalled nvidia-cuda-cupti-cu12-12.5.82\n",
            "  Attempting uninstall: nvidia-cublas-cu12\n",
            "    Found existing installation: nvidia-cublas-cu12 12.5.3.2\n",
            "    Uninstalling nvidia-cublas-cu12-12.5.3.2:\n",
            "      Successfully uninstalled nvidia-cublas-cu12-12.5.3.2\n",
            "  Attempting uninstall: nvidia-cusparse-cu12\n",
            "    Found existing installation: nvidia-cusparse-cu12 12.5.1.3\n",
            "    Uninstalling nvidia-cusparse-cu12-12.5.1.3:\n",
            "      Successfully uninstalled nvidia-cusparse-cu12-12.5.1.3\n",
            "  Attempting uninstall: nvidia-cudnn-cu12\n",
            "    Found existing installation: nvidia-cudnn-cu12 9.3.0.75\n",
            "    Uninstalling nvidia-cudnn-cu12-9.3.0.75:\n",
            "      Successfully uninstalled nvidia-cudnn-cu12-9.3.0.75\n",
            "  Attempting uninstall: nvidia-cusolver-cu12\n",
            "    Found existing installation: nvidia-cusolver-cu12 11.6.3.83\n",
            "    Uninstalling nvidia-cusolver-cu12-11.6.3.83:\n",
            "      Successfully uninstalled nvidia-cusolver-cu12-11.6.3.83\n",
            "Successfully installed Flask-Caching-2.3.1 aenum-3.1.15 affine-2.4.0 aniso8601-10.0.0 antlr4-python3-runtime-4.9.3 bitsandbytes-0.45.3 cachelib-0.13.0 click-plugins-1.1.1 cligj-0.7.2 color-operations-0.1.6 contextily-1.6.2 efficientnet-pytorch-0.7.1 fiona-1.10.1 flask-cors-5.0.1 flask-restx-1.3.0 geoai-py-0.4.1 hydra-core-1.3.2 jsonargparse-4.37.0 jupyter-server-proxy-4.4.0 kornia-0.8.0 kornia_rs-0.1.8 lightly-1.5.19 lightly_utils-0.0.2 lightning-2.5.0.post0 lightning-utilities-0.14.1 localtileserver-0.10.6 mapclassify-2.8.1 mercantile-1.2.1 morecantile-6.2.0 munch-4.0.0 nvidia-cublas-cu12-12.4.5.8 nvidia-cuda-cupti-cu12-12.4.127 nvidia-cuda-nvrtc-cu12-12.4.127 nvidia-cuda-runtime-cu12-12.4.127 nvidia-cudnn-cu12-9.1.0.70 nvidia-cufft-cu12-11.2.1.3 nvidia-curand-cu12-10.3.5.147 nvidia-cusolver-cu12-11.6.1.9 nvidia-cusparse-cu12-12.3.1.170 nvidia-nvjitlink-cu12-12.4.127 omegaconf-2.3.0 overturemaps-0.12.0 planetary-computer-1.0.0 pretrainedmodels-0.7.4 python-dotenv-1.0.1 pytorch_lightning-2.5.0.post0 rasterio-1.4.3 rio-cogeo-5.4.1 rio-tiler-7.5.0 rioxarray-0.18.2 rtree-1.4.0 segmentation-models-pytorch-0.4.0 server-thread-0.3.0 simpervisor-1.0.0 tensorboardX-2.6.2.2 torchgeo-0.6.2 torchmetrics-1.6.3 typeshed-client-2.7.0 uvicorn-0.34.0\n"
          ]
        },
        {
          "output_type": "display_data",
          "data": {
            "application/vnd.colab-display-data+json": {
              "pip_warning": {
                "packages": [
                  "pydevd_plugins"
                ]
              },
              "id": "1d697559a08647dabd87edbc540cbc40"
            }
          },
          "metadata": {}
        }
      ],
      "source": [
        "%pip install geoai-py\n",
        "# %pip install leafmap"
      ]
    },
    {
      "cell_type": "markdown",
      "metadata": {
        "id": "DOVUuJE4YZIc"
      },
      "source": [
        "## Import Libraries\n",
        "These modules allow downloading NAIP imagery and extracting building data statistics."
      ]
    },
    {
      "cell_type": "code",
      "execution_count": 1,
      "metadata": {
        "id": "nV-_Tl80YZId"
      },
      "outputs": [],
      "source": [
        "import leafmap\n",
        "from geoai.download import (\n",
        "    download_naip,\n",
        "    download_overture_buildings,\n",
        "    extract_building_stats,\n",
        ")"
      ]
    },
    {
      "cell_type": "markdown",
      "metadata": {
        "id": "U0ht36mlYZId"
      },
      "source": [
        "## Define Bounding Box\n",
        "Define the geographic extent (longitude and latitude) for data downloads."
      ]
    },
    {
      "cell_type": "code",
      "execution_count": 2,
      "metadata": {
        "colab": {
          "base_uri": "https://localhost:8080/",
          "height": 198
        },
        "id": "a-qJTxiWYZId",
        "outputId": "585a4c09-eaba-4814-9273-7ad1ec0adea7"
      },
      "outputs": [
        {
          "output_type": "error",
          "ename": "NameError",
          "evalue": "name 'leafmap' is not defined",
          "traceback": [
            "\u001b[0;31m---------------------------------------------------------------------------\u001b[0m",
            "\u001b[0;31mNameError\u001b[0m                                 Traceback (most recent call last)",
            "\u001b[0;32m<ipython-input-2-af7059fed72f>\u001b[0m in \u001b[0;36m<cell line: 0>\u001b[0;34m()\u001b[0m\n\u001b[1;32m      1\u001b[0m \u001b[0;31m# m = leafmap.Map(center=[47.6526, -117.5923], zoom=16)\u001b[0m\u001b[0;34m\u001b[0m\u001b[0;34m\u001b[0m\u001b[0m\n\u001b[0;32m----> 2\u001b[0;31m \u001b[0mm\u001b[0m \u001b[0;34m=\u001b[0m \u001b[0mleafmap\u001b[0m\u001b[0;34m.\u001b[0m\u001b[0mMap\u001b[0m\u001b[0;34m(\u001b[0m\u001b[0mcenter\u001b[0m\u001b[0;34m=\u001b[0m\u001b[0;34m[\u001b[0m\u001b[0;36m21.1490765\u001b[0m\u001b[0;34m,\u001b[0m\u001b[0;36m79.0723697\u001b[0m\u001b[0;34m]\u001b[0m\u001b[0;34m,\u001b[0m \u001b[0mzoom\u001b[0m\u001b[0;34m=\u001b[0m\u001b[0;36m19\u001b[0m\u001b[0;34m)\u001b[0m\u001b[0;34m\u001b[0m\u001b[0;34m\u001b[0m\u001b[0m\n\u001b[0m\u001b[1;32m      3\u001b[0m \u001b[0mm\u001b[0m\u001b[0;34m.\u001b[0m\u001b[0madd_basemap\u001b[0m\u001b[0;34m(\u001b[0m\u001b[0;34m\"Google Satellite\"\u001b[0m\u001b[0;34m)\u001b[0m\u001b[0;34m\u001b[0m\u001b[0;34m\u001b[0m\u001b[0m\n\u001b[1;32m      4\u001b[0m \u001b[0mm\u001b[0m\u001b[0;34m\u001b[0m\u001b[0;34m\u001b[0m\u001b[0m\n",
            "\u001b[0;31mNameError\u001b[0m: name 'leafmap' is not defined"
          ]
        }
      ],
      "source": [
        "# m = leafmap.Map(center=[47.6526, -117.5923], zoom=16)\n",
        "m = leafmap.Map(center=[21.1490765,79.0723697], zoom=19)\n",
        "m.add_basemap(\"Google Satellite\")\n",
        "m"
      ]
    },
    {
      "cell_type": "markdown",
      "metadata": {
        "id": "AiOrFknTYZId"
      },
      "source": [
        "Use the drawing tools to draw a rectangle on the map. If no rectangle is drawn, the default ROI will be used."
      ]
    },
    {
      "cell_type": "code",
      "execution_count": 1,
      "metadata": {
        "colab": {
          "base_uri": "https://localhost:8080/",
          "height": 216
        },
        "id": "lj07rdaXYZId",
        "outputId": "df45c782-c385-458d-d7e8-345ffbb04662"
      },
      "outputs": [
        {
          "output_type": "error",
          "ename": "NameError",
          "evalue": "name 'm' is not defined",
          "traceback": [
            "\u001b[0;31m---------------------------------------------------------------------------\u001b[0m",
            "\u001b[0;31mNameError\u001b[0m                                 Traceback (most recent call last)",
            "\u001b[0;32m<ipython-input-1-79ab1ad5f6ca>\u001b[0m in \u001b[0;36m<cell line: 0>\u001b[0;34m()\u001b[0m\n\u001b[1;32m      3\u001b[0m \u001b[0;31m#     bbox = (-117.6029, 47.65, -117.5936, 47.6563)\u001b[0m\u001b[0;34m\u001b[0m\u001b[0;34m\u001b[0m\u001b[0m\n\u001b[1;32m      4\u001b[0m \u001b[0;34m\u001b[0m\u001b[0m\n\u001b[0;32m----> 5\u001b[0;31m \u001b[0mbbox\u001b[0m \u001b[0;34m=\u001b[0m \u001b[0mm\u001b[0m\u001b[0;34m.\u001b[0m\u001b[0muser_roi_bounds\u001b[0m\u001b[0;34m(\u001b[0m\u001b[0;34m)\u001b[0m\u001b[0;34m\u001b[0m\u001b[0;34m\u001b[0m\u001b[0m\n\u001b[0m\u001b[1;32m      6\u001b[0m \u001b[0;32mif\u001b[0m \u001b[0mbbox\u001b[0m \u001b[0;32mis\u001b[0m \u001b[0;32mNone\u001b[0m\u001b[0;34m:\u001b[0m\u001b[0;34m\u001b[0m\u001b[0;34m\u001b[0m\u001b[0m\n\u001b[1;32m      7\u001b[0m     \u001b[0mbbox\u001b[0m \u001b[0;34m=\u001b[0m \u001b[0;34m(\u001b[0m\u001b[0;36m79.0823697\u001b[0m\u001b[0;34m,\u001b[0m \u001b[0;36m21.1490\u001b[0m\u001b[0;34m,\u001b[0m \u001b[0;36m79.0623697\u001b[0m\u001b[0;34m,\u001b[0m \u001b[0;36m21.1590\u001b[0m\u001b[0;34m)\u001b[0m\u001b[0;34m\u001b[0m\u001b[0;34m\u001b[0m\u001b[0m\n",
            "\u001b[0;31mNameError\u001b[0m: name 'm' is not defined"
          ]
        }
      ],
      "source": [
        "# bbox = m.user_roi_bounds()\n",
        "# if bbox is None:\n",
        "#     bbox = (-117.6029, 47.65, -117.5936, 47.6563)\n",
        "\n",
        "bbox = m.user_roi_bounds()\n",
        "if bbox is None:\n",
        "    bbox = (79.0823697, 21.1490, 79.0623697, 21.1590)\n",
        "\n",
        "bbox"
      ]
    },
    {
      "cell_type": "code",
      "execution_count": 65,
      "metadata": {
        "colab": {
          "base_uri": "https://localhost:8080/"
        },
        "id": "Vx5nr47gYZIe",
        "outputId": "8ba32980-b682-439c-d894-7323c56f131c"
      },
      "outputs": [
        {
          "output_type": "stream",
          "name": "stdout",
          "text": [
            "No NAIP imagery found for the specified region and parameters.\n",
            "Downloaded 0 files.\n"
          ]
        }
      ],
      "source": [
        "# Download NAIP imagery for the specified region\n",
        "downloaded_files = download_naip(\n",
        "    bbox=bbox,\n",
        "    output_dir=\"naip_data\",\n",
        "    max_items=1,\n",
        "    # year=2020,\n",
        ")\n",
        "\n",
        "print(f\"Downloaded {len(downloaded_files)} files.\")"
      ]
    },
    {
      "cell_type": "markdown",
      "metadata": {
        "id": "9l1z-fdoYZIe"
      },
      "source": [
        "## Download Building Data\n",
        "Retrieve building footprint data in GeoJSON format within the bounding box. The `verbose` flag provides detailed output."
      ]
    },
    {
      "cell_type": "code",
      "execution_count": 66,
      "metadata": {
        "colab": {
          "base_uri": "https://localhost:8080/",
          "height": 35
        },
        "id": "Sluq1OFbYZIe",
        "outputId": "9b5cc0d3-05bb-4547-c8c4-759a120a35eb"
      },
      "outputs": [
        {
          "output_type": "execute_result",
          "data": {
            "text/plain": [
              "'buildings.geojson'"
            ],
            "application/vnd.google.colaboratory.intrinsic+json": {
              "type": "string"
            }
          },
          "metadata": {},
          "execution_count": 66
        }
      ],
      "source": [
        "# Download buildings\n",
        "data_file = download_overture_buildings(\n",
        "    bbox=bbox,\n",
        "    output_file=\"buildings.geojson\",\n",
        "    output_format=\"geojson\",\n",
        "    data_type=\"building\",\n",
        "    verbose=True,\n",
        ")\n",
        "data_file"
      ]
    },
    {
      "cell_type": "markdown",
      "metadata": {
        "id": "ipUZ0AFqYZIe"
      },
      "source": [
        "## Extract Building Statistics\n",
        "If the building data file is successfully downloaded, extract and display relevant statistics such as area, count, and footprint details."
      ]
    },
    {
      "cell_type": "code",
      "execution_count": 67,
      "metadata": {
        "colab": {
          "base_uri": "https://localhost:8080/"
        },
        "id": "joNVGD_AYZIf",
        "outputId": "68f5d806-a3a8-4269-bed7-639581cd008c"
      },
      "outputs": [
        {
          "output_type": "stream",
          "name": "stdout",
          "text": [
            "{'total_buildings': 101, 'has_height': 0, 'has_name': 0, 'bbox': [79.06526257358762, 21.146455404253942, 79.0675825748751, 21.1484586114047]}\n"
          ]
        }
      ],
      "source": [
        "if data_file:\n",
        "    stats = extract_building_stats(data_file)\n",
        "    print(stats)"
      ]
    },
    {
      "cell_type": "markdown",
      "metadata": {
        "id": "ehF5QP5LYZIf"
      },
      "source": [
        "## Visualize Datasets"
      ]
    },
    {
      "cell_type": "code",
      "execution_count": 69,
      "metadata": {
        "colab": {
          "base_uri": "https://localhost:8080/",
          "height": 621,
          "referenced_widgets": [
            "d905f17a2bc94a4caff8bf69634b2fac",
            "7369447dcd0d456fad88f5ddeacf9e7f",
            "93f42f64173c4a1887432a5bc62be93f",
            "ac77d678e2184578a05ad72ec0edc8d2",
            "fd5615bf372447a2bae9346a7da7df8e",
            "e42602ef052145f7ab635b7dd239bd02",
            "7630421df260462c84fa461af3142ee7",
            "3fd90f012f064b6c869e7e666f50c36b",
            "4c7fcd13b72940718498cf7194063f57",
            "e42bb9e5a01d46e2b05273d40d50c70b",
            "7df07b3b951e4ba085ce963a872505eb",
            "434606191e244089b41f5af4a6f3ca0b",
            "5cf0d4e2c7ef4a93bfea79a26b330ce4",
            "2625ce81ca1b4330b72f777322992d1a",
            "9cbde3d3d58e4d5e9ffc3af3c9b170b7",
            "6bbdd9a3850142d0854480568c02f5fe",
            "6359bde8ab5a41acbbbcb01a457d7d13",
            "ea54c12c6581426e9d7540f7d8ca3beb",
            "8249b135cc4b4471843ec652908d7b5c",
            "22b3f54993f24399b6aabf1360c5da12",
            "b3e7385d5b9a47e398efc60a6512b725",
            "583e91115111496aafc7f9466421c9c3",
            "19162c2d26b24f30b880ffd0e3e3d2f8",
            "75f305229bfe4484b640af62dec86c01",
            "4e33de80185a4d4781fb12fc5edfb057",
            "613d72d11796482b8a2a4f20bfb86a0e",
            "11f3c91ce2554eb798cf1f9a46f743f5",
            "3c24e6664db74a96bc47d23057440200",
            "5c9916283e7d4177805a263af14fda49",
            "d155df1d86444b7d99a400eb4952dc95",
            "37ed62f2676947ad95c1a04c6d1b421e",
            "df65d9b1eea94e9f9d8047732496dffd",
            "8f90d890bdae4b36a75f322b6c58c049",
            "45ca2e4f15e24af2ae86db321a1cba51",
            "fe3dde624a5b42839e4eb9e26cec3d8b",
            "845e87fab071406489207056109a15f0",
            "9da9d6f662be44299e4367ec47d57baa",
            "521e20c7b27a4f419115d49dee5645db",
            "427a17e2c5654c6480ce5b3906e79f0e",
            "bd15f2f2a42d4070b49cfcdfdf1f4b6f",
            "804e70ae2a024e919d1260e0726f960d",
            "6902eb0daa4f4b59a53613a43b4ef6f0",
            "bdf1293c3a0847e8abdc91994d9b1bdf",
            "559b634326264d8890dd1333d10b848a",
            "30b2a0198bea4d18997f4c967ce54bc9",
            "606137d9b2a64cce8514aa129acdaddd",
            "fd29832d1f7a4233aa07a3feae8059b5",
            "93a5f1a5b21a409bb86a77392ec9d762",
            "eb74dab57d6942a79698ff85fd1bbf58",
            "71fe6d47ab574c15bc01323980ba4afc",
            "dd93b772d9644aca8fd7b06deb13dad1",
            "e0c493f298f34265b68438725f96a9ba",
            "be554a805ad84ff1ac77968e60cd0bb6",
            "e9774e231bba46f6ac4eb829b5cbeeef",
            "ec74bdd48461404f92853d3d11f4bc42",
            "585a40d7cfba4985b01caf425011e660",
            "64eb36e9907e47a7861e5f9451c521fd",
            "57e0d40185494c7ab36e2dead96e5e9d",
            "047f5633c64b4371bc47f916d1953730",
            "b1534a1617764525bdc6e36ce0fecc24",
            "0469b579b9b047ddb829ba1eeb4ed4d0",
            "0ed617b123d64fe2ba798e048a4731df",
            "39c14b44d90c46f186db55e17d44c5f1",
            "4a560d44e962473a9f84f822f6eecfa6",
            "95be0148f2034eb98058578463f641cf",
            "a58d2dbc9c2b48c3a3675519019f8594",
            "fc64072b1ba0448d9e7f00d6d99af44d",
            "d3041f21fe7f4f6f889d19d40e55d34a"
          ]
        },
        "id": "m6-yH798YZIf",
        "outputId": "602934a4-a17a-41c2-fe10-9d1c49c6fb2a"
      },
      "outputs": [
        {
          "output_type": "display_data",
          "data": {
            "text/plain": [
              "Map(center=[21.1490765, 79.0723697], controls=(ZoomControl(options=['position', 'zoom_in_text', 'zoom_in_title…"
            ],
            "application/vnd.jupyter.widget-view+json": {
              "version_major": 2,
              "version_minor": 0,
              "model_id": "9da9d6f662be44299e4367ec47d57baa"
            }
          },
          "metadata": {
            "application/vnd.jupyter.widget-view+json": {
              "colab": {
                "custom_widget_manager": {
                  "url": "https://ssl.gstatic.com/colaboratory-static/widgets/colab-cdn-widget-manager/2b70e893a8ba7c0f/manager.min.js"
                }
              }
            }
          }
        }
      ],
      "source": [
        "m = leafmap.Map(center=[21.1490765,79.0723697], zoom=19)\n",
        "m.add_basemap(\"Google Satellite\")\n",
        "# m.add_raster(\"naip_data/m_4711720_sw_11_060_20230701_20230911.tif\", layer_name=\"NAIP\")\n",
        "m.add_geojson(\"buildings.geojson\", layer_name=\"Buildings\")\n",
        "m"
      ]
    },
    {
      "cell_type": "markdown",
      "metadata": {
        "id": "fvDAMzH_YZIf"
      },
      "source": [
        "![image](https://github.com/user-attachments/assets/64475787-8ba1-4d12-8fe6-29fbb1dac2ed)"
      ]
    }
  ],
  "metadata": {
    "kernelspec": {
      "display_name": "Python 3 (ipykernel)",
      "language": "python",
      "name": "python3"
    },
    "language_info": {
      "codemirror_mode": {
        "name": "ipython",
        "version": 3
      },
      "file_extension": ".py",
      "mimetype": "text/x-python",
      "name": "python",
      "nbconvert_exporter": "python",
      "pygments_lexer": "ipython3",
      "version": "3.11.8"
    },
    "colab": {
      "provenance": []
    },
    "widgets": {
      "application/vnd.jupyter.widget-state+json": {
        "d905f17a2bc94a4caff8bf69634b2fac": {
          "model_module": "@jupyter-widgets/controls",
          "model_name": "CheckboxModel",
          "model_module_version": "1.5.0",
          "state": {
            "_dom_classes": [],
            "_model_module": "@jupyter-widgets/controls",
            "_model_module_version": "1.5.0",
            "_model_name": "CheckboxModel",
            "_view_count": null,
            "_view_module": "@jupyter-widgets/controls",
            "_view_module_version": "1.5.0",
            "_view_name": "CheckboxView",
            "description": "OpenStreetMap.Mapnik",
            "description_tooltip": null,
            "disabled": false,
            "indent": false,
            "layout": "IPY_MODEL_93f42f64173c4a1887432a5bc62be93f",
            "style": "IPY_MODEL_ac77d678e2184578a05ad72ec0edc8d2",
            "value": true
          }
        },
        "7369447dcd0d456fad88f5ddeacf9e7f": {
          "model_module": "jupyter-leaflet",
          "model_name": "LeafletTileLayerModel",
          "model_module_version": "^0.19",
          "state": {
            "_model_module": "jupyter-leaflet",
            "_model_module_version": "^0.19",
            "_model_name": "LeafletTileLayerModel",
            "_view_count": null,
            "_view_module": "jupyter-leaflet",
            "_view_module_version": "^0.19",
            "_view_name": "LeafletTileLayerView",
            "attribution": "&copy; <a href=\"https://www.openstreetmap.org/copyright\">OpenStreetMap</a> contributors",
            "base": true,
            "bottom": true,
            "bounds": null,
            "detect_retina": false,
            "loading": false,
            "max_native_zoom": null,
            "max_zoom": 19,
            "min_native_zoom": null,
            "min_zoom": 1,
            "name": "OpenStreetMap",
            "no_wrap": false,
            "opacity": 1,
            "options": [
              "attribution",
              "bounds",
              "detect_retina",
              "max_native_zoom",
              "max_zoom",
              "min_native_zoom",
              "min_zoom",
              "no_wrap",
              "tile_size",
              "tms",
              "zoom_offset"
            ],
            "pane": "",
            "popup": null,
            "popup_max_height": null,
            "popup_max_width": 300,
            "popup_min_width": 50,
            "show_loading": false,
            "subitems": [],
            "tile_size": 256,
            "tms": false,
            "url": "https://tile.openstreetmap.org/{z}/{x}/{y}.png",
            "visible": true,
            "zoom_offset": 0
          }
        },
        "93f42f64173c4a1887432a5bc62be93f": {
          "model_module": "@jupyter-widgets/base",
          "model_name": "LayoutModel",
          "model_module_version": "1.2.0",
          "state": {
            "_model_module": "@jupyter-widgets/base",
            "_model_module_version": "1.2.0",
            "_model_name": "LayoutModel",
            "_view_count": null,
            "_view_module": "@jupyter-widgets/base",
            "_view_module_version": "1.2.0",
            "_view_name": "LayoutView",
            "align_content": null,
            "align_items": null,
            "align_self": null,
            "border": null,
            "bottom": null,
            "display": null,
            "flex": null,
            "flex_flow": null,
            "grid_area": null,
            "grid_auto_columns": null,
            "grid_auto_flow": null,
            "grid_auto_rows": null,
            "grid_column": null,
            "grid_gap": null,
            "grid_row": null,
            "grid_template_areas": null,
            "grid_template_columns": null,
            "grid_template_rows": null,
            "height": "18px",
            "justify_content": null,
            "justify_items": null,
            "left": null,
            "margin": null,
            "max_height": null,
            "max_width": null,
            "min_height": null,
            "min_width": null,
            "object_fit": null,
            "object_position": null,
            "order": null,
            "overflow": null,
            "overflow_x": null,
            "overflow_y": null,
            "padding": null,
            "right": null,
            "top": null,
            "visibility": null,
            "width": "25ex"
          }
        },
        "ac77d678e2184578a05ad72ec0edc8d2": {
          "model_module": "@jupyter-widgets/controls",
          "model_name": "DescriptionStyleModel",
          "model_module_version": "1.5.0",
          "state": {
            "_model_module": "@jupyter-widgets/controls",
            "_model_module_version": "1.5.0",
            "_model_name": "DescriptionStyleModel",
            "_view_count": null,
            "_view_module": "@jupyter-widgets/base",
            "_view_module_version": "1.2.0",
            "_view_name": "StyleView",
            "description_width": ""
          }
        },
        "fd5615bf372447a2bae9346a7da7df8e": {
          "model_module": "@jupyter-widgets/controls",
          "model_name": "CheckboxModel",
          "model_module_version": "1.5.0",
          "state": {
            "_dom_classes": [],
            "_model_module": "@jupyter-widgets/controls",
            "_model_module_version": "1.5.0",
            "_model_name": "CheckboxModel",
            "_view_count": null,
            "_view_module": "@jupyter-widgets/controls",
            "_view_module_version": "1.5.0",
            "_view_name": "CheckboxView",
            "description": "OpenStreetMap.Mapnik",
            "description_tooltip": null,
            "disabled": false,
            "indent": false,
            "layout": "IPY_MODEL_e42602ef052145f7ab635b7dd239bd02",
            "style": "IPY_MODEL_7630421df260462c84fa461af3142ee7",
            "value": true
          }
        },
        "e42602ef052145f7ab635b7dd239bd02": {
          "model_module": "@jupyter-widgets/base",
          "model_name": "LayoutModel",
          "model_module_version": "1.2.0",
          "state": {
            "_model_module": "@jupyter-widgets/base",
            "_model_module_version": "1.2.0",
            "_model_name": "LayoutModel",
            "_view_count": null,
            "_view_module": "@jupyter-widgets/base",
            "_view_module_version": "1.2.0",
            "_view_name": "LayoutView",
            "align_content": null,
            "align_items": null,
            "align_self": null,
            "border": null,
            "bottom": null,
            "display": null,
            "flex": null,
            "flex_flow": null,
            "grid_area": null,
            "grid_auto_columns": null,
            "grid_auto_flow": null,
            "grid_auto_rows": null,
            "grid_column": null,
            "grid_gap": null,
            "grid_row": null,
            "grid_template_areas": null,
            "grid_template_columns": null,
            "grid_template_rows": null,
            "height": "18px",
            "justify_content": null,
            "justify_items": null,
            "left": null,
            "margin": null,
            "max_height": null,
            "max_width": null,
            "min_height": null,
            "min_width": null,
            "object_fit": null,
            "object_position": null,
            "order": null,
            "overflow": null,
            "overflow_x": null,
            "overflow_y": null,
            "padding": null,
            "right": null,
            "top": null,
            "visibility": null,
            "width": "25ex"
          }
        },
        "7630421df260462c84fa461af3142ee7": {
          "model_module": "@jupyter-widgets/controls",
          "model_name": "DescriptionStyleModel",
          "model_module_version": "1.5.0",
          "state": {
            "_model_module": "@jupyter-widgets/controls",
            "_model_module_version": "1.5.0",
            "_model_name": "DescriptionStyleModel",
            "_view_count": null,
            "_view_module": "@jupyter-widgets/base",
            "_view_module_version": "1.2.0",
            "_view_name": "StyleView",
            "description_width": ""
          }
        },
        "3fd90f012f064b6c869e7e666f50c36b": {
          "model_module": "@jupyter-widgets/controls",
          "model_name": "CheckboxModel",
          "model_module_version": "1.5.0",
          "state": {
            "_dom_classes": [],
            "_model_module": "@jupyter-widgets/controls",
            "_model_module_version": "1.5.0",
            "_model_name": "CheckboxModel",
            "_view_count": null,
            "_view_module": "@jupyter-widgets/controls",
            "_view_module_version": "1.5.0",
            "_view_name": "CheckboxView",
            "description": "OpenStreetMap.Mapnik",
            "description_tooltip": null,
            "disabled": false,
            "indent": false,
            "layout": "IPY_MODEL_4c7fcd13b72940718498cf7194063f57",
            "style": "IPY_MODEL_e42bb9e5a01d46e2b05273d40d50c70b",
            "value": true
          }
        },
        "4c7fcd13b72940718498cf7194063f57": {
          "model_module": "@jupyter-widgets/base",
          "model_name": "LayoutModel",
          "model_module_version": "1.2.0",
          "state": {
            "_model_module": "@jupyter-widgets/base",
            "_model_module_version": "1.2.0",
            "_model_name": "LayoutModel",
            "_view_count": null,
            "_view_module": "@jupyter-widgets/base",
            "_view_module_version": "1.2.0",
            "_view_name": "LayoutView",
            "align_content": null,
            "align_items": null,
            "align_self": null,
            "border": null,
            "bottom": null,
            "display": null,
            "flex": null,
            "flex_flow": null,
            "grid_area": null,
            "grid_auto_columns": null,
            "grid_auto_flow": null,
            "grid_auto_rows": null,
            "grid_column": null,
            "grid_gap": null,
            "grid_row": null,
            "grid_template_areas": null,
            "grid_template_columns": null,
            "grid_template_rows": null,
            "height": "18px",
            "justify_content": null,
            "justify_items": null,
            "left": null,
            "margin": null,
            "max_height": null,
            "max_width": null,
            "min_height": null,
            "min_width": null,
            "object_fit": null,
            "object_position": null,
            "order": null,
            "overflow": null,
            "overflow_x": null,
            "overflow_y": null,
            "padding": null,
            "right": null,
            "top": null,
            "visibility": null,
            "width": "25ex"
          }
        },
        "e42bb9e5a01d46e2b05273d40d50c70b": {
          "model_module": "@jupyter-widgets/controls",
          "model_name": "DescriptionStyleModel",
          "model_module_version": "1.5.0",
          "state": {
            "_model_module": "@jupyter-widgets/controls",
            "_model_module_version": "1.5.0",
            "_model_name": "DescriptionStyleModel",
            "_view_count": null,
            "_view_module": "@jupyter-widgets/base",
            "_view_module_version": "1.2.0",
            "_view_name": "StyleView",
            "description_width": ""
          }
        },
        "7df07b3b951e4ba085ce963a872505eb": {
          "model_module": "@jupyter-widgets/controls",
          "model_name": "CheckboxModel",
          "model_module_version": "1.5.0",
          "state": {
            "_dom_classes": [],
            "_model_module": "@jupyter-widgets/controls",
            "_model_module_version": "1.5.0",
            "_model_name": "CheckboxModel",
            "_view_count": null,
            "_view_module": "@jupyter-widgets/controls",
            "_view_module_version": "1.5.0",
            "_view_name": "CheckboxView",
            "description": "OpenStreetMap",
            "description_tooltip": null,
            "disabled": false,
            "indent": false,
            "layout": "IPY_MODEL_434606191e244089b41f5af4a6f3ca0b",
            "style": "IPY_MODEL_5cf0d4e2c7ef4a93bfea79a26b330ce4",
            "value": true
          }
        },
        "434606191e244089b41f5af4a6f3ca0b": {
          "model_module": "@jupyter-widgets/base",
          "model_name": "LayoutModel",
          "model_module_version": "1.2.0",
          "state": {
            "_model_module": "@jupyter-widgets/base",
            "_model_module_version": "1.2.0",
            "_model_name": "LayoutModel",
            "_view_count": null,
            "_view_module": "@jupyter-widgets/base",
            "_view_module_version": "1.2.0",
            "_view_name": "LayoutView",
            "align_content": null,
            "align_items": null,
            "align_self": null,
            "border": null,
            "bottom": null,
            "display": null,
            "flex": null,
            "flex_flow": null,
            "grid_area": null,
            "grid_auto_columns": null,
            "grid_auto_flow": null,
            "grid_auto_rows": null,
            "grid_column": null,
            "grid_gap": null,
            "grid_row": null,
            "grid_template_areas": null,
            "grid_template_columns": null,
            "grid_template_rows": null,
            "height": "18px",
            "justify_content": null,
            "justify_items": null,
            "left": null,
            "margin": null,
            "max_height": null,
            "max_width": null,
            "min_height": null,
            "min_width": null,
            "object_fit": null,
            "object_position": null,
            "order": null,
            "overflow": null,
            "overflow_x": null,
            "overflow_y": null,
            "padding": null,
            "right": null,
            "top": null,
            "visibility": null,
            "width": "25ex"
          }
        },
        "5cf0d4e2c7ef4a93bfea79a26b330ce4": {
          "model_module": "@jupyter-widgets/controls",
          "model_name": "DescriptionStyleModel",
          "model_module_version": "1.5.0",
          "state": {
            "_model_module": "@jupyter-widgets/controls",
            "_model_module_version": "1.5.0",
            "_model_name": "DescriptionStyleModel",
            "_view_count": null,
            "_view_module": "@jupyter-widgets/base",
            "_view_module_version": "1.2.0",
            "_view_name": "StyleView",
            "description_width": ""
          }
        },
        "2625ce81ca1b4330b72f777322992d1a": {
          "model_module": "@jupyter-widgets/controls",
          "model_name": "CheckboxModel",
          "model_module_version": "1.5.0",
          "state": {
            "_dom_classes": [],
            "_model_module": "@jupyter-widgets/controls",
            "_model_module_version": "1.5.0",
            "_model_name": "CheckboxModel",
            "_view_count": null,
            "_view_module": "@jupyter-widgets/controls",
            "_view_module_version": "1.5.0",
            "_view_name": "CheckboxView",
            "description": "OpenStreetMap",
            "description_tooltip": null,
            "disabled": false,
            "indent": false,
            "layout": "IPY_MODEL_9cbde3d3d58e4d5e9ffc3af3c9b170b7",
            "style": "IPY_MODEL_6bbdd9a3850142d0854480568c02f5fe",
            "value": true
          }
        },
        "9cbde3d3d58e4d5e9ffc3af3c9b170b7": {
          "model_module": "@jupyter-widgets/base",
          "model_name": "LayoutModel",
          "model_module_version": "1.2.0",
          "state": {
            "_model_module": "@jupyter-widgets/base",
            "_model_module_version": "1.2.0",
            "_model_name": "LayoutModel",
            "_view_count": null,
            "_view_module": "@jupyter-widgets/base",
            "_view_module_version": "1.2.0",
            "_view_name": "LayoutView",
            "align_content": null,
            "align_items": null,
            "align_self": null,
            "border": null,
            "bottom": null,
            "display": null,
            "flex": null,
            "flex_flow": null,
            "grid_area": null,
            "grid_auto_columns": null,
            "grid_auto_flow": null,
            "grid_auto_rows": null,
            "grid_column": null,
            "grid_gap": null,
            "grid_row": null,
            "grid_template_areas": null,
            "grid_template_columns": null,
            "grid_template_rows": null,
            "height": "18px",
            "justify_content": null,
            "justify_items": null,
            "left": null,
            "margin": null,
            "max_height": null,
            "max_width": null,
            "min_height": null,
            "min_width": null,
            "object_fit": null,
            "object_position": null,
            "order": null,
            "overflow": null,
            "overflow_x": null,
            "overflow_y": null,
            "padding": null,
            "right": null,
            "top": null,
            "visibility": null,
            "width": "25ex"
          }
        },
        "6bbdd9a3850142d0854480568c02f5fe": {
          "model_module": "@jupyter-widgets/controls",
          "model_name": "DescriptionStyleModel",
          "model_module_version": "1.5.0",
          "state": {
            "_model_module": "@jupyter-widgets/controls",
            "_model_module_version": "1.5.0",
            "_model_name": "DescriptionStyleModel",
            "_view_count": null,
            "_view_module": "@jupyter-widgets/base",
            "_view_module_version": "1.2.0",
            "_view_name": "StyleView",
            "description_width": ""
          }
        },
        "6359bde8ab5a41acbbbcb01a457d7d13": {
          "model_module": "@jupyter-widgets/controls",
          "model_name": "CheckboxModel",
          "model_module_version": "1.5.0",
          "state": {
            "_dom_classes": [],
            "_model_module": "@jupyter-widgets/controls",
            "_model_module_version": "1.5.0",
            "_model_name": "CheckboxModel",
            "_view_count": null,
            "_view_module": "@jupyter-widgets/controls",
            "_view_module_version": "1.5.0",
            "_view_name": "CheckboxView",
            "description": "Google Satellite",
            "description_tooltip": null,
            "disabled": false,
            "indent": false,
            "layout": "IPY_MODEL_8249b135cc4b4471843ec652908d7b5c",
            "style": "IPY_MODEL_22b3f54993f24399b6aabf1360c5da12",
            "value": true
          }
        },
        "ea54c12c6581426e9d7540f7d8ca3beb": {
          "model_module": "jupyter-leaflet",
          "model_name": "LeafletTileLayerModel",
          "model_module_version": "^0.19",
          "state": {
            "_model_module": "jupyter-leaflet",
            "_model_module_version": "^0.19",
            "_model_name": "LeafletTileLayerModel",
            "_view_count": null,
            "_view_module": "jupyter-leaflet",
            "_view_module_version": "^0.19",
            "_view_name": "LeafletTileLayerView",
            "attribution": "Google",
            "base": false,
            "bottom": true,
            "bounds": null,
            "detect_retina": false,
            "loading": false,
            "max_native_zoom": null,
            "max_zoom": 24,
            "min_native_zoom": null,
            "min_zoom": 0,
            "name": "Google Satellite",
            "no_wrap": false,
            "opacity": 1,
            "options": [
              "attribution",
              "bounds",
              "detect_retina",
              "max_native_zoom",
              "max_zoom",
              "min_native_zoom",
              "min_zoom",
              "no_wrap",
              "tile_size",
              "tms",
              "zoom_offset"
            ],
            "pane": "",
            "popup": null,
            "popup_max_height": null,
            "popup_max_width": 300,
            "popup_min_width": 50,
            "show_loading": false,
            "subitems": [],
            "tile_size": 256,
            "tms": false,
            "url": "https://mt1.google.com/vt/lyrs=s&x={x}&y={y}&z={z}&key=YOUR-API-KEY",
            "visible": true,
            "zoom_offset": 0
          }
        },
        "8249b135cc4b4471843ec652908d7b5c": {
          "model_module": "@jupyter-widgets/base",
          "model_name": "LayoutModel",
          "model_module_version": "1.2.0",
          "state": {
            "_model_module": "@jupyter-widgets/base",
            "_model_module_version": "1.2.0",
            "_model_name": "LayoutModel",
            "_view_count": null,
            "_view_module": "@jupyter-widgets/base",
            "_view_module_version": "1.2.0",
            "_view_name": "LayoutView",
            "align_content": null,
            "align_items": null,
            "align_self": null,
            "border": null,
            "bottom": null,
            "display": null,
            "flex": null,
            "flex_flow": null,
            "grid_area": null,
            "grid_auto_columns": null,
            "grid_auto_flow": null,
            "grid_auto_rows": null,
            "grid_column": null,
            "grid_gap": null,
            "grid_row": null,
            "grid_template_areas": null,
            "grid_template_columns": null,
            "grid_template_rows": null,
            "height": "18px",
            "justify_content": null,
            "justify_items": null,
            "left": null,
            "margin": null,
            "max_height": null,
            "max_width": null,
            "min_height": null,
            "min_width": null,
            "object_fit": null,
            "object_position": null,
            "order": null,
            "overflow": null,
            "overflow_x": null,
            "overflow_y": null,
            "padding": null,
            "right": null,
            "top": null,
            "visibility": null,
            "width": "25ex"
          }
        },
        "22b3f54993f24399b6aabf1360c5da12": {
          "model_module": "@jupyter-widgets/controls",
          "model_name": "DescriptionStyleModel",
          "model_module_version": "1.5.0",
          "state": {
            "_model_module": "@jupyter-widgets/controls",
            "_model_module_version": "1.5.0",
            "_model_name": "DescriptionStyleModel",
            "_view_count": null,
            "_view_module": "@jupyter-widgets/base",
            "_view_module_version": "1.2.0",
            "_view_name": "StyleView",
            "description_width": ""
          }
        },
        "b3e7385d5b9a47e398efc60a6512b725": {
          "model_module": "@jupyter-widgets/controls",
          "model_name": "CheckboxModel",
          "model_module_version": "1.5.0",
          "state": {
            "_dom_classes": [],
            "_model_module": "@jupyter-widgets/controls",
            "_model_module_version": "1.5.0",
            "_model_name": "CheckboxModel",
            "_view_count": null,
            "_view_module": "@jupyter-widgets/controls",
            "_view_module_version": "1.5.0",
            "_view_name": "CheckboxView",
            "description": "OpenStreetMap",
            "description_tooltip": null,
            "disabled": false,
            "indent": false,
            "layout": "IPY_MODEL_583e91115111496aafc7f9466421c9c3",
            "style": "IPY_MODEL_19162c2d26b24f30b880ffd0e3e3d2f8",
            "value": true
          }
        },
        "583e91115111496aafc7f9466421c9c3": {
          "model_module": "@jupyter-widgets/base",
          "model_name": "LayoutModel",
          "model_module_version": "1.2.0",
          "state": {
            "_model_module": "@jupyter-widgets/base",
            "_model_module_version": "1.2.0",
            "_model_name": "LayoutModel",
            "_view_count": null,
            "_view_module": "@jupyter-widgets/base",
            "_view_module_version": "1.2.0",
            "_view_name": "LayoutView",
            "align_content": null,
            "align_items": null,
            "align_self": null,
            "border": null,
            "bottom": null,
            "display": null,
            "flex": null,
            "flex_flow": null,
            "grid_area": null,
            "grid_auto_columns": null,
            "grid_auto_flow": null,
            "grid_auto_rows": null,
            "grid_column": null,
            "grid_gap": null,
            "grid_row": null,
            "grid_template_areas": null,
            "grid_template_columns": null,
            "grid_template_rows": null,
            "height": "18px",
            "justify_content": null,
            "justify_items": null,
            "left": null,
            "margin": null,
            "max_height": null,
            "max_width": null,
            "min_height": null,
            "min_width": null,
            "object_fit": null,
            "object_position": null,
            "order": null,
            "overflow": null,
            "overflow_x": null,
            "overflow_y": null,
            "padding": null,
            "right": null,
            "top": null,
            "visibility": null,
            "width": "25ex"
          }
        },
        "19162c2d26b24f30b880ffd0e3e3d2f8": {
          "model_module": "@jupyter-widgets/controls",
          "model_name": "DescriptionStyleModel",
          "model_module_version": "1.5.0",
          "state": {
            "_model_module": "@jupyter-widgets/controls",
            "_model_module_version": "1.5.0",
            "_model_name": "DescriptionStyleModel",
            "_view_count": null,
            "_view_module": "@jupyter-widgets/base",
            "_view_module_version": "1.2.0",
            "_view_name": "StyleView",
            "description_width": ""
          }
        },
        "75f305229bfe4484b640af62dec86c01": {
          "model_module": "@jupyter-widgets/controls",
          "model_name": "CheckboxModel",
          "model_module_version": "1.5.0",
          "state": {
            "_dom_classes": [],
            "_model_module": "@jupyter-widgets/controls",
            "_model_module_version": "1.5.0",
            "_model_name": "CheckboxModel",
            "_view_count": null,
            "_view_module": "@jupyter-widgets/controls",
            "_view_module_version": "1.5.0",
            "_view_name": "CheckboxView",
            "description": "Google Satellite",
            "description_tooltip": null,
            "disabled": false,
            "indent": false,
            "layout": "IPY_MODEL_4e33de80185a4d4781fb12fc5edfb057",
            "style": "IPY_MODEL_613d72d11796482b8a2a4f20bfb86a0e",
            "value": true
          }
        },
        "4e33de80185a4d4781fb12fc5edfb057": {
          "model_module": "@jupyter-widgets/base",
          "model_name": "LayoutModel",
          "model_module_version": "1.2.0",
          "state": {
            "_model_module": "@jupyter-widgets/base",
            "_model_module_version": "1.2.0",
            "_model_name": "LayoutModel",
            "_view_count": null,
            "_view_module": "@jupyter-widgets/base",
            "_view_module_version": "1.2.0",
            "_view_name": "LayoutView",
            "align_content": null,
            "align_items": null,
            "align_self": null,
            "border": null,
            "bottom": null,
            "display": null,
            "flex": null,
            "flex_flow": null,
            "grid_area": null,
            "grid_auto_columns": null,
            "grid_auto_flow": null,
            "grid_auto_rows": null,
            "grid_column": null,
            "grid_gap": null,
            "grid_row": null,
            "grid_template_areas": null,
            "grid_template_columns": null,
            "grid_template_rows": null,
            "height": "18px",
            "justify_content": null,
            "justify_items": null,
            "left": null,
            "margin": null,
            "max_height": null,
            "max_width": null,
            "min_height": null,
            "min_width": null,
            "object_fit": null,
            "object_position": null,
            "order": null,
            "overflow": null,
            "overflow_x": null,
            "overflow_y": null,
            "padding": null,
            "right": null,
            "top": null,
            "visibility": null,
            "width": "25ex"
          }
        },
        "613d72d11796482b8a2a4f20bfb86a0e": {
          "model_module": "@jupyter-widgets/controls",
          "model_name": "DescriptionStyleModel",
          "model_module_version": "1.5.0",
          "state": {
            "_model_module": "@jupyter-widgets/controls",
            "_model_module_version": "1.5.0",
            "_model_name": "DescriptionStyleModel",
            "_view_count": null,
            "_view_module": "@jupyter-widgets/base",
            "_view_module_version": "1.2.0",
            "_view_name": "StyleView",
            "description_width": ""
          }
        },
        "11f3c91ce2554eb798cf1f9a46f743f5": {
          "model_module": "@jupyter-widgets/controls",
          "model_name": "CheckboxModel",
          "model_module_version": "1.5.0",
          "state": {
            "_dom_classes": [],
            "_model_module": "@jupyter-widgets/controls",
            "_model_module_version": "1.5.0",
            "_model_name": "CheckboxModel",
            "_view_count": null,
            "_view_module": "@jupyter-widgets/controls",
            "_view_module_version": "1.5.0",
            "_view_name": "CheckboxView",
            "description": "OpenStreetMap",
            "description_tooltip": null,
            "disabled": false,
            "indent": false,
            "layout": "IPY_MODEL_3c24e6664db74a96bc47d23057440200",
            "style": "IPY_MODEL_5c9916283e7d4177805a263af14fda49",
            "value": true
          }
        },
        "3c24e6664db74a96bc47d23057440200": {
          "model_module": "@jupyter-widgets/base",
          "model_name": "LayoutModel",
          "model_module_version": "1.2.0",
          "state": {
            "_model_module": "@jupyter-widgets/base",
            "_model_module_version": "1.2.0",
            "_model_name": "LayoutModel",
            "_view_count": null,
            "_view_module": "@jupyter-widgets/base",
            "_view_module_version": "1.2.0",
            "_view_name": "LayoutView",
            "align_content": null,
            "align_items": null,
            "align_self": null,
            "border": null,
            "bottom": null,
            "display": null,
            "flex": null,
            "flex_flow": null,
            "grid_area": null,
            "grid_auto_columns": null,
            "grid_auto_flow": null,
            "grid_auto_rows": null,
            "grid_column": null,
            "grid_gap": null,
            "grid_row": null,
            "grid_template_areas": null,
            "grid_template_columns": null,
            "grid_template_rows": null,
            "height": "18px",
            "justify_content": null,
            "justify_items": null,
            "left": null,
            "margin": null,
            "max_height": null,
            "max_width": null,
            "min_height": null,
            "min_width": null,
            "object_fit": null,
            "object_position": null,
            "order": null,
            "overflow": null,
            "overflow_x": null,
            "overflow_y": null,
            "padding": null,
            "right": null,
            "top": null,
            "visibility": null,
            "width": "25ex"
          }
        },
        "5c9916283e7d4177805a263af14fda49": {
          "model_module": "@jupyter-widgets/controls",
          "model_name": "DescriptionStyleModel",
          "model_module_version": "1.5.0",
          "state": {
            "_model_module": "@jupyter-widgets/controls",
            "_model_module_version": "1.5.0",
            "_model_name": "DescriptionStyleModel",
            "_view_count": null,
            "_view_module": "@jupyter-widgets/base",
            "_view_module_version": "1.2.0",
            "_view_name": "StyleView",
            "description_width": ""
          }
        },
        "d155df1d86444b7d99a400eb4952dc95": {
          "model_module": "@jupyter-widgets/controls",
          "model_name": "CheckboxModel",
          "model_module_version": "1.5.0",
          "state": {
            "_dom_classes": [],
            "_model_module": "@jupyter-widgets/controls",
            "_model_module_version": "1.5.0",
            "_model_name": "CheckboxModel",
            "_view_count": null,
            "_view_module": "@jupyter-widgets/controls",
            "_view_module_version": "1.5.0",
            "_view_name": "CheckboxView",
            "description": "Google Satellite",
            "description_tooltip": null,
            "disabled": false,
            "indent": false,
            "layout": "IPY_MODEL_37ed62f2676947ad95c1a04c6d1b421e",
            "style": "IPY_MODEL_df65d9b1eea94e9f9d8047732496dffd",
            "value": true
          }
        },
        "37ed62f2676947ad95c1a04c6d1b421e": {
          "model_module": "@jupyter-widgets/base",
          "model_name": "LayoutModel",
          "model_module_version": "1.2.0",
          "state": {
            "_model_module": "@jupyter-widgets/base",
            "_model_module_version": "1.2.0",
            "_model_name": "LayoutModel",
            "_view_count": null,
            "_view_module": "@jupyter-widgets/base",
            "_view_module_version": "1.2.0",
            "_view_name": "LayoutView",
            "align_content": null,
            "align_items": null,
            "align_self": null,
            "border": null,
            "bottom": null,
            "display": null,
            "flex": null,
            "flex_flow": null,
            "grid_area": null,
            "grid_auto_columns": null,
            "grid_auto_flow": null,
            "grid_auto_rows": null,
            "grid_column": null,
            "grid_gap": null,
            "grid_row": null,
            "grid_template_areas": null,
            "grid_template_columns": null,
            "grid_template_rows": null,
            "height": "18px",
            "justify_content": null,
            "justify_items": null,
            "left": null,
            "margin": null,
            "max_height": null,
            "max_width": null,
            "min_height": null,
            "min_width": null,
            "object_fit": null,
            "object_position": null,
            "order": null,
            "overflow": null,
            "overflow_x": null,
            "overflow_y": null,
            "padding": null,
            "right": null,
            "top": null,
            "visibility": null,
            "width": "25ex"
          }
        },
        "df65d9b1eea94e9f9d8047732496dffd": {
          "model_module": "@jupyter-widgets/controls",
          "model_name": "DescriptionStyleModel",
          "model_module_version": "1.5.0",
          "state": {
            "_model_module": "@jupyter-widgets/controls",
            "_model_module_version": "1.5.0",
            "_model_name": "DescriptionStyleModel",
            "_view_count": null,
            "_view_module": "@jupyter-widgets/base",
            "_view_module_version": "1.2.0",
            "_view_name": "StyleView",
            "description_width": ""
          }
        },
        "8f90d890bdae4b36a75f322b6c58c049": {
          "model_module": "@jupyter-widgets/controls",
          "model_name": "CheckboxModel",
          "model_module_version": "1.5.0",
          "state": {
            "_dom_classes": [],
            "_model_module": "@jupyter-widgets/controls",
            "_model_module_version": "1.5.0",
            "_model_name": "CheckboxModel",
            "_view_count": null,
            "_view_module": "@jupyter-widgets/controls",
            "_view_module_version": "1.5.0",
            "_view_name": "CheckboxView",
            "description": "Buildings",
            "description_tooltip": null,
            "disabled": false,
            "indent": false,
            "layout": "IPY_MODEL_fe3dde624a5b42839e4eb9e26cec3d8b",
            "style": "IPY_MODEL_845e87fab071406489207056109a15f0",
            "value": true
          }
        },
        "45ca2e4f15e24af2ae86db321a1cba51": {
          "model_module": "jupyter-leaflet",
          "model_name": "LeafletGeoJSONModel",
          "model_module_version": "^0.19",
          "state": {
            "_model_module": "jupyter-leaflet",
            "_model_module_version": "^0.19",
            "_model_name": "LeafletGeoJSONModel",
            "_view_count": null,
            "_view_module": "jupyter-leaflet",
            "_view_module_version": "^0.19",
            "_view_name": "LeafletGeoJSONView",
            "base": false,
            "bottom": false,
            "data": {
              "type": "FeatureCollection",
              "features": [
                {
                  "id": "0",
                  "type": "Feature",
                  "properties": {
                    "id": "08b6096129a34fff0200f9af2734020f",
                    "version": 0,
                    "sources": "[ { \"property\": \"\", \"dataset\": \"Google Open Buildings\", \"record_id\": \"25927276004134376\", \"update_time\": \"2023-05-01T00:00:00.000Z\", \"confidence\": 0.76170000000000004 } ]",
                    "has_parts": false,
                    "is_underground": false,
                    "style": {
                      "weight": 1
                    }
                  },
                  "geometry": {
                    "type": "Polygon",
                    "coordinates": [
                      [
                        [
                          79.0655684137317,
                          21.1469191557175
                        ],
                        [
                          79.065574167588,
                          21.1469641868226
                        ],
                        [
                          79.0655244457202,
                          21.1469697781563
                        ],
                        [
                          79.0655186918791,
                          21.1469247470507
                        ],
                        [
                          79.0655684137317,
                          21.1469191557175
                        ]
                      ]
                    ]
                  },
                  "bbox": [
                    79.0655186918791,
                    21.1469191557175,
                    79.065574167588,
                    21.1469697781563
                  ]
                },
                {
                  "id": "1",
                  "type": "Feature",
                  "properties": {
                    "id": "08b6096129a34fff0200a594cdeac65b",
                    "version": 0,
                    "sources": "[ { \"property\": \"\", \"dataset\": \"Google Open Buildings\", \"record_id\": \"25927293184003561\", \"update_time\": \"2023-05-01T00:00:00.000Z\", \"confidence\": 0.81879999999999997 } ]",
                    "has_parts": false,
                    "is_underground": false,
                    "style": {
                      "weight": 1
                    }
                  },
                  "geometry": {
                    "type": "Polygon",
                    "coordinates": [
                      [
                        [
                          79.0658233855151,
                          21.146910568883
                        ],
                        [
                          79.0655813598428,
                          21.1469549361044
                        ],
                        [
                          79.0655658572723,
                          21.1468805096894
                        ],
                        [
                          79.0658078828234,
                          21.1468361424816
                        ],
                        [
                          79.0658233855151,
                          21.146910568883
                        ]
                      ]
                    ]
                  },
                  "bbox": [
                    79.0655658572723,
                    21.1468361424816,
                    79.0658233855151,
                    21.1469549361044
                  ]
                },
                {
                  "id": "2",
                  "type": "Feature",
                  "properties": {
                    "id": "08b6096129a35fff02005c4cc9ccecfc",
                    "version": 0,
                    "sources": "[ { \"property\": \"\", \"dataset\": \"Microsoft ML Buildings\", \"record_id\": \"7707b2023b13\", \"update_time\": \"2019-04-12T00:00:00.000Z\", \"confidence\": null } ]",
                    "has_parts": false,
                    "is_underground": false,
                    "style": {
                      "weight": 1
                    }
                  },
                  "geometry": {
                    "type": "Polygon",
                    "coordinates": [
                      [
                        [
                          79.0652652226328,
                          21.146990464889313
                        ],
                        [
                          79.0653868447192,
                          21.146993862762614
                        ],
                        [
                          79.06538524298506,
                          21.147043849676336
                        ],
                        [
                          79.06542276032505,
                          21.147044897833993
                        ],
                        [
                          79.06542171919787,
                          21.147077389318653
                        ],
                        [
                          79.06526257358762,
                          21.147072943117053
                        ],
                        [
                          79.0652652226328,
                          21.146990464889313
                        ]
                      ]
                    ]
                  },
                  "bbox": [
                    79.06526257358762,
                    21.146990464889313,
                    79.06542276032505,
                    21.147077389318653
                  ]
                },
                {
                  "id": "3",
                  "type": "Feature",
                  "properties": {
                    "id": "08b6096129a35fff020004869793533e",
                    "version": 0,
                    "sources": "[ { \"property\": \"\", \"dataset\": \"Microsoft ML Buildings\", \"record_id\": \"c63bb5599aea\", \"update_time\": \"2019-04-12T00:00:00.000Z\", \"confidence\": null } ]",
                    "has_parts": false,
                    "is_underground": false,
                    "style": {
                      "weight": 1
                    }
                  },
                  "geometry": {
                    "type": "Polygon",
                    "coordinates": [
                      [
                        [
                          79.06540818631773,
                          21.147093656391363
                        ],
                        [
                          79.06541283074645,
                          21.147163431757875
                        ],
                        [
                          79.06528457898764,
                          21.14717085745785
                        ],
                        [
                          79.06527993455896,
                          21.147101082094835
                        ],
                        [
                          79.06540818631773,
                          21.147093656391363
                        ]
                      ]
                    ]
                  },
                  "bbox": [
                    79.06527993455896,
                    21.147093656391363,
                    79.06541283074645,
                    21.14717085745785
                  ]
                },
                {
                  "id": "4",
                  "type": "Feature",
                  "properties": {
                    "id": "08b6096129a34fff0200457eee5b0d12",
                    "version": 0,
                    "sources": "[ { \"property\": \"\", \"dataset\": \"Google Open Buildings\", \"record_id\": \"25927297478970852\", \"update_time\": \"2023-05-01T00:00:00.000Z\", \"confidence\": 0.81540000000000001 } ]",
                    "has_parts": false,
                    "is_underground": false,
                    "style": {
                      "weight": 1
                    }
                  },
                  "geometry": {
                    "type": "Polygon",
                    "coordinates": [
                      [
                        [
                          79.0657968007409,
                          21.1471230747257
                        ],
                        [
                          79.0657284041462,
                          21.1471381446215
                        ],
                        [
                          79.0657066884432,
                          21.1470514045376
                        ],
                        [
                          79.0657750849985,
                          21.1470363346475
                        ],
                        [
                          79.0657968007409,
                          21.1471230747257
                        ]
                      ]
                    ]
                  },
                  "bbox": [
                    79.0657066884432,
                    21.1470363346475,
                    79.0657968007409,
                    21.1471381446215
                  ]
                },
                {
                  "id": "5",
                  "type": "Feature",
                  "properties": {
                    "id": "08b6096129a34fff02006693aa420bae",
                    "version": 0,
                    "sources": "[ { \"property\": \"\", \"dataset\": \"Google Open Buildings\", \"record_id\": \"25927306068905444\", \"update_time\": \"2023-05-01T00:00:00.000Z\", \"confidence\": 0.82920000000000005 } ]",
                    "has_parts": false,
                    "is_underground": false,
                    "style": {
                      "weight": 1
                    }
                  },
                  "geometry": {
                    "type": "Polygon",
                    "coordinates": [
                      [
                        [
                          79.0658895747358,
                          21.1471185113992
                        ],
                        [
                          79.0657944747385,
                          21.1471270114042
                        ],
                        [
                          79.0657858747335,
                          21.1470418114046
                        ],
                        [
                          79.0658809747308,
                          21.1470334113996
                        ],
                        [
                          79.0658895747358,
                          21.1471185113992
                        ]
                      ]
                    ]
                  },
                  "bbox": [
                    79.0657858747335,
                    21.1470334113996,
                    79.0658895747358,
                    21.1471270114042
                  ]
                },
                {
                  "id": "6",
                  "type": "Feature",
                  "properties": {
                    "id": "08b6096129a32fff0200946e071097ed",
                    "version": 0,
                    "sources": "[ { \"property\": \"\", \"dataset\": \"Google Open Buildings\", \"record_id\": \"25927280299101652\", \"update_time\": \"2023-05-01T00:00:00.000Z\", \"confidence\": 0.81510000000000005 } ]",
                    "has_parts": false,
                    "is_underground": false,
                    "style": {
                      "weight": 1
                    }
                  },
                  "geometry": {
                    "type": "Polygon",
                    "coordinates": [
                      [
                        [
                          79.0656192558754,
                          21.1477674547505
                        ],
                        [
                          79.0655300134892,
                          21.1477786642859
                        ],
                        [
                          79.0655183998074,
                          21.1476972928663
                        ],
                        [
                          79.0656076421443,
                          21.1476860833338
                        ],
                        [
                          79.0656192558754,
                          21.1477674547505
                        ]
                      ]
                    ]
                  },
                  "bbox": [
                    79.0655183998074,
                    21.1476860833338,
                    79.0656192558754,
                    21.1477786642859
                  ]
                },
                {
                  "id": "7",
                  "type": "Feature",
                  "properties": {
                    "id": "08b6096129a36fff02009f2cb95f3db0",
                    "version": 0,
                    "sources": "[ { \"property\": \"\", \"dataset\": \"Google Open Buildings\", \"record_id\": \"25927288889036244\", \"update_time\": \"2023-05-01T00:00:00.000Z\", \"confidence\": 0.83540000000000003 } ]",
                    "has_parts": false,
                    "is_underground": false,
                    "style": {
                      "weight": 1
                    }
                  },
                  "geometry": {
                    "type": "Polygon",
                    "coordinates": [
                      [
                        [
                          79.0657268537684,
                          21.1477524735168
                        ],
                        [
                          79.065624406046,
                          21.1477661744344
                        ],
                        [
                          79.0656119151385,
                          21.1476839756898
                        ],
                        [
                          79.0657143628038,
                          21.1476702747754
                        ],
                        [
                          79.0657268537684,
                          21.1477524735168
                        ]
                      ]
                    ]
                  },
                  "bbox": [
                    79.0656119151385,
                    21.1476702747754,
                    79.0657268537684,
                    21.1477661744344
                  ]
                },
                {
                  "id": "8",
                  "type": "Feature",
                  "properties": {
                    "id": "08b6096129b8dfff02007cd8499c7e00",
                    "version": 0,
                    "sources": "[ { \"property\": \"\", \"dataset\": \"Google Open Buildings\", \"record_id\": \"25927297478970830\", \"update_time\": \"2023-05-01T00:00:00.000Z\", \"confidence\": 0.82540000000000002 } ]",
                    "has_parts": false,
                    "is_underground": false,
                    "style": {
                      "weight": 1
                    }
                  },
                  "geometry": {
                    "type": "Polygon",
                    "coordinates": [
                      [
                        [
                          79.0657566918091,
                          21.1479084790084
                        ],
                        [
                          79.0657732845744,
                          21.1479879011488
                        ],
                        [
                          79.0657008472965,
                          21.1480012196373
                        ],
                        [
                          79.0656842545696,
                          21.147921797493
                        ],
                        [
                          79.0657566918091,
                          21.1479084790084
                        ]
                      ]
                    ]
                  },
                  "bbox": [
                    79.0656842545696,
                    21.1479084790084,
                    79.0657732845744,
                    21.1480012196373
                  ]
                },
                {
                  "id": "9",
                  "type": "Feature",
                  "properties": {
                    "id": "08b6096129b89fff02003dbc9ba2fbde",
                    "version": 0,
                    "sources": "[ { \"property\": \"\", \"dataset\": \"Microsoft ML Buildings\", \"record_id\": \"10736a612a4b\", \"update_time\": \"2019-04-12T00:00:00.000Z\", \"confidence\": null } ]",
                    "has_parts": false,
                    "is_underground": false,
                    "style": {
                      "weight": 1
                    }
                  },
                  "geometry": {
                    "type": "Polygon",
                    "coordinates": [
                      [
                        [
                          79.0654799519722,
                          21.14817632770655
                        ],
                        [
                          79.06546229336497,
                          21.148097204118955
                        ],
                        [
                          79.06555998482062,
                          21.14807823944878
                        ],
                        [
                          79.06557764342783,
                          21.148157363046494
                        ],
                        [
                          79.0654799519722,
                          21.14817632770655
                        ]
                      ]
                    ]
                  },
                  "bbox": [
                    79.06546229336497,
                    21.14807823944878,
                    79.06557764342783,
                    21.14817632770655
                  ]
                },
                {
                  "id": "10",
                  "type": "Feature",
                  "properties": {
                    "id": "08b6096129b89fff0200ba7fbdb8fbd0",
                    "version": 0,
                    "sources": "[ { \"property\": \"\", \"dataset\": \"Microsoft ML Buildings\", \"record_id\": \"c75af3c04f96\", \"update_time\": \"2019-04-12T00:00:00.000Z\", \"confidence\": null } ]",
                    "has_parts": false,
                    "is_underground": false,
                    "style": {
                      "weight": 1
                    }
                  },
                  "geometry": {
                    "type": "Polygon",
                    "coordinates": [
                      [
                        [
                          79.06568862450233,
                          21.148151579268443
                        ],
                        [
                          79.06559586130429,
                          21.148166275061556
                        ],
                        [
                          79.06557966297581,
                          21.148077372955072
                        ],
                        [
                          79.06567243158624,
                          21.148062670240222
                        ],
                        [
                          79.06568862450233,
                          21.148151579268443
                        ]
                      ]
                    ]
                  },
                  "bbox": [
                    79.06557966297581,
                    21.148062670240222,
                    79.06568862450233,
                    21.148166275061556
                  ]
                },
                {
                  "id": "11",
                  "type": "Feature",
                  "properties": {
                    "id": "08b6096129b8dfff0200e310dd000cfc",
                    "version": 0,
                    "sources": "[ { \"property\": \"\", \"dataset\": \"Google Open Buildings\", \"record_id\": \"25927297478970828\", \"update_time\": \"2023-05-01T00:00:00.000Z\", \"confidence\": 0.83320000000000005 } ]",
                    "has_parts": false,
                    "is_underground": false,
                    "style": {
                      "weight": 1
                    }
                  },
                  "geometry": {
                    "type": "Polygon",
                    "coordinates": [
                      [
                        [
                          79.065804793817,
                          21.148073127355
                        ],
                        [
                          79.0657145909579,
                          21.148083920027
                        ],
                        [
                          79.0657097295656,
                          21.1480481624157
                        ],
                        [
                          79.0657999324032,
                          21.1480373697445
                        ],
                        [
                          79.065804793817,
                          21.148073127355
                        ]
                      ]
                    ]
                  },
                  "bbox": [
                    79.0657097295656,
                    21.1480373697445,
                    79.065804793817,
                    21.148083920027
                  ]
                },
                {
                  "id": "12",
                  "type": "Feature",
                  "properties": {
                    "id": "08b6096129b8dfff0200c0eb945e3ec5",
                    "version": 0,
                    "sources": "[ { \"property\": \"\", \"dataset\": \"Google Open Buildings\", \"record_id\": \"25927297478970827\", \"update_time\": \"2023-05-01T00:00:00.000Z\", \"confidence\": 0.7228 } ]",
                    "has_parts": false,
                    "is_underground": false,
                    "style": {
                      "weight": 1
                    }
                  },
                  "geometry": {
                    "type": "Polygon",
                    "coordinates": [
                      [
                        [
                          79.0658102380784,
                          21.1481131720217
                        ],
                        [
                          79.0657200351949,
                          21.1481239646946
                        ],
                        [
                          79.0657145909583,
                          21.148083920028
                        ],
                        [
                          79.0658047938175,
                          21.1480731273561
                        ],
                        [
                          79.0658102380784,
                          21.1481131720217
                        ]
                      ]
                    ]
                  },
                  "bbox": [
                    79.0657145909583,
                    21.1480731273561,
                    79.0658102380784,
                    21.1481239646946
                  ]
                },
                {
                  "id": "13",
                  "type": "Feature",
                  "properties": {
                    "id": "08b6096129b8dfff02007587885cda68",
                    "version": 0,
                    "sources": "[ { \"property\": \"\", \"dataset\": \"Google Open Buildings\", \"record_id\": \"25927297478970826\", \"update_time\": \"2023-05-01T00:00:00.000Z\", \"confidence\": 0.85209999999999997 } ]",
                    "has_parts": false,
                    "is_underground": false,
                    "style": {
                      "weight": 1
                    }
                  },
                  "geometry": {
                    "type": "Polygon",
                    "coordinates": [
                      [
                        [
                          79.0658164010594,
                          21.1481585031338
                        ],
                        [
                          79.0657261981483,
                          21.148169295808
                        ],
                        [
                          79.0657200351954,
                          21.1481239646958
                        ],
                        [
                          79.0658102380789,
                          21.1481131720228
                        ],
                        [
                          79.0658164010594,
                          21.1481585031338
                        ]
                      ]
                    ]
                  },
                  "bbox": [
                    79.0657200351954,
                    21.1481131720228,
                    79.0658164010594,
                    21.148169295808
                  ]
                },
                {
                  "id": "14",
                  "type": "Feature",
                  "properties": {
                    "id": "08b6096129b89fff0200591f70393f11",
                    "version": 0,
                    "sources": "[ { \"property\": \"\", \"dataset\": \"Microsoft ML Buildings\", \"record_id\": \"21054f3ccc6d\", \"update_time\": \"2019-04-12T00:00:00.000Z\", \"confidence\": null } ]",
                    "has_parts": false,
                    "is_underground": false,
                    "style": {
                      "weight": 1
                    }
                  },
                  "geometry": {
                    "type": "Polygon",
                    "coordinates": [
                      [
                        [
                          79.06578765033655,
                          21.148348533674053
                        ],
                        [
                          79.06576862075136,
                          21.148260636785693
                        ],
                        [
                          79.06587794027611,
                          21.148240042756058
                        ],
                        [
                          79.06591281617659,
                          21.148401077301628
                        ],
                        [
                          79.06574936589476,
                          21.14843186865552
                        ],
                        [
                          79.06573353045565,
                          21.148358725444197
                        ],
                        [
                          79.06578765033655,
                          21.148348533674053
                        ]
                      ]
                    ]
                  },
                  "bbox": [
                    79.06573353045565,
                    21.148240042756058,
                    79.06591281617659,
                    21.14843186865552
                  ]
                },
                {
                  "id": "15",
                  "type": "Feature",
                  "properties": {
                    "id": "08b6096129b1afff0200a97a0f9bc9e4",
                    "version": 0,
                    "sources": "[ { \"property\": \"\", \"dataset\": \"Google Open Buildings\", \"record_id\": \"25927310363872746\", \"update_time\": \"2023-05-01T00:00:00.000Z\", \"confidence\": 0.74170000000000003 } ]",
                    "has_parts": false,
                    "is_underground": false,
                    "style": {
                      "weight": 1
                    }
                  },
                  "geometry": {
                    "type": "Polygon",
                    "coordinates": [
                      [
                        [
                          79.0659131063763,
                          21.1468979466559
                        ],
                        [
                          79.0658280277277,
                          21.1469162884036
                        ],
                        [
                          79.0658101717974,
                          21.1468433954679
                        ],
                        [
                          79.0658952504061,
                          21.1468250537259
                        ],
                        [
                          79.0659131063763,
                          21.1468979466559
                        ]
                      ]
                    ]
                  },
                  "bbox": [
                    79.0658101717974,
                    21.1468250537259,
                    79.0659131063763,
                    21.1469162884036
                  ]
                },
                {
                  "id": "16",
                  "type": "Feature",
                  "properties": {
                    "id": "08b6096129b1afff0200c8f43e55541b",
                    "version": 0,
                    "sources": "[ { \"property\": \"\", \"dataset\": \"Google Open Buildings\", \"record_id\": \"25927323248774632\", \"update_time\": \"2023-05-01T00:00:00.000Z\", \"confidence\": 0.68840000000000001 } ]",
                    "has_parts": false,
                    "is_underground": false,
                    "style": {
                      "weight": 1
                    }
                  },
                  "geometry": {
                    "type": "Polygon",
                    "coordinates": [
                      [
                        [
                          79.0660294827562,
                          21.1468985366111
                        ],
                        [
                          79.0660330107513,
                          21.1469277837113
                        ],
                        [
                          79.0659910550021,
                          21.1469322377959
                        ],
                        [
                          79.0659875270153,
                          21.1469029906954
                        ],
                        [
                          79.0660294827562,
                          21.1468985366111
                        ]
                      ]
                    ]
                  },
                  "bbox": [
                    79.0659875270153,
                    21.1468985366111,
                    79.0660330107513,
                    21.1469322377959
                  ]
                },
                {
                  "id": "17",
                  "type": "Feature",
                  "properties": {
                    "id": "08b6096129b1afff0200b52ae0f30e70",
                    "version": 0,
                    "sources": "[ { \"property\": \"\", \"dataset\": \"Google Open Buildings\", \"record_id\": \"25927336133676523\", \"update_time\": \"2023-05-01T00:00:00.000Z\", \"confidence\": 0.82530000000000003 } ]",
                    "has_parts": false,
                    "is_underground": false,
                    "style": {
                      "weight": 1
                    }
                  },
                  "geometry": {
                    "type": "Polygon",
                    "coordinates": [
                      [
                        [
                          79.0662895823548,
                          21.1468237642133
                        ],
                        [
                          79.0662922033984,
                          21.1468416686521
                        ],
                        [
                          79.0659766339731,
                          21.1468823249659
                        ],
                        [
                          79.0659648430422,
                          21.1468017795109
                        ],
                        [
                          79.0660948029219,
                          21.1467850362289
                        ],
                        [
                          79.0660975629251,
                          21.1468038900792
                        ],
                        [
                          79.0661263222916,
                          21.1468001848744
                        ],
                        [
                          79.0661235622843,
                          21.1467813310242
                        ],
                        [
                          79.0663053597664,
                          21.146757909076
                        ],
                        [
                          79.0663145298355,
                          21.1468205500837
                        ],
                        [
                          79.0662895823548,
                          21.1468237642133
                        ]
                      ]
                    ]
                  },
                  "bbox": [
                    79.0659648430422,
                    21.146757909076,
                    79.0663145298355,
                    21.1468823249659
                  ]
                },
                {
                  "id": "18",
                  "type": "Feature",
                  "properties": {
                    "id": "08b6096129badfff020076cc7c714dfe",
                    "version": 0,
                    "sources": "[ { \"property\": \"\", \"dataset\": \"Microsoft ML Buildings\", \"record_id\": \"26a4c2915198\", \"update_time\": \"2019-04-12T00:00:00.000Z\", \"confidence\": null } ]",
                    "has_parts": false,
                    "is_underground": false,
                    "style": {
                      "weight": 1
                    }
                  },
                  "geometry": {
                    "type": "Polygon",
                    "coordinates": [
                      [
                        [
                          79.06637139125367,
                          21.146713629694048
                        ],
                        [
                          79.0665132311538,
                          21.146700834164747
                        ],
                        [
                          79.06653108463495,
                          21.146872860594158
                        ],
                        [
                          79.06638923289663,
                          21.14688566643602
                        ],
                        [
                          79.06637139125367,
                          21.146713629694048
                        ]
                      ]
                    ]
                  },
                  "bbox": [
                    79.06637139125367,
                    21.146700834164747,
                    79.06653108463495,
                    21.14688566643602
                  ]
                },
                {
                  "id": "19",
                  "type": "Feature",
                  "properties": {
                    "id": "08b6096129badfff0200573ff5cd28bc",
                    "version": 0,
                    "sources": "[ { \"property\": \"\", \"dataset\": \"Google Open Buildings\", \"record_id\": \"25927357608513003\", \"update_time\": \"2023-05-01T00:00:00.000Z\", \"confidence\": 0.73950000000000005 } ]",
                    "has_parts": false,
                    "is_underground": false,
                    "style": {
                      "weight": 1
                    }
                  },
                  "geometry": {
                    "type": "Polygon",
                    "coordinates": [
                      [
                        [
                          79.066380983631,
                          21.1468302305591
                        ],
                        [
                          79.0663392591971,
                          21.1468356061753
                        ],
                        [
                          79.0663302281021,
                          21.1467739145787
                        ],
                        [
                          79.0663719525188,
                          21.1467685389634
                        ],
                        [
                          79.066380983631,
                          21.1468302305591
                        ]
                      ]
                    ]
                  },
                  "bbox": [
                    79.0663302281021,
                    21.1467685389634,
                    79.066380983631,
                    21.1468356061753
                  ]
                },
                {
                  "id": "20",
                  "type": "Feature",
                  "properties": {
                    "id": "08b6096129badfff0200f825d111df80",
                    "version": 0,
                    "sources": "[ { \"property\": \"\", \"dataset\": \"Google Open Buildings\", \"record_id\": \"25927370493414887\", \"update_time\": \"2023-05-01T00:00:00.000Z\", \"confidence\": 0.73240000000000005 } ]",
                    "has_parts": false,
                    "is_underground": false,
                    "style": {
                      "weight": 1
                    }
                  },
                  "geometry": {
                    "type": "Polygon",
                    "coordinates": [
                      [
                        [
                          79.0665184115329,
                          21.1469240131695
                        ],
                        [
                          79.0665159890467,
                          21.1470049484879
                        ],
                        [
                          79.0664481539051,
                          21.1470031615738
                        ],
                        [
                          79.0664505764279,
                          21.1469222262591
                        ],
                        [
                          79.0665184115329,
                          21.1469240131695
                        ]
                      ]
                    ]
                  },
                  "bbox": [
                    79.0664481539051,
                    21.1469222262591,
                    79.0665184115329,
                    21.1470049484879
                  ]
                },
                {
                  "id": "21",
                  "type": "Feature",
                  "properties": {
                    "id": "08b6096129b1afff020012fe92dcb8a7",
                    "version": 0,
                    "sources": "[ { \"property\": \"\", \"dataset\": \"Google Open Buildings\", \"record_id\": \"25927327543741925\", \"update_time\": \"2023-05-01T00:00:00.000Z\", \"confidence\": 0.78059999999999996 } ]",
                    "has_parts": false,
                    "is_underground": false,
                    "style": {
                      "weight": 1
                    }
                  },
                  "geometry": {
                    "type": "Polygon",
                    "coordinates": [
                      [
                        [
                          79.0661608578315,
                          21.1470614124419
                        ],
                        [
                          79.0659880097353,
                          21.1470882228192
                        ],
                        [
                          79.0659741684641,
                          21.1470096882808
                        ],
                        [
                          79.0661470164692,
                          21.1469828779103
                        ],
                        [
                          79.0661608578315,
                          21.1470614124419
                        ]
                      ]
                    ]
                  },
                  "bbox": [
                    79.0659741684641,
                    21.1469828779103,
                    79.0661608578315,
                    21.1470882228192
                  ]
                },
                {
                  "id": "22",
                  "type": "Feature",
                  "properties": {
                    "id": "08b6096129ba9fff020071ea5c073ae4",
                    "version": 0,
                    "sources": "[ { \"property\": \"\", \"dataset\": \"Google Open Buildings\", \"record_id\": \"25927340428643810\", \"update_time\": \"2023-05-01T00:00:00.000Z\", \"confidence\": 0.85319999999999996 } ]",
                    "has_parts": false,
                    "is_underground": false,
                    "style": {
                      "weight": 1
                    }
                  },
                  "geometry": {
                    "type": "Polygon",
                    "coordinates": [
                      [
                        [
                          79.066102925981,
                          21.1472051910048
                        ],
                        [
                          79.0660984778532,
                          21.147126528515
                        ],
                        [
                          79.0662698349397,
                          21.1471180007113
                        ],
                        [
                          79.0662742831589,
                          21.1471966632032
                        ],
                        [
                          79.066102925981,
                          21.1472051910048
                        ]
                      ]
                    ]
                  },
                  "bbox": [
                    79.0660984778532,
                    21.1471180007113,
                    79.0662742831589,
                    21.1472051910048
                  ]
                },
                {
                  "id": "23",
                  "type": "Feature",
                  "properties": {
                    "id": "08b6096129b1afff0200e7de4afcf018",
                    "version": 0,
                    "sources": "[ { \"property\": \"\", \"dataset\": \"Google Open Buildings\", \"record_id\": \"25927344723611110\", \"update_time\": \"2023-05-01T00:00:00.000Z\", \"confidence\": 0.77100000000000002 } ]",
                    "has_parts": false,
                    "is_underground": false,
                    "style": {
                      "weight": 1
                    }
                  },
                  "geometry": {
                    "type": "Polygon",
                    "coordinates": [
                      [
                        [
                          79.0663161707871,
                          21.1470373217688
                        ],
                        [
                          79.0661608578311,
                          21.1470614124409
                        ],
                        [
                          79.0661470164688,
                          21.1469828779093
                        ],
                        [
                          79.0663023293428,
                          21.1469587872434
                        ],
                        [
                          79.0663161707871,
                          21.1470373217688
                        ]
                      ]
                    ]
                  },
                  "bbox": [
                    79.0661470164688,
                    21.1469587872434,
                    79.0663161707871,
                    21.1470614124409
                  ]
                },
                {
                  "id": "24",
                  "type": "Feature",
                  "properties": {
                    "id": "08b6096129ba9fff0200c6caebe8c4a1",
                    "version": 0,
                    "sources": "[ { \"property\": \"\", \"dataset\": \"Microsoft ML Buildings\", \"record_id\": \"77e4a6a857a4\", \"update_time\": \"2019-04-12T00:00:00.000Z\", \"confidence\": null } ]",
                    "has_parts": false,
                    "is_underground": false,
                    "style": {
                      "weight": 1
                    }
                  },
                  "geometry": {
                    "type": "Polygon",
                    "coordinates": [
                      [
                        [
                          79.06629514664964,
                          21.14710014062294
                        ],
                        [
                          79.06638361349252,
                          21.147098258063153
                        ],
                        [
                          79.06638997479561,
                          21.147358286975148
                        ],
                        [
                          79.06645057499087,
                          21.147356997415258
                        ],
                        [
                          79.06645155065237,
                          21.147397001886944
                        ],
                        [
                          79.0663024866147,
                          21.14740017393858
                        ],
                        [
                          79.06629514664964,
                          21.14710014062294
                        ]
                      ]
                    ]
                  },
                  "bbox": [
                    79.06629514664964,
                    21.147098258063153,
                    79.06645155065237,
                    21.14740017393858
                  ]
                },
                {
                  "id": "25",
                  "type": "Feature",
                  "properties": {
                    "id": "08b6096129b13fff02003ed5d0d21792",
                    "version": 0,
                    "sources": "[ { \"property\": \"\", \"dataset\": \"Google Open Buildings\", \"record_id\": \"25927387673284077\", \"update_time\": \"2023-05-01T00:00:00.000Z\", \"confidence\": 0.82350000000000001 } ]",
                    "has_parts": false,
                    "is_underground": false,
                    "style": {
                      "weight": 1
                    }
                  },
                  "geometry": {
                    "type": "Polygon",
                    "coordinates": [
                      [
                        [
                          79.0667087815215,
                          21.1468402607576
                        ],
                        [
                          79.066587850362,
                          21.1468444615107
                        ],
                        [
                          79.0665804757654,
                          21.1466576186448
                        ],
                        [
                          79.0667014067731,
                          21.146653417885
                        ],
                        [
                          79.0667087815215,
                          21.1468402607576
                        ]
                      ]
                    ]
                  },
                  "bbox": [
                    79.0665804757654,
                    21.146653417885,
                    79.0667087815215,
                    21.1468444615107
                  ]
                },
                {
                  "id": "26",
                  "type": "Feature",
                  "properties": {
                    "id": "08b6096129badfff0200a39a9c315506",
                    "version": 0,
                    "sources": "[ { \"property\": \"\", \"dataset\": \"Google Open Buildings\", \"record_id\": \"25927391968251369\", \"update_time\": \"2023-05-01T00:00:00.000Z\", \"confidence\": 0.73509999999999998 } ]",
                    "has_parts": false,
                    "is_underground": false,
                    "style": {
                      "weight": 1
                    }
                  },
                  "geometry": {
                    "type": "Polygon",
                    "coordinates": [
                      [
                        [
                          79.0667124647969,
                          21.146851220464
                        ],
                        [
                          79.0667167919445,
                          21.1468917326818
                        ],
                        [
                          79.0666508045259,
                          21.1468979356347
                        ],
                        [
                          79.0666464773964,
                          21.1468574234165
                        ],
                        [
                          79.0667124647969,
                          21.146851220464
                        ]
                      ]
                    ]
                  },
                  "bbox": [
                    79.0666464773964,
                    21.146851220464,
                    79.0667167919445,
                    21.1468979356347
                  ]
                },
                {
                  "id": "27",
                  "type": "Feature",
                  "properties": {
                    "id": "08b6096129b13fff02008b1423691bad",
                    "version": 0,
                    "sources": "[ { \"property\": \"\", \"dataset\": \"Google Open Buildings\", \"record_id\": \"25927417738055149\", \"update_time\": \"2023-05-01T00:00:00.000Z\", \"confidence\": 0.86329999999999996 } ]",
                    "has_parts": false,
                    "is_underground": false,
                    "style": {
                      "weight": 1
                    }
                  },
                  "geometry": {
                    "type": "Polygon",
                    "coordinates": [
                      [
                        [
                          79.0670146452379,
                          21.1466134657927
                        ],
                        [
                          79.0670333098816,
                          21.1468241441653
                        ],
                        [
                          79.0669576822505,
                          21.1468300407724
                        ],
                        [
                          79.066955534626,
                          21.1468057991982
                        ],
                        [
                          79.0669089668393,
                          21.1468094300233
                        ],
                        [
                          79.0668924499869,
                          21.1466229932248
                        ],
                        [
                          79.0670146452379,
                          21.1466134657927
                        ]
                      ]
                    ]
                  },
                  "bbox": [
                    79.0668924499869,
                    21.1466134657927,
                    79.0670333098816,
                    21.1468300407724
                  ]
                },
                {
                  "id": "28",
                  "type": "Feature",
                  "properties": {
                    "id": "08b6096129b13fff0200ccb450ea05f0",
                    "version": 0,
                    "sources": "[ { \"property\": \"\", \"dataset\": \"Google Open Buildings\", \"record_id\": \"25927434917924335\", \"update_time\": \"2023-05-01T00:00:00.000Z\", \"confidence\": 0.83150000000000002 } ]",
                    "has_parts": false,
                    "is_underground": false,
                    "style": {
                      "weight": 1
                    }
                  },
                  "geometry": {
                    "type": "Polygon",
                    "coordinates": [
                      [
                        [
                          79.0671432476753,
                          21.1466021903294
                        ],
                        [
                          79.067148670037,
                          21.1466578145591
                        ],
                        [
                          79.0670597824556,
                          21.1466654404083
                        ],
                        [
                          79.0670543601271,
                          21.1466098161784
                        ],
                        [
                          79.0671432476753,
                          21.1466021903294
                        ]
                      ]
                    ]
                  },
                  "bbox": [
                    79.0670543601271,
                    21.1466021903294,
                    79.067148670037,
                    21.1466654404083
                  ]
                },
                {
                  "id": "29",
                  "type": "Feature",
                  "properties": {
                    "id": "08b6096129b12fff0200be7c9b7a3064",
                    "version": 0,
                    "sources": "[ { \"property\": \"\", \"dataset\": \"Google Open Buildings\", \"record_id\": \"25927439212891629\", \"update_time\": \"2023-05-01T00:00:00.000Z\", \"confidence\": 0.86319999999999997 } ]",
                    "has_parts": false,
                    "is_underground": false,
                    "style": {
                      "weight": 1
                    }
                  },
                  "geometry": {
                    "type": "Polygon",
                    "coordinates": [
                      [
                        [
                          79.0672446746723,
                          21.1466496113159
                        ],
                        [
                          79.0672585746806,
                          21.1467917113152
                        ],
                        [
                          79.0670736746857,
                          21.1468076113249
                        ],
                        [
                          79.0670597746774,
                          21.1466654113257
                        ],
                        [
                          79.0672446746723,
                          21.1466496113159
                        ]
                      ]
                    ]
                  },
                  "bbox": [
                    79.0670597746774,
                    21.1466496113159,
                    79.0672585746806,
                    21.1468076113249
                  ]
                },
                {
                  "id": "30",
                  "type": "Feature",
                  "properties": {
                    "id": "08b6096129bacfff0200596cd17acb02",
                    "version": 0,
                    "sources": "[ { \"property\": \"\", \"dataset\": \"Google Open Buildings\", \"record_id\": \"25927422033022439\", \"update_time\": \"2023-05-01T00:00:00.000Z\", \"confidence\": 0.79779999999999995 } ]",
                    "has_parts": false,
                    "is_underground": false,
                    "style": {
                      "weight": 1
                    }
                  },
                  "geometry": {
                    "type": "Polygon",
                    "coordinates": [
                      [
                        [
                          79.0669946869715,
                          21.1469394374435
                        ],
                        [
                          79.0669991493241,
                          21.1469740729554
                        ],
                        [
                          79.0669532481359,
                          21.14697927756
                        ],
                        [
                          79.0669487857941,
                          21.1469446420477
                        ],
                        [
                          79.0669946869715,
                          21.1469394374435
                        ]
                      ]
                    ]
                  },
                  "bbox": [
                    79.0669487857941,
                    21.1469394374435,
                    79.0669991493241,
                    21.14697927756
                  ]
                },
                {
                  "id": "31",
                  "type": "Feature",
                  "properties": {
                    "id": "08b6096129b13fff0200336978a1f50b",
                    "version": 0,
                    "sources": "[ { \"property\": \"\", \"dataset\": \"Google Open Buildings\", \"record_id\": \"25927430622957035\", \"update_time\": \"2023-05-01T00:00:00.000Z\", \"confidence\": 0.74519999999999997 } ]",
                    "has_parts": false,
                    "is_underground": false,
                    "style": {
                      "weight": 1
                    }
                  },
                  "geometry": {
                    "type": "Polygon",
                    "coordinates": [
                      [
                        [
                          79.0670923007529,
                          21.1468078309575
                        ],
                        [
                          79.0670918319663,
                          21.1468439522581
                        ],
                        [
                          79.0670565536098,
                          21.1468435493115
                        ],
                        [
                          79.067057022405,
                          21.1468074280118
                        ],
                        [
                          79.0670923007529,
                          21.1468078309575
                        ]
                      ]
                    ]
                  },
                  "bbox": [
                    79.0670565536098,
                    21.1468074280118,
                    79.0670923007529,
                    21.1468439522581
                  ]
                },
                {
                  "id": "32",
                  "type": "Feature",
                  "properties": {
                    "id": "08b6096129badfff020071a846ff1294",
                    "version": 0,
                    "sources": "[ { \"property\": \"\", \"dataset\": \"Microsoft ML Buildings\", \"record_id\": \"9b97137bb22f\", \"update_time\": \"2019-04-12T00:00:00.000Z\", \"confidence\": null } ]",
                    "has_parts": false,
                    "is_underground": false,
                    "style": {
                      "weight": 1
                    }
                  },
                  "geometry": {
                    "type": "Polygon",
                    "coordinates": [
                      [
                        [
                          79.06683318260335,
                          21.14700864003298
                        ],
                        [
                          79.06675545180099,
                          21.14700674238493
                        ],
                        [
                          79.0667571356632,
                          21.146946745480633
                        ],
                        [
                          79.0668348664656,
                          21.146948643129463
                        ],
                        [
                          79.06683318260335,
                          21.14700864003298
                        ]
                      ]
                    ]
                  },
                  "bbox": [
                    79.06675545180099,
                    21.146946745480633,
                    79.0668348664656,
                    21.14700864003298
                  ]
                },
                {
                  "id": "33",
                  "type": "Feature",
                  "properties": {
                    "id": "08b6096129bacfff02005e865fcf08d9",
                    "version": 0,
                    "sources": "[ { \"property\": \"\", \"dataset\": \"Microsoft ML Buildings\", \"record_id\": \"4b28d3a6f888\", \"update_time\": \"2019-04-12T00:00:00.000Z\", \"confidence\": null } ]",
                    "has_parts": false,
                    "is_underground": false,
                    "style": {
                      "weight": 1
                    }
                  },
                  "geometry": {
                    "type": "Polygon",
                    "coordinates": [
                      [
                        [
                          79.06683242810944,
                          21.146963176332648
                        ],
                        [
                          79.0668930887129,
                          21.14695580344764
                        ],
                        [
                          79.06690408730518,
                          21.147034517317138
                        ],
                        [
                          79.06684342670175,
                          21.14704189019821
                        ],
                        [
                          79.06683242810944,
                          21.146963176332648
                        ]
                      ]
                    ]
                  },
                  "bbox": [
                    79.06683242810944,
                    21.14695580344764,
                    79.06690408730518,
                    21.14704189019821
                  ]
                },
                {
                  "id": "34",
                  "type": "Feature",
                  "properties": {
                    "id": "08b6096129bacfff02008326a031aad9",
                    "version": 0,
                    "sources": "[ { \"property\": \"\", \"dataset\": \"Microsoft ML Buildings\", \"record_id\": \"485a8a9c74af\", \"update_time\": \"2019-04-12T00:00:00.000Z\", \"confidence\": null } ]",
                    "has_parts": false,
                    "is_underground": false,
                    "style": {
                      "weight": 1
                    }
                  },
                  "geometry": {
                    "type": "Polygon",
                    "coordinates": [
                      [
                        [
                          79.06683406097899,
                          21.147012085591825
                        ],
                        [
                          79.0668357310856,
                          21.147101107692905
                        ],
                        [
                          79.06676765667306,
                          21.147102214148248
                        ],
                        [
                          79.06676599332783,
                          21.14701319638108
                        ],
                        [
                          79.06683406097899,
                          21.147012085591825
                        ]
                      ]
                    ]
                  },
                  "bbox": [
                    79.06676599332783,
                    21.147012085591825,
                    79.0668357310856,
                    21.147102214148248
                  ]
                },
                {
                  "id": "35",
                  "type": "Feature",
                  "properties": {
                    "id": "08b6096129bacfff02009426cf57e368",
                    "version": 0,
                    "sources": "[ { \"property\": \"\", \"dataset\": \"Microsoft ML Buildings\", \"record_id\": \"9adec7669803\", \"update_time\": \"2019-04-12T00:00:00.000Z\", \"confidence\": null } ]",
                    "has_parts": false,
                    "is_underground": false,
                    "style": {
                      "weight": 1
                    }
                  },
                  "geometry": {
                    "type": "Polygon",
                    "coordinates": [
                      [
                        [
                          79.06684557128726,
                          21.14710444669953
                        ],
                        [
                          79.06684233116297,
                          21.147044561430306
                        ],
                        [
                          79.06691724199743,
                          21.147041030959343
                        ],
                        [
                          79.06692048212172,
                          21.147100916230002
                        ],
                        [
                          79.06684557128726,
                          21.14710444669953
                        ]
                      ]
                    ]
                  },
                  "bbox": [
                    79.06684233116297,
                    21.147041030959343,
                    79.06692048212172,
                    21.14710444669953
                  ]
                },
                {
                  "id": "36",
                  "type": "Feature",
                  "properties": {
                    "id": "08b6096129bacfff0200d4fe3eabbbe5",
                    "version": 0,
                    "sources": "[ { \"property\": \"\", \"dataset\": \"Google Open Buildings\", \"record_id\": \"25927409148120546\", \"update_time\": \"2023-05-01T00:00:00.000Z\", \"confidence\": 0.88370000000000004 } ]",
                    "has_parts": false,
                    "is_underground": false,
                    "style": {
                      "weight": 1
                    }
                  },
                  "geometry": {
                    "type": "Polygon",
                    "coordinates": [
                      [
                        [
                          79.0669843431026,
                          21.1472306437751
                        ],
                        [
                          79.0667941817506,
                          21.1472445461559
                        ],
                        [
                          79.0667845900694,
                          21.1471290807748
                        ],
                        [
                          79.0669518944014,
                          21.1471168494343
                        ],
                        [
                          79.0669550661376,
                          21.1471550305232
                        ],
                        [
                          79.066977923015,
                          21.1471533594824
                        ],
                        [
                          79.0669843431026,
                          21.1472306437751
                        ]
                      ]
                    ]
                  },
                  "bbox": [
                    79.0667845900694,
                    21.1471168494343,
                    79.0669843431026,
                    21.1472445461559
                  ]
                },
                {
                  "id": "37",
                  "type": "Feature",
                  "properties": {
                    "id": "08b6096129bacfff0200d2161afa4e56",
                    "version": 0,
                    "sources": "[ { \"property\": \"\", \"dataset\": \"Google Open Buildings\", \"record_id\": \"25927430622957029\", \"update_time\": \"2023-05-01T00:00:00.000Z\", \"confidence\": 0.77039999999999997 } ]",
                    "has_parts": false,
                    "is_underground": false,
                    "style": {
                      "weight": 1
                    }
                  },
                  "geometry": {
                    "type": "Polygon",
                    "coordinates": [
                      [
                        [
                          79.0670791621295,
                          21.1469504478967
                        ],
                        [
                          79.0670839101354,
                          21.1469989477078
                        ],
                        [
                          79.0671248458192,
                          21.1469954207864
                        ],
                        [
                          79.0671307571999,
                          21.1470558040178
                        ],
                        [
                          79.0671450033618,
                          21.1470545766003
                        ],
                        [
                          79.0671478569658,
                          21.1470837253895
                        ],
                        [
                          79.0670732315984,
                          21.1470901549299
                        ],
                        [
                          79.0670810026681,
                          21.1471695346761
                        ],
                        [
                          79.067100446173,
                          21.1471678594749
                        ],
                        [
                          79.0671049268661,
                          21.1472136286712
                        ],
                        [
                          79.0670555921985,
                          21.1472178792103
                        ],
                        [
                          79.0670511115209,
                          21.1471721100139
                        ],
                        [
                          79.0670150408416,
                          21.1471752177558
                        ],
                        [
                          79.0669937569296,
                          21.146957806176
                        ],
                        [
                          79.0670791621295,
                          21.1469504478967
                        ]
                      ]
                    ]
                  },
                  "bbox": [
                    79.0669937569296,
                    21.1469504478967,
                    79.0671478569658,
                    21.1472178792103
                  ]
                },
                {
                  "id": "38",
                  "type": "Feature",
                  "properties": {
                    "id": "08b6096129bacfff02005b4afe1cf159",
                    "version": 0,
                    "sources": "[ { \"property\": \"\", \"dataset\": \"Google Open Buildings\", \"record_id\": \"25927413443087839\", \"update_time\": \"2023-05-01T00:00:00.000Z\", \"confidence\": 0.71160000000000001 } ]",
                    "has_parts": false,
                    "is_underground": false,
                    "style": {
                      "weight": 1
                    }
                  },
                  "geometry": {
                    "type": "Polygon",
                    "coordinates": [
                      [
                        [
                          79.0669589853614,
                          21.147261812557
                        ],
                        [
                          79.0669608357993,
                          21.147290693104
                        ],
                        [
                          79.0668897790999,
                          21.1472946998581
                        ],
                        [
                          79.0668879286758,
                          21.1472658193107
                        ],
                        [
                          79.0669589853614,
                          21.147261812557
                        ]
                      ]
                    ]
                  },
                  "bbox": [
                    79.0668879286758,
                    21.147261812557,
                    79.0669608357993,
                    21.1472946998581
                  ]
                },
                {
                  "id": "39",
                  "type": "Feature",
                  "properties": {
                    "id": "08b6096129bacfff0200713b75231e81",
                    "version": 0,
                    "sources": "[ { \"property\": \"\", \"dataset\": \"Google Open Buildings\", \"record_id\": \"25927434917924322\", \"update_time\": \"2023-05-01T00:00:00.000Z\", \"confidence\": 0.65880000000000005 } ]",
                    "has_parts": false,
                    "is_underground": false,
                    "style": {
                      "weight": 1
                    }
                  },
                  "geometry": {
                    "type": "Polygon",
                    "coordinates": [
                      [
                        [
                          79.0671461051463,
                          21.1471971632018
                        ],
                        [
                          79.067090386364,
                          21.1471589042464
                        ],
                        [
                          79.0671123022228,
                          21.147130814499
                        ],
                        [
                          79.0671680210015,
                          21.147169073447
                        ],
                        [
                          79.0671461051463,
                          21.1471971632018
                        ]
                      ]
                    ]
                  },
                  "bbox": [
                    79.067090386364,
                    21.147130814499,
                    79.0671680210015,
                    21.1471971632018
                  ]
                },
                {
                  "id": "40",
                  "type": "Feature",
                  "properties": {
                    "id": "08b6096129bacfff0200df34a1ad80b5",
                    "version": 0,
                    "sources": "[ { \"property\": \"\", \"dataset\": \"Google Open Buildings\", \"record_id\": \"25927439212891615\", \"update_time\": \"2023-05-01T00:00:00.000Z\", \"confidence\": 0.73619999999999997 } ]",
                    "has_parts": false,
                    "is_underground": false,
                    "style": {
                      "weight": 1
                    }
                  },
                  "geometry": {
                    "type": "Polygon",
                    "coordinates": [
                      [
                        [
                          79.0672015269422,
                          21.1472395525501
                        ],
                        [
                          79.0672111303274,
                          21.1473585864211
                        ],
                        [
                          79.0671570285555,
                          21.1473624277739
                        ],
                        [
                          79.0671474252139,
                          21.1472433939032
                        ],
                        [
                          79.0672015269422,
                          21.1472395525501
                        ]
                      ]
                    ]
                  },
                  "bbox": [
                    79.0671474252139,
                    21.1472395525501,
                    79.0672111303274,
                    21.1473624277739
                  ]
                },
                {
                  "id": "41",
                  "type": "Feature",
                  "properties": {
                    "id": "08b6096129b10fff0200f8fb6cb37aed",
                    "version": 0,
                    "sources": "[ { \"property\": \"\", \"dataset\": \"Microsoft ML Buildings\", \"record_id\": \"2217d7a9e446\", \"update_time\": \"2019-04-12T00:00:00.000Z\", \"confidence\": null } ]",
                    "has_parts": false,
                    "is_underground": false,
                    "style": {
                      "weight": 1
                    }
                  },
                  "geometry": {
                    "type": "Polygon",
                    "coordinates": [
                      [
                        [
                          79.06729655970275,
                          21.14651229322466
                        ],
                        [
                          79.06722328822886,
                          21.14651958707971
                        ],
                        [
                          79.06721677795319,
                          21.146462698531977
                        ],
                        [
                          79.0672900536481,
                          21.146455404253942
                        ],
                        [
                          79.06729655970275,
                          21.14651229322466
                        ]
                      ]
                    ]
                  },
                  "bbox": [
                    79.06721677795319,
                    21.146455404253942,
                    79.06729655970275,
                    21.14651958707971
                  ]
                },
                {
                  "id": "42",
                  "type": "Feature",
                  "properties": {
                    "id": "08b6096129b10fff0200464a9c98772d",
                    "version": 0,
                    "sources": "[ { \"property\": \"\", \"dataset\": \"Google Open Buildings\", \"record_id\": \"25927456392760819\", \"update_time\": \"2023-05-01T00:00:00.000Z\", \"confidence\": 0.71879999999999999 } ]",
                    "has_parts": false,
                    "is_underground": false,
                    "style": {
                      "weight": 1
                    }
                  },
                  "geometry": {
                    "type": "Polygon",
                    "coordinates": [
                      [
                        [
                          79.0673767818811,
                          21.1465127763263
                        ],
                        [
                          79.0673116492204,
                          21.1465218570953
                        ],
                        [
                          79.0673058985778,
                          21.1464855561454
                        ],
                        [
                          79.0673710312226,
                          21.1464764753774
                        ],
                        [
                          79.0673767818811,
                          21.1465127763263
                        ]
                      ]
                    ]
                  },
                  "bbox": [
                    79.0673058985778,
                    21.1464764753774,
                    79.0673767818811,
                    21.1465218570953
                  ]
                },
                {
                  "id": "43",
                  "type": "Feature",
                  "properties": {
                    "id": "08b6096129b10fff020021d664ce04c4",
                    "version": 0,
                    "sources": "[ { \"property\": \"\", \"dataset\": \"Google Open Buildings\", \"record_id\": \"25927460687728112\", \"update_time\": \"2023-05-01T00:00:00.000Z\", \"confidence\": 0.79900000000000004 } ]",
                    "has_parts": false,
                    "is_underground": false,
                    "style": {
                      "weight": 1
                    }
                  },
                  "geometry": {
                    "type": "Polygon",
                    "coordinates": [
                      [
                        [
                          79.0674871721926,
                          21.1466287733207
                        ],
                        [
                          79.0672716318782,
                          21.1466472653285
                        ],
                        [
                          79.0672648239481,
                          21.1465774281145
                        ],
                        [
                          79.0674803641607,
                          21.1465589361073
                        ],
                        [
                          79.0674871721926,
                          21.1466287733207
                        ]
                      ]
                    ]
                  },
                  "bbox": [
                    79.0672648239481,
                    21.1465589361073,
                    79.0674871721926,
                    21.1466472653285
                  ]
                },
                {
                  "id": "44",
                  "type": "Feature",
                  "properties": {
                    "id": "08b6096129b10fff02001e4ec687b436",
                    "version": 0,
                    "sources": "[ { \"property\": \"\", \"dataset\": \"Google Open Buildings\", \"record_id\": \"25927447802826224\", \"update_time\": \"2023-05-01T00:00:00.000Z\", \"confidence\": 0.78649999999999998 } ]",
                    "has_parts": false,
                    "is_underground": false,
                    "style": {
                      "weight": 1
                    }
                  },
                  "geometry": {
                    "type": "Polygon",
                    "coordinates": [
                      [
                        [
                          79.0672662094704,
                          21.1465916410999
                        ],
                        [
                          79.0672716318785,
                          21.1466472653293
                        ],
                        [
                          79.0672124059527,
                          21.1466523464932
                        ],
                        [
                          79.0672069835668,
                          21.1465967222637
                        ],
                        [
                          79.0672662094704,
                          21.1465916410999
                        ]
                      ]
                    ]
                  },
                  "bbox": [
                    79.0672069835668,
                    21.1465916410999,
                    79.0672716318785,
                    21.1466523464932
                  ]
                },
                {
                  "id": "45",
                  "type": "Feature",
                  "properties": {
                    "id": "08b6096129b12fff0200e1d9b600e0a5",
                    "version": 0,
                    "sources": "[ { \"property\": \"\", \"dataset\": \"Google Open Buildings\", \"record_id\": \"25927460687728110\", \"update_time\": \"2023-05-01T00:00:00.000Z\", \"confidence\": 0.75280000000000002 } ]",
                    "has_parts": false,
                    "is_underground": false,
                    "style": {
                      "weight": 1
                    }
                  },
                  "geometry": {
                    "type": "Polygon",
                    "coordinates": [
                      [
                        [
                          79.0674709652001,
                          21.1467735284494
                        ],
                        [
                          79.0672854915682,
                          21.1467894408933
                        ],
                        [
                          79.0672716318794,
                          21.1466472653315
                        ],
                        [
                          79.067457105333,
                          21.1466313528887
                        ],
                        [
                          79.0674709652001,
                          21.1467735284494
                        ]
                      ]
                    ]
                  },
                  "bbox": [
                    79.0672716318794,
                    21.1466313528887,
                    79.0674709652001,
                    21.1467894408933
                  ]
                },
                {
                  "id": "46",
                  "type": "Feature",
                  "properties": {
                    "id": "08b6096129ba1fff0200f99b43aa12d3",
                    "version": 0,
                    "sources": "[ { \"property\": \"\", \"dataset\": \"Google Open Buildings\", \"record_id\": \"25927447802826210\", \"update_time\": \"2023-05-01T00:00:00.000Z\", \"confidence\": 0.8115 } ]",
                    "has_parts": false,
                    "is_underground": false,
                    "style": {
                      "weight": 1
                    }
                  },
                  "geometry": {
                    "type": "Polygon",
                    "coordinates": [
                      [
                        [
                          79.0673138320466,
                          21.1472046509997
                        ],
                        [
                          79.0672083391368,
                          21.1472122587715
                        ],
                        [
                          79.0672040931699,
                          21.1471604426412
                        ],
                        [
                          79.0673095860422,
                          21.1471528348693
                        ],
                        [
                          79.0673138320466,
                          21.1472046509997
                        ]
                      ]
                    ]
                  },
                  "bbox": [
                    79.0672040931699,
                    21.1471528348693,
                    79.0673138320466,
                    21.1472122587715
                  ]
                },
                {
                  "id": "47",
                  "type": "Feature",
                  "properties": {
                    "id": "08b6096129ba1fff0200a139271b96f3",
                    "version": 0,
                    "sources": "[ { \"property\": \"\", \"dataset\": \"Google Open Buildings\", \"record_id\": \"25927460687728097\", \"update_time\": \"2023-05-01T00:00:00.000Z\", \"confidence\": 0.82210000000000005 } ]",
                    "has_parts": false,
                    "is_underground": false,
                    "style": {
                      "weight": 1
                    }
                  },
                  "geometry": {
                    "type": "Polygon",
                    "coordinates": [
                      [
                        [
                          79.0674476405852,
                          21.147126210251
                        ],
                        [
                          79.0674503831712,
                          21.1471682360405
                        ],
                        [
                          79.0674717260831,
                          21.1471670102409
                        ],
                        [
                          79.0674771833055,
                          21.1472506333325
                        ],
                        [
                          79.0673123334293,
                          21.1472601011702
                        ],
                        [
                          79.0673041337546,
                          21.147134452292
                        ],
                        [
                          79.0674476405852,
                          21.147126210251
                        ]
                      ]
                    ]
                  },
                  "bbox": [
                    79.0673041337546,
                    21.147126210251,
                    79.0674771833055,
                    21.1472601011702
                  ]
                },
                {
                  "id": "48",
                  "type": "Feature",
                  "properties": {
                    "id": "08b6096129ba1fff02000e9c9ceb9cd6",
                    "version": 0,
                    "sources": "[ { \"property\": \"\", \"dataset\": \"Google Open Buildings\", \"record_id\": \"25927447802826207\", \"update_time\": \"2023-05-01T00:00:00.000Z\", \"confidence\": 0.81830000000000003 } ]",
                    "has_parts": false,
                    "is_underground": false,
                    "style": {
                      "weight": 1
                    }
                  },
                  "geometry": {
                    "type": "Polygon",
                    "coordinates": [
                      [
                        [
                          79.0672718320203,
                          21.1472529873312
                        ],
                        [
                          79.0672707125303,
                          21.1472998516046
                        ],
                        [
                          79.0672198701611,
                          21.1472987827278
                        ],
                        [
                          79.0672209896669,
                          21.1472519184559
                        ],
                        [
                          79.0672718320203,
                          21.1472529873312
                        ]
                      ]
                    ]
                  },
                  "bbox": [
                    79.0672198701611,
                    21.1472519184559,
                    79.0672718320203,
                    21.1472998516046
                  ]
                },
                {
                  "id": "49",
                  "type": "Feature",
                  "properties": {
                    "id": "08b6096129ba9fff0200919c2959b9e1",
                    "version": 0,
                    "sources": "[ { \"property\": \"\", \"dataset\": \"Microsoft ML Buildings\", \"record_id\": \"d022f5517fdd\", \"update_time\": \"2019-04-12T00:00:00.000Z\", \"confidence\": null } ]",
                    "has_parts": false,
                    "is_underground": false,
                    "style": {
                      "weight": 1
                    }
                  },
                  "geometry": {
                    "type": "Polygon",
                    "coordinates": [
                      [
                        [
                          79.06591735171345,
                          21.147518609710843
                        ],
                        [
                          79.06588045029146,
                          21.14723002970665
                        ],
                        [
                          79.06594656515412,
                          21.147222675785542
                        ],
                        [
                          79.06594214959937,
                          21.147188144805497
                        ],
                        [
                          79.06601355365103,
                          21.147180202568464
                        ],
                        [
                          79.0660548706278,
                          21.14750331358438
                        ],
                        [
                          79.06591735171345,
                          21.147518609710843
                        ]
                      ]
                    ]
                  },
                  "bbox": [
                    79.06588045029146,
                    21.147180202568464,
                    79.0660548706278,
                    21.147518609710843
                  ]
                },
                {
                  "id": "50",
                  "type": "Feature",
                  "properties": {
                    "id": "08b6096129ba9fff020043b62a530023",
                    "version": 0,
                    "sources": "[ { \"property\": \"\", \"dataset\": \"Microsoft ML Buildings\", \"record_id\": \"c37d4f9d9f66\", \"update_time\": \"2019-04-12T00:00:00.000Z\", \"confidence\": null } ]",
                    "has_parts": false,
                    "is_underground": false,
                    "style": {
                      "weight": 1
                    }
                  },
                  "geometry": {
                    "type": "Polygon",
                    "coordinates": [
                      [
                        [
                          79.06609787144266,
                          21.147453395304254
                        ],
                        [
                          79.06609699103511,
                          21.147285793595714
                        ],
                        [
                          79.06620858749,
                          21.147285290964348
                        ],
                        [
                          79.06620933874629,
                          21.14743037907111
                        ],
                        [
                          79.06626566382201,
                          21.14743012538274
                        ],
                        [
                          79.06626553429507,
                          21.14740511020203
                        ],
                        [
                          79.06638461134943,
                          21.14740457387839
                        ],
                        [
                          79.06638502414955,
                          21.147483157906535
                        ],
                        [
                          79.06619727402494,
                          21.14748401578899
                        ],
                        [
                          79.06619711082826,
                          21.147452948329757
                        ],
                        [
                          79.06609787144266,
                          21.147453395304254
                        ]
                      ]
                    ]
                  },
                  "bbox": [
                    79.06609699103511,
                    21.147285290964348,
                    79.06638502414955,
                    21.14748401578899
                  ]
                },
                {
                  "id": "51",
                  "type": "Feature",
                  "properties": {
                    "id": "08b6096129ba8fff0200d6adc73ce0e1",
                    "version": 0,
                    "sources": "[ { \"property\": \"\", \"dataset\": \"Microsoft ML Buildings\", \"record_id\": \"cca08c58b703\", \"update_time\": \"2019-04-12T00:00:00.000Z\", \"confidence\": null } ]",
                    "has_parts": false,
                    "is_underground": false,
                    "style": {
                      "weight": 1
                    }
                  },
                  "geometry": {
                    "type": "Polygon",
                    "coordinates": [
                      [
                        [
                          79.06645784388068,
                          21.147456051753224
                        ],
                        [
                          79.06645528497135,
                          21.14749593414612
                        ],
                        [
                          79.06641145726161,
                          21.147493488101475
                        ],
                        [
                          79.06641401915316,
                          21.14745360587436
                        ],
                        [
                          79.06645784388068,
                          21.147456051753224
                        ]
                      ]
                    ]
                  },
                  "bbox": [
                    79.06641145726161,
                    21.14745360587436,
                    79.06645784388068,
                    21.14749593414612
                  ]
                },
                {
                  "id": "52",
                  "type": "Feature",
                  "properties": {
                    "id": "08b6096129babfff02007eb2cd751b85",
                    "version": 0,
                    "sources": "[ { \"property\": \"\", \"dataset\": \"Microsoft ML Buildings\", \"record_id\": \"b9691c8a8eed\", \"update_time\": \"2019-04-12T00:00:00.000Z\", \"confidence\": null } ]",
                    "has_parts": false,
                    "is_underground": false,
                    "style": {
                      "weight": 1
                    }
                  },
                  "geometry": {
                    "type": "Polygon",
                    "coordinates": [
                      [
                        [
                          79.06611029035875,
                          21.147629670747534
                        ],
                        [
                          79.06611300679307,
                          21.147551148924677
                        ],
                        [
                          79.06629252750709,
                          21.147556562770134
                        ],
                        [
                          79.06628981147773,
                          21.147635072884086
                        ],
                        [
                          79.06611029035875,
                          21.147629670747534
                        ]
                      ]
                    ]
                  },
                  "bbox": [
                    79.06611029035875,
                    21.147551148924677,
                    79.06629252750709,
                    21.147635072884086
                  ]
                },
                {
                  "id": "53",
                  "type": "Feature",
                  "properties": {
                    "id": "08b6096129a36fff0200e36dc456c07f",
                    "version": 0,
                    "sources": "[ { \"property\": \"\", \"dataset\": \"Microsoft ML Buildings\", \"record_id\": \"3f5f4ce0f9f6\", \"update_time\": \"2019-04-12T00:00:00.000Z\", \"confidence\": null } ]",
                    "has_parts": false,
                    "is_underground": false,
                    "style": {
                      "weight": 1
                    }
                  },
                  "geometry": {
                    "type": "Polygon",
                    "coordinates": [
                      [
                        [
                          79.06604335580946,
                          21.147637113281874
                        ],
                        [
                          79.0660393186566,
                          21.14779818542658
                        ],
                        [
                          79.06591977635658,
                          21.147795586976116
                        ],
                        [
                          79.06592380162358,
                          21.14763450676628
                        ],
                        [
                          79.06604335580946,
                          21.147637113281874
                        ]
                      ]
                    ]
                  },
                  "bbox": [
                    79.06591977635658,
                    21.14763450676628,
                    79.06604335580946,
                    21.14779818542658
                  ]
                },
                {
                  "id": "54",
                  "type": "Feature",
                  "properties": {
                    "id": "08b6096129a36fff020010b0a0233818",
                    "version": 0,
                    "sources": "[ { \"property\": \"\", \"dataset\": \"Google Open Buildings\", \"record_id\": \"25927310363872723\", \"update_time\": \"2023-05-01T00:00:00.000Z\", \"confidence\": 0.8659 } ]",
                    "has_parts": false,
                    "is_underground": false,
                    "style": {
                      "weight": 1
                    }
                  },
                  "geometry": {
                    "type": "Polygon",
                    "coordinates": [
                      [
                        [
                          79.0658885220183,
                          21.147673937094
                        ],
                        [
                          79.0659200539079,
                          21.1478321869904
                        ],
                        [
                          79.065832886624,
                          21.1478474723861
                        ],
                        [
                          79.0658013548265,
                          21.1476892224808
                        ],
                        [
                          79.0658885220183,
                          21.147673937094
                        ]
                      ]
                    ]
                  },
                  "bbox": [
                    79.0658013548265,
                    21.147673937094,
                    79.0659200539079,
                    21.1478474723861
                  ]
                },
                {
                  "id": "55",
                  "type": "Feature",
                  "properties": {
                    "id": "08b6096129b8dfff0200fb0bdded99d3",
                    "version": 0,
                    "sources": "[ { \"property\": \"\", \"dataset\": \"Google Open Buildings\", \"record_id\": \"25927327543741904\", \"update_time\": \"2023-05-01T00:00:00.000Z\", \"confidence\": 0.80840000000000001 } ]",
                    "has_parts": false,
                    "is_underground": false,
                    "style": {
                      "weight": 1
                    }
                  },
                  "geometry": {
                    "type": "Polygon",
                    "coordinates": [
                      [
                        [
                          79.0660915899332,
                          21.1479405542889
                        ],
                        [
                          79.0659935628963,
                          21.1479505118761
                        ],
                        [
                          79.0659821705997,
                          21.1478518110645
                        ],
                        [
                          79.066080197571,
                          21.1478418534783
                        ],
                        [
                          79.0660915899332,
                          21.1479405542889
                        ]
                      ]
                    ]
                  },
                  "bbox": [
                    79.0659821705997,
                    21.1478418534783,
                    79.0660915899332,
                    21.1479505118761
                  ]
                },
                {
                  "id": "56",
                  "type": "Feature",
                  "properties": {
                    "id": "08b6096129babfff02005db104d9bfae",
                    "version": 0,
                    "sources": "[ { \"property\": \"\", \"dataset\": \"Microsoft ML Buildings\", \"record_id\": \"3966340fdbfb\", \"update_time\": \"2019-04-12T00:00:00.000Z\", \"confidence\": null } ]",
                    "has_parts": false,
                    "is_underground": false,
                    "style": {
                      "weight": 1
                    }
                  },
                  "geometry": {
                    "type": "Polygon",
                    "coordinates": [
                      [
                        [
                          79.06646158949134,
                          21.147523423925136
                        ],
                        [
                          79.0664799265359,
                          21.147852743266967
                        ],
                        [
                          79.0663557830062,
                          21.147858756062348
                        ],
                        [
                          79.06633747060825,
                          21.14752943554012
                        ],
                        [
                          79.06646158949134,
                          21.147523423925136
                        ]
                      ]
                    ]
                  },
                  "bbox": [
                    79.06633747060825,
                    21.147523423925136,
                    79.0664799265359,
                    21.147858756062348
                  ]
                },
                {
                  "id": "57",
                  "type": "Feature",
                  "properties": {
                    "id": "08b6096129babfff020037cba2e807e3",
                    "version": 0,
                    "sources": "[ { \"property\": \"\", \"dataset\": \"Google Open Buildings\", \"record_id\": \"25927344723611088\", \"update_time\": \"2023-05-01T00:00:00.000Z\", \"confidence\": 0.83209999999999995 } ]",
                    "has_parts": false,
                    "is_underground": false,
                    "style": {
                      "weight": 1
                    }
                  },
                  "geometry": {
                    "type": "Polygon",
                    "coordinates": [
                      [
                        [
                          79.0662430553439,
                          21.1479121962895
                        ],
                        [
                          79.0661695596444,
                          21.1479221238106
                        ],
                        [
                          79.0661579044546,
                          21.1478461860551
                        ],
                        [
                          79.0662314001166,
                          21.1478362585363
                        ],
                        [
                          79.0662430553439,
                          21.1479121962895
                        ]
                      ]
                    ]
                  },
                  "bbox": [
                    79.0661579044546,
                    21.1478362585363,
                    79.0662430553439,
                    21.1479221238106
                  ]
                },
                {
                  "id": "58",
                  "type": "Feature",
                  "properties": {
                    "id": "08b6096129baafff0200b99adad9e2d2",
                    "version": 0,
                    "sources": "[ { \"property\": \"\", \"dataset\": \"Google Open Buildings\", \"record_id\": \"25927374788382159\", \"update_time\": \"2023-05-01T00:00:00.000Z\", \"confidence\": 0.88200000000000001 } ]",
                    "has_parts": false,
                    "is_underground": false,
                    "style": {
                      "weight": 1
                    }
                  },
                  "geometry": {
                    "type": "Polygon",
                    "coordinates": [
                      [
                        [
                          79.0665351204914,
                          21.1478819487257
                        ],
                        [
                          79.0665555953761,
                          21.1480127388756
                        ],
                        [
                          79.0664783969944,
                          21.1480233746716
                        ],
                        [
                          79.0664579221776,
                          21.1478925845177
                        ],
                        [
                          79.0665351204914,
                          21.1478819487257
                        ]
                      ]
                    ]
                  },
                  "bbox": [
                    79.0664579221776,
                    21.1478819487257,
                    79.0665555953761,
                    21.1480233746716
                  ]
                },
                {
                  "id": "59",
                  "type": "Feature",
                  "properties": {
                    "id": "08b6096129ba8fff020098bb3214bcaa",
                    "version": 0,
                    "sources": "[ { \"property\": \"\", \"dataset\": \"Google Open Buildings\", \"record_id\": \"25927379083349468\", \"update_time\": \"2023-05-01T00:00:00.000Z\", \"confidence\": 0.85829999999999995 } ]",
                    "has_parts": false,
                    "is_underground": false,
                    "style": {
                      "weight": 1
                    }
                  },
                  "geometry": {
                    "type": "Polygon",
                    "coordinates": [
                      [
                        [
                          79.066621374708,
                          21.1473765188293
                        ],
                        [
                          79.0665974593054,
                          21.147378111132
                        ],
                        [
                          79.0665989566006,
                          21.1473979026707
                        ],
                        [
                          79.0666228720064,
                          21.1473963103679
                        ],
                        [
                          79.0666293526353,
                          21.1474819723665
                        ],
                        [
                          79.0665139593484,
                          21.1474896552871
                        ],
                        [
                          79.0665026731443,
                          21.1473404708485
                        ],
                        [
                          79.0666180663144,
                          21.1473327879269
                        ],
                        [
                          79.066621374708,
                          21.1473765188293
                        ]
                      ]
                    ]
                  },
                  "bbox": [
                    79.0665026731443,
                    21.1473327879269,
                    79.0666293526353,
                    21.1474896552871
                  ]
                },
                {
                  "id": "60",
                  "type": "Feature",
                  "properties": {
                    "id": "08b6096129ba8fff02004ebefcdb9195",
                    "version": 0,
                    "sources": "[ { \"property\": \"\", \"dataset\": \"Microsoft ML Buildings\", \"record_id\": \"1be6368b5aea\", \"update_time\": \"2019-04-12T00:00:00.000Z\", \"confidence\": null } ]",
                    "has_parts": false,
                    "is_underground": false,
                    "style": {
                      "weight": 1
                    }
                  },
                  "geometry": {
                    "type": "Polygon",
                    "coordinates": [
                      [
                        [
                          79.06672238833895,
                          21.147400348468906
                        ],
                        [
                          79.06671720671197,
                          21.147272951324524
                        ],
                        [
                          79.0668779080064,
                          21.147267265822634
                        ],
                        [
                          79.06688532484503,
                          21.147449618571116
                        ],
                        [
                          79.06676212051929,
                          21.147453977450525
                        ],
                        [
                          79.06675988530768,
                          21.147399021852976
                        ],
                        [
                          79.06672238833895,
                          21.147400348468906
                        ]
                      ]
                    ]
                  },
                  "bbox": [
                    79.06671720671197,
                    21.147267265822634,
                    79.06688532484503,
                    21.147453977450525
                  ]
                },
                {
                  "id": "61",
                  "type": "Feature",
                  "properties": {
                    "id": "08b6096129ba8fff02006fe18b051e34",
                    "version": 0,
                    "sources": "[ { \"property\": \"\", \"dataset\": \"Google Open Buildings\", \"record_id\": \"25927409148120539\", \"update_time\": \"2023-05-01T00:00:00.000Z\", \"confidence\": 0.71999999999999997 } ]",
                    "has_parts": false,
                    "is_underground": false,
                    "style": {
                      "weight": 1
                    }
                  },
                  "geometry": {
                    "type": "Polygon",
                    "coordinates": [
                      [
                        [
                          79.0668899558965,
                          21.1474826579179
                        ],
                        [
                          79.066849072941,
                          21.147486241255
                        ],
                        [
                          79.0668463923962,
                          21.1474593260718
                        ],
                        [
                          79.0668872753442,
                          21.1474557427349
                        ],
                        [
                          79.0668899558965,
                          21.1474826579179
                        ]
                      ]
                    ]
                  },
                  "bbox": [
                    79.0668463923962,
                    21.1474557427349,
                    79.0668899558965,
                    21.147486241255
                  ]
                },
                {
                  "id": "62",
                  "type": "Feature",
                  "properties": {
                    "id": "08b6096129ba8fff0200b32d0b589df3",
                    "version": 0,
                    "sources": "[ { \"property\": \"\", \"dataset\": \"Google Open Buildings\", \"record_id\": \"25927379083349465\", \"update_time\": \"2023-05-01T00:00:00.000Z\", \"confidence\": 0.7006 } ]",
                    "has_parts": false,
                    "is_underground": false,
                    "style": {
                      "weight": 1
                    }
                  },
                  "geometry": {
                    "type": "Polygon",
                    "coordinates": [
                      [
                        [
                          79.06663371707,
                          21.1475396621316
                        ],
                        [
                          79.0665183237379,
                          21.1475473450515
                        ],
                        [
                          79.0665139593496,
                          21.1474896552899
                        ],
                        [
                          79.0666293526365,
                          21.1474819723692
                        ],
                        [
                          79.06663371707,
                          21.1475396621316
                        ]
                      ]
                    ]
                  },
                  "bbox": [
                    79.0665139593496,
                    21.1474819723692,
                    79.06663371707,
                    21.1475473450515
                  ]
                },
                {
                  "id": "63",
                  "type": "Feature",
                  "properties": {
                    "id": "08b6096129bacfff020050564a56c83c",
                    "version": 0,
                    "sources": "[ { \"property\": \"\", \"dataset\": \"Microsoft ML Buildings\", \"record_id\": \"a3e2e7126dcb\", \"update_time\": \"2019-04-12T00:00:00.000Z\", \"confidence\": null } ]",
                    "has_parts": false,
                    "is_underground": false,
                    "style": {
                      "weight": 1
                    }
                  },
                  "geometry": {
                    "type": "Polygon",
                    "coordinates": [
                      [
                        [
                          79.06704260750791,
                          21.14725837551498
                        ],
                        [
                          79.0670470122391,
                          21.14740585417512
                        ],
                        [
                          79.06697732887419,
                          21.147407664522575
                        ],
                        [
                          79.06697292414304,
                          21.147260185864212
                        ],
                        [
                          79.06704260750791,
                          21.14725837551498
                        ]
                      ]
                    ]
                  },
                  "bbox": [
                    79.06697292414304,
                    21.14725837551498,
                    79.0670470122391,
                    21.147407664522575
                  ]
                },
                {
                  "id": "64",
                  "type": "Feature",
                  "properties": {
                    "id": "08b6096129baefff0200af0374e4062d",
                    "version": 0,
                    "sources": "[ { \"property\": \"\", \"dataset\": \"Google Open Buildings\", \"record_id\": \"25927426327989723\", \"update_time\": \"2023-05-01T00:00:00.000Z\", \"confidence\": 0.65400000000000003 } ]",
                    "has_parts": false,
                    "is_underground": false,
                    "style": {
                      "weight": 1
                    }
                  },
                  "geometry": {
                    "type": "Polygon",
                    "coordinates": [
                      [
                        [
                          79.067093948777,
                          21.147477232826
                        ],
                        [
                          79.066991916023,
                          21.1474740891389
                        ],
                        [
                          79.0669928962706,
                          21.1474460895878
                        ],
                        [
                          79.0670949290055,
                          21.1474492332727
                        ],
                        [
                          79.067093948777,
                          21.147477232826
                        ]
                      ]
                    ]
                  },
                  "bbox": [
                    79.066991916023,
                    21.1474460895878,
                    79.0670949290055,
                    21.147477232826
                  ]
                },
                {
                  "id": "65",
                  "type": "Feature",
                  "properties": {
                    "id": "08b6096129baefff0200c28ebbfc68fe",
                    "version": 0,
                    "sources": "[ { \"property\": \"\", \"dataset\": \"Google Open Buildings\", \"record_id\": \"25927434917924315\", \"update_time\": \"2023-05-01T00:00:00.000Z\", \"confidence\": 0.67730000000000001 } ]",
                    "has_parts": false,
                    "is_underground": false,
                    "style": {
                      "weight": 1
                    }
                  },
                  "geometry": {
                    "type": "Polygon",
                    "coordinates": [
                      [
                        [
                          79.0671237621657,
                          21.1474677794153
                        ],
                        [
                          79.067082839262,
                          21.1474657503408
                        ],
                        [
                          79.0670856558891,
                          21.1474157565431
                        ],
                        [
                          79.0671265787793,
                          21.1474177856161
                        ],
                        [
                          79.0671237621657,
                          21.1474677794153
                        ]
                      ]
                    ]
                  },
                  "bbox": [
                    79.067082839262,
                    21.1474157565431,
                    79.0671265787793,
                    21.1474677794153
                  ]
                },
                {
                  "id": "66",
                  "type": "Feature",
                  "properties": {
                    "id": "08b6096129baefff0200d84c100760f1",
                    "version": 0,
                    "sources": "[ { \"property\": \"\", \"dataset\": \"Microsoft ML Buildings\", \"record_id\": \"34209dae7a79\", \"update_time\": \"2019-04-12T00:00:00.000Z\", \"confidence\": null } ]",
                    "has_parts": false,
                    "is_underground": false,
                    "style": {
                      "weight": 1
                    }
                  },
                  "geometry": {
                    "type": "Polygon",
                    "coordinates": [
                      [
                        [
                          79.06717621910143,
                          21.147678598838027
                        ],
                        [
                          79.06710272697181,
                          21.147679428757357
                        ],
                        [
                          79.06710179073795,
                          21.14760689372443
                        ],
                        [
                          79.06717527742518,
                          21.147606063866178
                        ],
                        [
                          79.06717621910143,
                          21.147678598838027
                        ]
                      ]
                    ]
                  },
                  "bbox": [
                    79.06710179073795,
                    21.147606063866178,
                    79.06717621910143,
                    21.147679428757357
                  ]
                },
                {
                  "id": "67",
                  "type": "Feature",
                  "properties": {
                    "id": "08b6096129baefff0200a0542c7904c9",
                    "version": 0,
                    "sources": "[ { \"property\": \"\", \"dataset\": \"Google Open Buildings\", \"record_id\": \"25927439212891608\", \"update_time\": \"2023-05-01T00:00:00.000Z\", \"confidence\": 0.66910000000000003 } ]",
                    "has_parts": false,
                    "is_underground": false,
                    "style": {
                      "weight": 1
                    }
                  },
                  "geometry": {
                    "type": "Polygon",
                    "coordinates": [
                      [
                        [
                          79.0671790201355,
                          21.1476027277147
                        ],
                        [
                          79.0671478651058,
                          21.1476045131557
                        ],
                        [
                          79.067145139609,
                          21.1475626581584
                        ],
                        [
                          79.0671762946305,
                          21.1475608727173
                        ],
                        [
                          79.0671790201355,
                          21.1476027277147
                        ]
                      ]
                    ]
                  },
                  "bbox": [
                    79.067145139609,
                    21.1475608727173,
                    79.0671790201355,
                    21.1476045131557
                  ]
                },
                {
                  "id": "68",
                  "type": "Feature",
                  "properties": {
                    "id": "08b6096129baefff0200c5b01b67b04e",
                    "version": 0,
                    "sources": "[ { \"property\": \"\", \"dataset\": \"Microsoft ML Buildings\", \"record_id\": \"b257892e9e4c\", \"update_time\": \"2019-04-12T00:00:00.000Z\", \"confidence\": null } ]",
                    "has_parts": false,
                    "is_underground": false,
                    "style": {
                      "weight": 1
                    }
                  },
                  "geometry": {
                    "type": "Polygon",
                    "coordinates": [
                      [
                        [
                          79.0671804680669,
                          21.147606166808345
                        ],
                        [
                          79.06722871779122,
                          21.14760504558018
                        ],
                        [
                          79.0672305931188,
                          21.14767504603563
                        ],
                        [
                          79.06718234339446,
                          21.147676167263256
                        ],
                        [
                          79.0671804680669,
                          21.147606166808345
                        ]
                      ]
                    ]
                  },
                  "bbox": [
                    79.0671804680669,
                    21.14760504558018,
                    79.0672305931188,
                    21.147676167263256
                  ]
                },
                {
                  "id": "69",
                  "type": "Feature",
                  "properties": {
                    "id": "08b6096129baafff02001e4913a66166",
                    "version": 0,
                    "sources": "[ { \"property\": \"\", \"dataset\": \"Google Open Buildings\", \"record_id\": \"25927391968251345\", \"update_time\": \"2023-05-01T00:00:00.000Z\", \"confidence\": 0.87649999999999995 } ]",
                    "has_parts": false,
                    "is_underground": false,
                    "style": {
                      "weight": 1
                    }
                  },
                  "geometry": {
                    "type": "Polygon",
                    "coordinates": [
                      [
                        [
                          79.0668064653643,
                          21.1478509347864
                        ],
                        [
                          79.0665947653208,
                          21.1478798836173
                        ],
                        [
                          79.0665866099407,
                          21.1478273964685
                        ],
                        [
                          79.0667983099093,
                          21.1477984476415
                        ],
                        [
                          79.0668064653643,
                          21.1478509347864
                        ]
                      ]
                    ]
                  },
                  "bbox": [
                    79.0665866099407,
                    21.1477984476415,
                    79.0668064653643,
                    21.1478798836173
                  ]
                },
                {
                  "id": "70",
                  "type": "Feature",
                  "properties": {
                    "id": "08b6096129baafff0200857fdbcbf061",
                    "version": 0,
                    "sources": "[ { \"property\": \"\", \"dataset\": \"Google Open Buildings\", \"record_id\": \"25927379083349455\", \"update_time\": \"2023-05-01T00:00:00.000Z\", \"confidence\": 0.87719999999999998 } ]",
                    "has_parts": false,
                    "is_underground": false,
                    "style": {
                      "weight": 1
                    }
                  },
                  "geometry": {
                    "type": "Polygon",
                    "coordinates": [
                      [
                        [
                          79.066635317293,
                          21.1480017553667
                        ],
                        [
                          79.0665555953759,
                          21.1480127388751
                        ],
                        [
                          79.0665351204912,
                          21.1478819487253
                        ],
                        [
                          79.0666148423386,
                          21.1478709652212
                        ],
                        [
                          79.066635317293,
                          21.1480017553667
                        ]
                      ]
                    ]
                  },
                  "bbox": [
                    79.0665351204912,
                    21.1478709652212,
                    79.066635317293,
                    21.1480127388751
                  ]
                },
                {
                  "id": "71",
                  "type": "Feature",
                  "properties": {
                    "id": "08b6096129baafff02000e62004e6d79",
                    "version": 0,
                    "sources": "[ { \"property\": \"\", \"dataset\": \"Google Open Buildings\", \"record_id\": \"25927391968251343\", \"update_time\": \"2023-05-01T00:00:00.000Z\", \"confidence\": 0.81499999999999995 } ]",
                    "has_parts": false,
                    "is_underground": false,
                    "style": {
                      "weight": 1
                    }
                  },
                  "geometry": {
                    "type": "Polygon",
                    "coordinates": [
                      [
                        [
                          79.0667039525307,
                          21.1478649528972
                        ],
                        [
                          79.0667249979732,
                          21.1480003983291
                        ],
                        [
                          79.0666579376444,
                          21.1480095684473
                        ],
                        [
                          79.0666368922632,
                          21.1478741230118
                        ],
                        [
                          79.0667039525307,
                          21.1478649528972
                        ]
                      ]
                    ]
                  },
                  "bbox": [
                    79.0666368922632,
                    21.1478649528972,
                    79.0667249979732,
                    21.1480095684473
                  ]
                },
                {
                  "id": "72",
                  "type": "Feature",
                  "properties": {
                    "id": "08b6096129baafff020048de577390c5",
                    "version": 0,
                    "sources": "[ { \"property\": \"\", \"dataset\": \"Google Open Buildings\", \"record_id\": \"25927400558185935\", \"update_time\": \"2023-05-01T00:00:00.000Z\", \"confidence\": 0.74519999999999997 } ]",
                    "has_parts": false,
                    "is_underground": false,
                    "style": {
                      "weight": 1
                    }
                  },
                  "geometry": {
                    "type": "Polygon",
                    "coordinates": [
                      [
                        [
                          79.0668210714361,
                          21.147944936949
                        ],
                        [
                          79.0667943901193,
                          21.1479485854885
                        ],
                        [
                          79.0668008295775,
                          21.1479900287551
                        ],
                        [
                          79.066773319051,
                          21.1479937906794
                        ],
                        [
                          79.0667602505296,
                          21.1479096837606
                        ],
                        [
                          79.0668144423496,
                          21.1479022732983
                        ],
                        [
                          79.0668210714361,
                          21.147944936949
                        ]
                      ]
                    ]
                  },
                  "bbox": [
                    79.0667602505296,
                    21.1479022732983,
                    79.0668210714361,
                    21.1479937906794
                  ]
                },
                {
                  "id": "73",
                  "type": "Feature",
                  "properties": {
                    "id": "08b6096129baefff02005a5b692594cf",
                    "version": 0,
                    "sources": "[ { \"property\": \"\", \"dataset\": \"Microsoft ML Buildings\", \"record_id\": \"e8cf12724125\", \"update_time\": \"2019-04-12T00:00:00.000Z\", \"confidence\": null } ]",
                    "has_parts": false,
                    "is_underground": false,
                    "style": {
                      "weight": 1
                    }
                  },
                  "geometry": {
                    "type": "Polygon",
                    "coordinates": [
                      [
                        [
                          79.06685114015531,
                          21.147624227415648
                        ],
                        [
                          79.06697149588784,
                          21.14760643298402
                        ],
                        [
                          79.06699971259467,
                          21.14777236806816
                        ],
                        [
                          79.06682441185377,
                          21.14779828601492
                        ],
                        [
                          79.06680532408153,
                          21.14768603585091
                        ],
                        [
                          79.06686026908983,
                          21.147677912309703
                        ],
                        [
                          79.06685114015531,
                          21.147624227415648
                        ]
                      ]
                    ]
                  },
                  "bbox": [
                    79.06680532408153,
                    21.14760643298402,
                    79.06699971259467,
                    21.14779828601492
                  ]
                },
                {
                  "id": "74",
                  "type": "Feature",
                  "properties": {
                    "id": "08b6096129baefff0200520d05dc0462",
                    "version": 0,
                    "sources": "[ { \"property\": \"\", \"dataset\": \"Google Open Buildings\", \"record_id\": \"25927426327989715\", \"update_time\": \"2023-05-01T00:00:00.000Z\", \"confidence\": 0.70830000000000004 } ]",
                    "has_parts": false,
                    "is_underground": false,
                    "style": {
                      "weight": 1
                    }
                  },
                  "geometry": {
                    "type": "Polygon",
                    "coordinates": [
                      [
                        [
                          79.0670569183031,
                          21.1477392217268
                        ],
                        [
                          79.0670539534433,
                          21.1477786056492
                        ],
                        [
                          79.0670206547184,
                          21.1477763995201
                        ],
                        [
                          79.0670236195869,
                          21.1477370155991
                        ],
                        [
                          79.0670569183031,
                          21.1477392217268
                        ]
                      ]
                    ]
                  },
                  "bbox": [
                    79.0670206547184,
                    21.1477370155991,
                    79.0670569183031,
                    21.1477786056492
                  ]
                },
                {
                  "id": "75",
                  "type": "Feature",
                  "properties": {
                    "id": "08b6096129baefff020075a63651e1ca",
                    "version": 0,
                    "sources": "[ { \"property\": \"\", \"dataset\": \"Google Open Buildings\", \"record_id\": \"25927426327989714\", \"update_time\": \"2023-05-01T00:00:00.000Z\", \"confidence\": 0.65669999999999995 } ]",
                    "has_parts": false,
                    "is_underground": false,
                    "style": {
                      "weight": 1
                    }
                  },
                  "geometry": {
                    "type": "Polygon",
                    "coordinates": [
                      [
                        [
                          79.0670707519891,
                          21.1478076994095
                        ],
                        [
                          79.0670337836176,
                          21.147815693282
                        ],
                        [
                          79.0670263181348,
                          21.1477853090439
                        ],
                        [
                          79.0670632864988,
                          21.1477773151724
                        ],
                        [
                          79.0670707519891,
                          21.1478076994095
                        ]
                      ]
                    ]
                  },
                  "bbox": [
                    79.0670263181348,
                    21.1477773151724,
                    79.0670707519891,
                    21.147815693282
                  ]
                },
                {
                  "id": "76",
                  "type": "Feature",
                  "properties": {
                    "id": "08b6096129b8dfff0200332913329ec8",
                    "version": 0,
                    "sources": "[ { \"property\": \"\", \"dataset\": \"Google Open Buildings\", \"record_id\": \"25927318953807308\", \"update_time\": \"2023-05-01T00:00:00.000Z\", \"confidence\": 0.84540000000000004 } ]",
                    "has_parts": false,
                    "is_underground": false,
                    "style": {
                      "weight": 1
                    }
                  },
                  "geometry": {
                    "type": "Polygon",
                    "coordinates": [
                      [
                        [
                          79.0660160861994,
                          21.1481227448352
                        ],
                        [
                          79.0659341347549,
                          21.1481286964207
                        ],
                        [
                          79.0659224437871,
                          21.1479870220671
                        ],
                        [
                          79.0660043951532,
                          21.1479810704811
                        ],
                        [
                          79.0660160861994,
                          21.1481227448352
                        ]
                      ]
                    ]
                  },
                  "bbox": [
                    79.0659224437871,
                    21.1479810704811,
                    79.0660160861994,
                    21.1481286964207
                  ]
                },
                {
                  "id": "77",
                  "type": "Feature",
                  "properties": {
                    "id": "08b6096129b8dfff02009895cce1c403",
                    "version": 0,
                    "sources": "[ { \"property\": \"\", \"dataset\": \"Google Open Buildings\", \"record_id\": \"25927310363872715\", \"update_time\": \"2023-05-01T00:00:00.000Z\", \"confidence\": 0.8165 } ]",
                    "has_parts": false,
                    "is_underground": false,
                    "style": {
                      "weight": 1
                    }
                  },
                  "geometry": {
                    "type": "Polygon",
                    "coordinates": [
                      [
                        [
                          79.0659049987329,
                          21.1481429622032
                        ],
                        [
                          79.0658229847795,
                          21.1481504738987
                        ],
                        [
                          79.0658098500285,
                          21.1480242655609
                        ],
                        [
                          79.0658918639119,
                          21.1480167538663
                        ],
                        [
                          79.0659049987329,
                          21.1481429622032
                        ]
                      ]
                    ]
                  },
                  "bbox": [
                    79.0658098500285,
                    21.1480167538663,
                    79.0659049987329,
                    21.1481504738987
                  ]
                },
                {
                  "id": "78",
                  "type": "Feature",
                  "properties": {
                    "id": "08b6096129b8dfff02003a801ad2cea3",
                    "version": 0,
                    "sources": "[ { \"property\": \"\", \"dataset\": \"Google Open Buildings\", \"record_id\": \"25927327543741901\", \"update_time\": \"2023-05-01T00:00:00.000Z\", \"confidence\": 0.75690000000000002 } ]",
                    "has_parts": false,
                    "is_underground": false,
                    "style": {
                      "weight": 1
                    }
                  },
                  "geometry": {
                    "type": "Polygon",
                    "coordinates": [
                      [
                        [
                          79.0661105960232,
                          21.1480832657001
                        ],
                        [
                          79.0660308478643,
                          21.1480953177149
                        ],
                        [
                          79.0660105245129,
                          21.1479769665077
                        ],
                        [
                          79.0660902726085,
                          21.1479649144977
                        ],
                        [
                          79.0661105960232,
                          21.1480832657001
                        ]
                      ]
                    ]
                  },
                  "bbox": [
                    79.0660105245129,
                    21.1479649144977,
                    79.0661105960232,
                    21.1480953177149
                  ]
                },
                {
                  "id": "79",
                  "type": "Feature",
                  "properties": {
                    "id": "08b6096129b8cfff020022458c94ace5",
                    "version": 0,
                    "sources": "[ { \"property\": \"\", \"dataset\": \"Google Open Buildings\", \"record_id\": \"25927340428643789\", \"update_time\": \"2023-05-01T00:00:00.000Z\", \"confidence\": 0.78280000000000005 } ]",
                    "has_parts": false,
                    "is_underground": false,
                    "style": {
                      "weight": 1
                    }
                  },
                  "geometry": {
                    "type": "Polygon",
                    "coordinates": [
                      [
                        [
                          79.0663043763559,
                          21.148053980299
                        ],
                        [
                          79.0661105960229,
                          21.1480832656993
                        ],
                        [
                          79.0660902726082,
                          21.1479649144969
                        ],
                        [
                          79.0662840527871,
                          21.1479356291082
                        ],
                        [
                          79.0663043763559,
                          21.148053980299
                        ]
                      ]
                    ]
                  },
                  "bbox": [
                    79.0660902726082,
                    21.1479356291082,
                    79.0663043763559,
                    21.1480832656993
                  ]
                },
                {
                  "id": "80",
                  "type": "Feature",
                  "properties": {
                    "id": "08b6096129b88fff020039348ce9b3cb",
                    "version": 0,
                    "sources": "[ { \"property\": \"\", \"dataset\": \"Google Open Buildings\", \"record_id\": \"25927314658840007\", \"update_time\": \"2023-05-01T00:00:00.000Z\", \"confidence\": 0.69640000000000002 } ]",
                    "has_parts": false,
                    "is_underground": false,
                    "style": {
                      "weight": 1
                    }
                  },
                  "geometry": {
                    "type": "Polygon",
                    "coordinates": [
                      [
                        [
                          79.0659174716853,
                          21.1482253503554
                        ],
                        [
                          79.0659269755127,
                          21.1482974957108
                        ],
                        [
                          79.0658955957766,
                          21.1483011336329
                        ],
                        [
                          79.0658860919645,
                          21.1482289882772
                        ],
                        [
                          79.0659174716853,
                          21.1482253503554
                        ]
                      ]
                    ]
                  },
                  "bbox": [
                    79.0658860919645,
                    21.1482253503554,
                    79.0659269755127,
                    21.1483011336329
                  ]
                },
                {
                  "id": "81",
                  "type": "Feature",
                  "properties": {
                    "id": "08b6096129b8cfff0200f926b4e1750b",
                    "version": 0,
                    "sources": "[ { \"property\": \"\", \"dataset\": \"Google Open Buildings\", \"record_id\": \"25927357608512973\", \"update_time\": \"2023-05-01T00:00:00.000Z\", \"confidence\": 0.84799999999999998 } ]",
                    "has_parts": false,
                    "is_underground": false,
                    "style": {
                      "weight": 1
                    }
                  },
                  "geometry": {
                    "type": "Polygon",
                    "coordinates": [
                      [
                        [
                          79.0663844428361,
                          21.1480539873835
                        ],
                        [
                          79.066313484124,
                          21.1480654890902
                        ],
                        [
                          79.066290518451,
                          21.1479407969582
                        ],
                        [
                          79.0663614771037,
                          21.1479292952566
                        ],
                        [
                          79.0663844428361,
                          21.1480539873835
                        ]
                      ]
                    ]
                  },
                  "bbox": [
                    79.066290518451,
                    21.1479292952566,
                    79.0663844428361,
                    21.1480654890902
                  ]
                },
                {
                  "id": "82",
                  "type": "Feature",
                  "properties": {
                    "id": "08b6096129b8cfff0200711e2ee8801d",
                    "version": 0,
                    "sources": "[ { \"property\": \"\", \"dataset\": \"Google Open Buildings\", \"record_id\": \"25927349018578376\", \"update_time\": \"2023-05-01T00:00:00.000Z\", \"confidence\": 0.68110000000000004 } ]",
                    "has_parts": false,
                    "is_underground": false,
                    "style": {
                      "weight": 1
                    }
                  },
                  "geometry": {
                    "type": "Polygon",
                    "coordinates": [
                      [
                        [
                          79.0662787984488,
                          21.1482173693193
                        ],
                        [
                          79.0662258917187,
                          21.1482255676035
                        ],
                        [
                          79.0662211552575,
                          21.1481986673079
                        ],
                        [
                          79.0662740619782,
                          21.1481904690244
                        ],
                        [
                          79.0662787984488,
                          21.1482173693193
                        ]
                      ]
                    ]
                  },
                  "bbox": [
                    79.0662211552575,
                    21.1481904690244,
                    79.0662787984488,
                    21.1482255676035
                  ]
                },
                {
                  "id": "83",
                  "type": "Feature",
                  "properties": {
                    "id": "08b6096129b8cfff02004c63a9caba98",
                    "version": 0,
                    "sources": "[ { \"property\": \"\", \"dataset\": \"Google Open Buildings\", \"record_id\": \"25927349018578374\", \"update_time\": \"2023-05-01T00:00:00.000Z\", \"confidence\": 0.86439999999999995 } ]",
                    "has_parts": false,
                    "is_underground": false,
                    "style": {
                      "weight": 1
                    }
                  },
                  "geometry": {
                    "type": "Polygon",
                    "coordinates": [
                      [
                        [
                          79.0663224680368,
                          21.148330195043
                        ],
                        [
                          79.0662463897043,
                          21.1483419839374
                        ],
                        [
                          79.0662353308576,
                          21.1482791762985
                        ],
                        [
                          79.066311409158,
                          21.1482673874066
                        ],
                        [
                          79.0663224680368,
                          21.148330195043
                        ]
                      ]
                    ]
                  },
                  "bbox": [
                    79.0662353308576,
                    21.1482673874066,
                    79.0663224680368,
                    21.1483419839374
                  ]
                },
                {
                  "id": "84",
                  "type": "Feature",
                  "properties": {
                    "id": "08b6096129b8cfff02006282a5fbcdd0",
                    "version": 0,
                    "sources": "[ { \"property\": \"\", \"dataset\": \"Google Open Buildings\", \"record_id\": \"25927357608512967\", \"update_time\": \"2023-05-01T00:00:00.000Z\", \"confidence\": 0.8609 } ]",
                    "has_parts": false,
                    "is_underground": false,
                    "style": {
                      "weight": 1
                    }
                  },
                  "geometry": {
                    "type": "Polygon",
                    "coordinates": [
                      [
                        [
                          79.0663863843008,
                          21.1483202907206
                        ],
                        [
                          79.0663224680364,
                          21.1483301950419
                        ],
                        [
                          79.0663019699923,
                          21.1482137787153
                        ],
                        [
                          79.066365886207,
                          21.1482038743981
                        ],
                        [
                          79.0663863843008,
                          21.1483202907206
                        ]
                      ]
                    ]
                  },
                  "bbox": [
                    79.0663019699923,
                    21.1482038743981,
                    79.0663863843008,
                    21.1483301950419
                  ]
                },
                {
                  "id": "85",
                  "type": "Feature",
                  "properties": {
                    "id": "08b6096129b8cfff02003104890f1a4f",
                    "version": 0,
                    "sources": "[ { \"property\": \"\", \"dataset\": \"Microsoft ML Buildings\", \"record_id\": \"cb34031c3666\", \"update_time\": \"2019-04-12T00:00:00.000Z\", \"confidence\": null } ]",
                    "has_parts": false,
                    "is_underground": false,
                    "style": {
                      "weight": 1
                    }
                  },
                  "geometry": {
                    "type": "Polygon",
                    "coordinates": [
                      [
                        [
                          79.06643505888594,
                          21.148291447396318
                        ],
                        [
                          79.06639677785952,
                          21.14829950851056
                        ],
                        [
                          79.06636473901715,
                          21.148167206009006
                        ],
                        [
                          79.06640301946778,
                          21.14815914251001
                        ],
                        [
                          79.06643505888594,
                          21.148291447396318
                        ]
                      ]
                    ]
                  },
                  "bbox": [
                    79.06636473901715,
                    21.14815914251001,
                    79.06643505888594,
                    21.14829950851056
                  ]
                },
                {
                  "id": "86",
                  "type": "Feature",
                  "properties": {
                    "id": "08b6096129b8cfff0200a58f70758578",
                    "version": 0,
                    "sources": "[ { \"property\": \"\", \"dataset\": \"Google Open Buildings\", \"record_id\": \"25927374788382152\", \"update_time\": \"2023-05-01T00:00:00.000Z\", \"confidence\": 0.84440000000000004 } ]",
                    "has_parts": false,
                    "is_underground": false,
                    "style": {
                      "weight": 1
                    }
                  },
                  "geometry": {
                    "type": "Polygon",
                    "coordinates": [
                      [
                        [
                          79.0665495698085,
                          21.1481307566714
                        ],
                        [
                          79.066570474949,
                          21.1482777103136
                        ],
                        [
                          79.0664891552194,
                          21.1482878911246
                        ],
                        [
                          79.0664682501598,
                          21.1481409374784
                        ],
                        [
                          79.0665495698085,
                          21.1481307566714
                        ]
                      ]
                    ]
                  },
                  "bbox": [
                    79.0664682501598,
                    21.1481307566714,
                    79.066570474949,
                    21.1482878911246
                  ]
                },
                {
                  "id": "87",
                  "type": "Feature",
                  "properties": {
                    "id": "08b6096129b8cfff02001ba6ff7e0a63",
                    "version": 0,
                    "sources": "[ { \"property\": \"\", \"dataset\": \"Google Open Buildings\", \"record_id\": \"25927370493414852\", \"update_time\": \"2023-05-01T00:00:00.000Z\", \"confidence\": 0.73219999999999996 } ]",
                    "has_parts": false,
                    "is_underground": false,
                    "style": {
                      "weight": 1
                    }
                  },
                  "geometry": {
                    "type": "Polygon",
                    "coordinates": [
                      [
                        [
                          79.0665699748145,
                          21.1484279113976
                        ],
                        [
                          79.0664334748194,
                          21.1484586114047
                        ],
                        [
                          79.0664011748124,
                          21.1483320114064
                        ],
                        [
                          79.0665375748075,
                          21.1483013113993
                        ],
                        [
                          79.0665699748145,
                          21.1484279113976
                        ]
                      ]
                    ]
                  },
                  "bbox": [
                    79.0664011748124,
                    21.1483013113993,
                    79.0665699748145,
                    21.1484586114047
                  ]
                },
                {
                  "id": "88",
                  "type": "Feature",
                  "properties": {
                    "id": "08b6096129b8cfff02006b739e69906b",
                    "version": 0,
                    "sources": "[ { \"property\": \"\", \"dataset\": \"Google Open Buildings\", \"record_id\": \"25927383378316744\", \"update_time\": \"2023-05-01T00:00:00.000Z\", \"confidence\": 0.8357 } ]",
                    "has_parts": false,
                    "is_underground": false,
                    "style": {
                      "weight": 1
                    }
                  },
                  "geometry": {
                    "type": "Polygon",
                    "coordinates": [
                      [
                        [
                          79.0666658699596,
                          21.1482688885757
                        ],
                        [
                          79.0666005503717,
                          21.1482785297093
                        ],
                        [
                          79.0665869214806,
                          21.1481972670707
                        ],
                        [
                          79.0666219994286,
                          21.1481920895871
                        ],
                        [
                          79.0666177778168,
                          21.1481669181322
                        ],
                        [
                          79.0666480194156,
                          21.1481624544846
                        ],
                        [
                          79.0666658699596,
                          21.1482688885757
                        ]
                      ]
                    ]
                  },
                  "bbox": [
                    79.0665869214806,
                    21.1481624544846,
                    79.0666658699596,
                    21.1482785297093
                  ]
                },
                {
                  "id": "89",
                  "type": "Feature",
                  "properties": {
                    "id": "08b6096129b81fff02000645dfcd6d79",
                    "version": 0,
                    "sources": "[ { \"property\": \"\", \"dataset\": \"Google Open Buildings\", \"record_id\": \"25927391968251336\", \"update_time\": \"2023-05-01T00:00:00.000Z\", \"confidence\": 0.82609999999999995 } ]",
                    "has_parts": false,
                    "is_underground": false,
                    "style": {
                      "weight": 1
                    }
                  },
                  "geometry": {
                    "type": "Polygon",
                    "coordinates": [
                      [
                        [
                          79.0667373914363,
                          21.1482568131009
                        ],
                        [
                          79.0666564233945,
                          21.1482669499662
                        ],
                        [
                          79.0666388317186,
                          21.1481432889952
                        ],
                        [
                          79.0667197996931,
                          21.1481331521331
                        ],
                        [
                          79.0667373914363,
                          21.1482568131009
                        ]
                      ]
                    ]
                  },
                  "bbox": [
                    79.0666388317186,
                    21.1481331521331,
                    79.0667373914363,
                    21.1482669499662
                  ]
                },
                {
                  "id": "90",
                  "type": "Feature",
                  "properties": {
                    "id": "08b6096129b85fff020060ef7d0412a0",
                    "version": 0,
                    "sources": "[ { \"property\": \"\", \"dataset\": \"Google Open Buildings\", \"record_id\": \"25927422033022410\", \"update_time\": \"2023-05-01T00:00:00.000Z\", \"confidence\": 0.81459999999999999 } ]",
                    "has_parts": false,
                    "is_underground": false,
                    "style": {
                      "weight": 1
                    }
                  },
                  "geometry": {
                    "type": "Polygon",
                    "coordinates": [
                      [
                        [
                          79.0670073747804,
                          21.1480787113668
                        ],
                        [
                          79.0670089747812,
                          21.1480937113667
                        ],
                        [
                          79.0670756747794,
                          21.1480875113632
                        ],
                        [
                          79.0670836747838,
                          21.1481632113628
                        ],
                        [
                          79.066897174789,
                          21.1481805113726
                        ],
                        [
                          79.0668875747837,
                          21.1480899113731
                        ],
                        [
                          79.0670073747804,
                          21.1480787113668
                        ]
                      ]
                    ]
                  },
                  "bbox": [
                    79.0668875747837,
                    21.1480787113668,
                    79.0670836747838,
                    21.1481805113726
                  ]
                },
                {
                  "id": "91",
                  "type": "Feature",
                  "properties": {
                    "id": "08b6096129b81fff02006a552b27c777",
                    "version": 0,
                    "sources": "[ { \"property\": \"\", \"dataset\": \"Google Open Buildings\", \"record_id\": \"25927417738055112\", \"update_time\": \"2023-05-01T00:00:00.000Z\", \"confidence\": 0.73009999999999997 } ]",
                    "has_parts": false,
                    "is_underground": false,
                    "style": {
                      "weight": 1
                    }
                  },
                  "geometry": {
                    "type": "Polygon",
                    "coordinates": [
                      [
                        [
                          79.0669914766785,
                          21.1481918648242
                        ],
                        [
                          79.0669934940904,
                          21.148227378424
                        ],
                        [
                          79.0668972619833,
                          21.1482321893873
                        ],
                        [
                          79.0668952445945,
                          21.1481966757876
                        ],
                        [
                          79.0669914766785,
                          21.1481918648242
                        ]
                      ]
                    ]
                  },
                  "bbox": [
                    79.0668952445945,
                    21.1481918648242,
                    79.0669934940904,
                    21.1482321893873
                  ]
                },
                {
                  "id": "92",
                  "type": "Feature",
                  "properties": {
                    "id": "08b6096129b81fff020033d7ca56f9af",
                    "version": 0,
                    "sources": "[ { \"property\": \"\", \"dataset\": \"Google Open Buildings\", \"record_id\": \"25927422033022406\", \"update_time\": \"2023-05-01T00:00:00.000Z\", \"confidence\": 0.82069999999999999 } ]",
                    "has_parts": false,
                    "is_underground": false,
                    "style": {
                      "weight": 1
                    }
                  },
                  "geometry": {
                    "type": "Polygon",
                    "coordinates": [
                      [
                        [
                          79.067094042345,
                          21.1483338729442
                        ],
                        [
                          79.0669063487703,
                          21.1483470296123
                        ],
                        [
                          79.0668989232512,
                          21.1482538013019
                        ],
                        [
                          79.0670150765121,
                          21.1482456593808
                        ],
                        [
                          79.0670166668953,
                          21.1482656266446
                        ],
                        [
                          79.0670882071001,
                          21.1482606118968
                        ],
                        [
                          79.067094042345,
                          21.1483338729442
                        ]
                      ]
                    ]
                  },
                  "bbox": [
                    79.0668989232512,
                    21.1482456593808,
                    79.067094042345,
                    21.1483470296123
                  ]
                },
                {
                  "id": "93",
                  "type": "Feature",
                  "properties": {
                    "id": "08b6096129b85fff0200a2a5b1dc7de9",
                    "version": 0,
                    "sources": "[ { \"property\": \"\", \"dataset\": \"Google Open Buildings\", \"record_id\": \"25927443507858888\", \"update_time\": \"2023-05-01T00:00:00.000Z\", \"confidence\": 0.82530000000000003 } ]",
                    "has_parts": false,
                    "is_underground": false,
                    "style": {
                      "weight": 1
                    }
                  },
                  "geometry": {
                    "type": "Polygon",
                    "coordinates": [
                      [
                        [
                          79.0671583238752,
                          21.1481726309381
                        ],
                        [
                          79.0671591753106,
                          21.1481535662419
                        ],
                        [
                          79.0672991725787,
                          21.1481590686365
                        ],
                        [
                          79.0672952696923,
                          21.1482464608627
                        ],
                        [
                          79.0671089883163,
                          21.1482391393027
                        ],
                        [
                          79.0671120398717,
                          21.1481708117852
                        ],
                        [
                          79.0671583238752,
                          21.1481726309381
                        ]
                      ]
                    ]
                  },
                  "bbox": [
                    79.0671089883163,
                    21.1481535662419,
                    79.0672991725787,
                    21.1482464608627
                  ]
                },
                {
                  "id": "94",
                  "type": "Feature",
                  "properties": {
                    "id": "08b6096129b81fff02008d4aed937ce6",
                    "version": 0,
                    "sources": "[ { \"property\": \"\", \"dataset\": \"Google Open Buildings\", \"record_id\": \"25927391968251333\", \"update_time\": \"2023-05-01T00:00:00.000Z\", \"confidence\": 0.88859999999999995 } ]",
                    "has_parts": false,
                    "is_underground": false,
                    "style": {
                      "weight": 1
                    }
                  },
                  "geometry": {
                    "type": "Polygon",
                    "coordinates": [
                      [
                        [
                          79.0667491376,
                          21.1483988042145
                        ],
                        [
                          79.0666636092048,
                          21.1484083177666
                        ],
                        [
                          79.0666480826698,
                          21.1482854729205
                        ],
                        [
                          79.066733610994,
                          21.1482759593708
                        ],
                        [
                          79.0667491376,
                          21.1483988042145
                        ]
                      ]
                    ]
                  },
                  "bbox": [
                    79.0666480826698,
                    21.1482759593708,
                    79.0667491376,
                    21.1484083177666
                  ]
                },
                {
                  "id": "95",
                  "type": "Feature",
                  "properties": {
                    "id": "08b6096129ba1fff0200dd71171a9e70",
                    "version": 0,
                    "sources": "[ { \"property\": \"\", \"dataset\": \"Google Open Buildings\", \"record_id\": \"25927447802826206\", \"update_time\": \"2023-05-01T00:00:00.000Z\", \"confidence\": 0.69359999999999999 } ]",
                    "has_parts": false,
                    "is_underground": false,
                    "style": {
                      "weight": 1
                    }
                  },
                  "geometry": {
                    "type": "Polygon",
                    "coordinates": [
                      [
                        [
                          79.0672700076841,
                          21.147329357965
                        ],
                        [
                          79.0672191653051,
                          21.1473282890872
                        ],
                        [
                          79.0672198701616,
                          21.1472987827288
                        ],
                        [
                          79.0672707125307,
                          21.1472998516056
                        ],
                        [
                          79.0672700076841,
                          21.147329357965
                        ]
                      ]
                    ]
                  },
                  "bbox": [
                    79.0672191653051,
                    21.1472987827288,
                    79.0672707125307,
                    21.147329357965
                  ]
                },
                {
                  "id": "96",
                  "type": "Feature",
                  "properties": {
                    "id": "08b6096129ba1fff02000895b5e69d5c",
                    "version": 0,
                    "sources": "[ { \"property\": \"\", \"dataset\": \"Google Open Buildings\", \"record_id\": \"25927447802826205\", \"update_time\": \"2023-05-01T00:00:00.000Z\", \"confidence\": 0.68459999999999999 } ]",
                    "has_parts": false,
                    "is_underground": false,
                    "style": {
                      "weight": 1
                    }
                  },
                  "geometry": {
                    "type": "Polygon",
                    "coordinates": [
                      [
                        [
                          79.0672758664837,
                          21.1473941288896
                        ],
                        [
                          79.0672204706516,
                          21.1473994428861
                        ],
                        [
                          79.0672146159351,
                          21.147345729558
                        ],
                        [
                          79.067270011747,
                          21.1473404155622
                        ],
                        [
                          79.0672758664837,
                          21.1473941288896
                        ]
                      ]
                    ]
                  },
                  "bbox": [
                    79.0672146159351,
                    21.1473404155622,
                    79.0672758664837,
                    21.1473994428861
                  ]
                },
                {
                  "id": "97",
                  "type": "Feature",
                  "properties": {
                    "id": "08b6096129ba1fff02002c1703a0fa4a",
                    "version": 0,
                    "sources": "[ { \"property\": \"\", \"dataset\": \"Google Open Buildings\", \"record_id\": \"25927464982695389\", \"update_time\": \"2023-05-01T00:00:00.000Z\", \"confidence\": 0.94869999999999999 } ]",
                    "has_parts": false,
                    "is_underground": false,
                    "style": {
                      "weight": 1
                    }
                  },
                  "geometry": {
                    "type": "Polygon",
                    "coordinates": [
                      [
                        [
                          79.0675284095068,
                          21.1474190922379
                        ],
                        [
                          79.0673073138893,
                          21.1474321094158
                        ],
                        [
                          79.0672990843926,
                          21.1473090936181
                        ],
                        [
                          79.0675201798262,
                          21.147296076437
                        ],
                        [
                          79.0675284095068,
                          21.1474190922379
                        ]
                      ]
                    ]
                  },
                  "bbox": [
                    79.0672990843926,
                    21.147296076437,
                    79.0675284095068,
                    21.1474321094158
                  ]
                },
                {
                  "id": "98",
                  "type": "Feature",
                  "properties": {
                    "id": "08b6096129ba3fff0200bf9fc38a885f",
                    "version": 0,
                    "sources": "[ { \"property\": \"\", \"dataset\": \"Microsoft ML Buildings\", \"record_id\": \"67b2473fedf3\", \"update_time\": \"2019-04-12T00:00:00.000Z\", \"confidence\": null } ]",
                    "has_parts": false,
                    "is_underground": false,
                    "style": {
                      "weight": 1
                    }
                  },
                  "geometry": {
                    "type": "Polygon",
                    "coordinates": [
                      [
                        [
                          79.0674444421082,
                          21.147656325359975
                        ],
                        [
                          79.06745143771492,
                          21.147720705012446
                        ],
                        [
                          79.06728948629721,
                          21.147736012436653
                        ],
                        [
                          79.06727710945454,
                          21.147622109967315
                        ],
                        [
                          79.06739923675313,
                          21.14761056665506
                        ],
                        [
                          79.06740461798907,
                          21.147660089482443
                        ],
                        [
                          79.0674444421082,
                          21.147656325359975
                        ]
                      ]
                    ]
                  },
                  "bbox": [
                    79.06727710945454,
                    21.14761056665506,
                    79.06745143771492,
                    21.147736012436653
                  ]
                },
                {
                  "id": "99",
                  "type": "Feature",
                  "properties": {
                    "id": "08b6096129ba3fff02003d641d8cf8bf",
                    "version": 0,
                    "sources": "[ { \"property\": \"\", \"dataset\": \"Google Open Buildings\", \"record_id\": \"25927469277662671\", \"update_time\": \"2023-05-01T00:00:00.000Z\", \"confidence\": 0.89119999999999999 } ]",
                    "has_parts": false,
                    "is_underground": false,
                    "style": {
                      "weight": 1
                    }
                  },
                  "geometry": {
                    "type": "Polygon",
                    "coordinates": [
                      [
                        [
                          79.0675825748751,
                          21.1479873752893
                        ],
                        [
                          79.0673454879286,
                          21.1480036682654
                        ],
                        [
                          79.0673363098592,
                          21.147886130047
                        ],
                        [
                          79.0675733966175,
                          21.1478698370689
                        ],
                        [
                          79.0675825748751,
                          21.1479873752893
                        ]
                      ]
                    ]
                  },
                  "bbox": [
                    79.0673363098592,
                    21.1478698370689,
                    79.0675825748751,
                    21.1480036682654
                  ]
                },
                {
                  "id": "100",
                  "type": "Feature",
                  "properties": {
                    "id": "08b6096129b84fff02001ec3ba70eb2f",
                    "version": 0,
                    "sources": "[ { \"property\": \"\", \"dataset\": \"Google Open Buildings\", \"record_id\": \"25927464982695368\", \"update_time\": \"2023-05-01T00:00:00.000Z\", \"confidence\": 0.87849999999999995 } ]",
                    "has_parts": false,
                    "is_underground": false,
                    "style": {
                      "weight": 1
                    }
                  },
                  "geometry": {
                    "type": "Polygon",
                    "coordinates": [
                      [
                        [
                          79.067349874781,
                          21.1482030113505
                        ],
                        [
                          79.0673455747799,
                          21.1481826113508
                        ],
                        [
                          79.0674401747768,
                          21.1481651113458
                        ],
                        [
                          79.0674444747779,
                          21.1481855113456
                        ],
                        [
                          79.0674905747763,
                          21.1481769113431
                        ],
                        [
                          79.0674956747777,
                          21.1482011113429
                        ],
                        [
                          79.0675148747771,
                          21.1481975113419
                        ],
                        [
                          79.0675247747797,
                          21.1482445113413
                        ],
                        [
                          79.0673400747859,
                          21.1482788113511
                        ],
                        [
                          79.0673250747819,
                          21.1482077113519
                        ],
                        [
                          79.067349874781,
                          21.1482030113505
                        ]
                      ]
                    ]
                  },
                  "bbox": [
                    79.0673250747819,
                    21.1481651113458,
                    79.0675247747797,
                    21.1482788113511
                  ]
                }
              ],
              "bbox": [
                79.06526257358762,
                21.146455404253942,
                79.0675825748751,
                21.1484586114047
              ]
            },
            "hover_style": {
              "weight": 3,
              "fillOpacity": 0,
              "color": "yellow"
            },
            "layers": [],
            "name": "Buildings",
            "options": [],
            "pane": "",
            "point_style": {},
            "popup": null,
            "popup_max_height": null,
            "popup_max_width": 300,
            "popup_min_width": 50,
            "style": {
              "weight": 1
            },
            "subitems": [],
            "visible": true
          }
        },
        "fe3dde624a5b42839e4eb9e26cec3d8b": {
          "model_module": "@jupyter-widgets/base",
          "model_name": "LayoutModel",
          "model_module_version": "1.2.0",
          "state": {
            "_model_module": "@jupyter-widgets/base",
            "_model_module_version": "1.2.0",
            "_model_name": "LayoutModel",
            "_view_count": null,
            "_view_module": "@jupyter-widgets/base",
            "_view_module_version": "1.2.0",
            "_view_name": "LayoutView",
            "align_content": null,
            "align_items": null,
            "align_self": null,
            "border": null,
            "bottom": null,
            "display": null,
            "flex": null,
            "flex_flow": null,
            "grid_area": null,
            "grid_auto_columns": null,
            "grid_auto_flow": null,
            "grid_auto_rows": null,
            "grid_column": null,
            "grid_gap": null,
            "grid_row": null,
            "grid_template_areas": null,
            "grid_template_columns": null,
            "grid_template_rows": null,
            "height": "18px",
            "justify_content": null,
            "justify_items": null,
            "left": null,
            "margin": null,
            "max_height": null,
            "max_width": null,
            "min_height": null,
            "min_width": null,
            "object_fit": null,
            "object_position": null,
            "order": null,
            "overflow": null,
            "overflow_x": null,
            "overflow_y": null,
            "padding": null,
            "right": null,
            "top": null,
            "visibility": null,
            "width": "25ex"
          }
        },
        "845e87fab071406489207056109a15f0": {
          "model_module": "@jupyter-widgets/controls",
          "model_name": "DescriptionStyleModel",
          "model_module_version": "1.5.0",
          "state": {
            "_model_module": "@jupyter-widgets/controls",
            "_model_module_version": "1.5.0",
            "_model_name": "DescriptionStyleModel",
            "_view_count": null,
            "_view_module": "@jupyter-widgets/base",
            "_view_module_version": "1.2.0",
            "_view_name": "StyleView",
            "description_width": ""
          }
        },
        "9da9d6f662be44299e4367ec47d57baa": {
          "model_module": "jupyter-leaflet",
          "model_name": "LeafletMapModel",
          "model_module_version": "^0.19",
          "state": {
            "_dom_classes": [],
            "_model_module": "jupyter-leaflet",
            "_model_module_version": "^0.19",
            "_model_name": "LeafletMapModel",
            "_view_count": null,
            "_view_module": "jupyter-leaflet",
            "_view_module_version": "^0.19",
            "_view_name": "LeafletMapView",
            "bottom": 29519869,
            "bounce_at_zoom_limits": true,
            "box_zoom": true,
            "center": [
              21.14750812709437,
              79.06678766012192
            ],
            "close_popup_on_click": true,
            "controls": [
              "IPY_MODEL_521e20c7b27a4f419115d49dee5645db",
              "IPY_MODEL_427a17e2c5654c6480ce5b3906e79f0e",
              "IPY_MODEL_bd15f2f2a42d4070b49cfcdfdf1f4b6f",
              "IPY_MODEL_804e70ae2a024e919d1260e0726f960d",
              "IPY_MODEL_6902eb0daa4f4b59a53613a43b4ef6f0",
              "IPY_MODEL_bdf1293c3a0847e8abdc91994d9b1bdf"
            ],
            "crs": {
              "name": "EPSG3857",
              "custom": false
            },
            "default_style": "IPY_MODEL_30b2a0198bea4d18997f4c967ce54bc9",
            "double_click_zoom": true,
            "dragging": true,
            "dragging_style": "IPY_MODEL_606137d9b2a64cce8514aa129acdaddd",
            "east": 79.06989634037019,
            "fullscreen": false,
            "inertia": true,
            "inertia_deceleration": 3000,
            "inertia_max_speed": 1500,
            "interpolation": "bilinear",
            "keyboard": true,
            "keyboard_pan_offset": 80,
            "keyboard_zoom_offset": 1,
            "layers": [
              "IPY_MODEL_7369447dcd0d456fad88f5ddeacf9e7f",
              "IPY_MODEL_ea54c12c6581426e9d7540f7d8ca3beb",
              "IPY_MODEL_45ca2e4f15e24af2ae86db321a1cba51"
            ],
            "layout": "IPY_MODEL_fd29832d1f7a4233aa07a3feae8059b5",
            "left": 48292970,
            "max_zoom": 24,
            "min_zoom": null,
            "modisdate": "2025-03-17",
            "north": 21.14900906441913,
            "options": [
              "bounce_at_zoom_limits",
              "box_zoom",
              "center",
              "close_popup_on_click",
              "double_click_zoom",
              "dragging",
              "fullscreen",
              "inertia",
              "inertia_deceleration",
              "inertia_max_speed",
              "interpolation",
              "keyboard",
              "keyboard_pan_offset",
              "keyboard_zoom_offset",
              "max_zoom",
              "min_zoom",
              "prefer_canvas",
              "scroll_wheel_zoom",
              "tap",
              "tap_tolerance",
              "touch_zoom",
              "world_copy_jump",
              "zoom",
              "zoom_animation_threshold",
              "zoom_delta",
              "zoom_snap"
            ],
            "panes": {},
            "prefer_canvas": false,
            "right": 48294129,
            "scroll_wheel_zoom": true,
            "south": 21.146007174560044,
            "style": "IPY_MODEL_30b2a0198bea4d18997f4c967ce54bc9",
            "tap": true,
            "tap_tolerance": 15,
            "top": 29519269,
            "touch_zoom": true,
            "west": 79.06367897987367,
            "window_url": "https://sbgl6yu1uol-496ff2e9c6d22116-0-colab.googleusercontent.com/outputframe.html?vrz=colab_20250314-060112_RC00_736820392",
            "world_copy_jump": false,
            "zoom": 18,
            "zoom_animation_threshold": 4,
            "zoom_delta": 1,
            "zoom_snap": 1
          }
        },
        "521e20c7b27a4f419115d49dee5645db": {
          "model_module": "jupyter-leaflet",
          "model_name": "LeafletZoomControlModel",
          "model_module_version": "^0.19",
          "state": {
            "_model_module": "jupyter-leaflet",
            "_model_module_version": "^0.19",
            "_model_name": "LeafletZoomControlModel",
            "_view_count": null,
            "_view_module": "jupyter-leaflet",
            "_view_module_version": "^0.19",
            "_view_name": "LeafletZoomControlView",
            "options": [
              "position",
              "zoom_in_text",
              "zoom_in_title",
              "zoom_out_text",
              "zoom_out_title"
            ],
            "position": "topleft",
            "zoom_in_text": "+",
            "zoom_in_title": "Zoom in",
            "zoom_out_text": "-",
            "zoom_out_title": "Zoom out"
          }
        },
        "427a17e2c5654c6480ce5b3906e79f0e": {
          "model_module": "jupyter-leaflet",
          "model_name": "LeafletAttributionControlModel",
          "model_module_version": "^0.19",
          "state": {
            "_model_module": "jupyter-leaflet",
            "_model_module_version": "^0.19",
            "_model_name": "LeafletAttributionControlModel",
            "_view_count": null,
            "_view_module": "jupyter-leaflet",
            "_view_module_version": "^0.19",
            "_view_name": "LeafletAttributionControlView",
            "options": [
              "position",
              "prefix"
            ],
            "position": "bottomright",
            "prefix": "ipyleaflet"
          }
        },
        "bd15f2f2a42d4070b49cfcdfdf1f4b6f": {
          "model_module": "jupyter-leaflet",
          "model_name": "LeafletFullScreenControlModel",
          "model_module_version": "^0.19",
          "state": {
            "_model_module": "jupyter-leaflet",
            "_model_module_version": "^0.19",
            "_model_name": "LeafletFullScreenControlModel",
            "_view_count": null,
            "_view_module": "jupyter-leaflet",
            "_view_module_version": "^0.19",
            "_view_name": "LeafletFullScreenControlView",
            "options": [
              "position"
            ],
            "position": "topleft"
          }
        },
        "804e70ae2a024e919d1260e0726f960d": {
          "model_module": "jupyter-leaflet",
          "model_name": "LeafletDrawControlModel",
          "model_module_version": "^0.19",
          "state": {
            "_model_module": "jupyter-leaflet",
            "_model_module_version": "^0.19",
            "_model_name": "LeafletDrawControlModel",
            "_view_count": null,
            "_view_module": "jupyter-leaflet",
            "_view_module_version": "^0.19",
            "_view_name": "LeafletDrawControlView",
            "circle": {
              "shapeOptions": {
                "color": "#3388ff"
              },
              "repeatMode": false
            },
            "circlemarker": {},
            "data": [],
            "edit": true,
            "marker": {
              "shapeOptions": {
                "color": "#3388ff"
              },
              "repeatMode": false
            },
            "options": [
              "position"
            ],
            "polygon": {
              "repeatMode": false
            },
            "polyline": {
              "repeatMode": false
            },
            "position": "topleft",
            "rectangle": {
              "shapeOptions": {
                "color": "#3388ff"
              },
              "repeatMode": false
            },
            "remove": true
          }
        },
        "6902eb0daa4f4b59a53613a43b4ef6f0": {
          "model_module": "jupyter-leaflet",
          "model_name": "LeafletScaleControlModel",
          "model_module_version": "^0.19",
          "state": {
            "_model_module": "jupyter-leaflet",
            "_model_module_version": "^0.19",
            "_model_name": "LeafletScaleControlModel",
            "_view_count": null,
            "_view_module": "jupyter-leaflet",
            "_view_module_version": "^0.19",
            "_view_name": "LeafletScaleControlView",
            "imperial": true,
            "max_width": 100,
            "metric": true,
            "options": [
              "imperial",
              "max_width",
              "metric",
              "position",
              "update_when_idle"
            ],
            "position": "bottomleft",
            "update_when_idle": false
          }
        },
        "bdf1293c3a0847e8abdc91994d9b1bdf": {
          "model_module": "jupyter-leaflet",
          "model_name": "LeafletWidgetControlModel",
          "model_module_version": "^0.19",
          "state": {
            "_model_module": "jupyter-leaflet",
            "_model_module_version": "^0.19",
            "_model_name": "LeafletWidgetControlModel",
            "_view_count": null,
            "_view_module": "jupyter-leaflet",
            "_view_module_version": "^0.19",
            "_view_name": "LeafletWidgetControlView",
            "max_height": null,
            "max_width": null,
            "min_height": null,
            "min_width": null,
            "options": [
              "position",
              "transparent_bg"
            ],
            "position": "topright",
            "transparent_bg": false,
            "widget": "IPY_MODEL_eb74dab57d6942a79698ff85fd1bbf58"
          }
        },
        "559b634326264d8890dd1333d10b848a": {
          "model_module": "jupyter-leaflet",
          "model_name": "LeafletWidgetControlModel",
          "model_module_version": "^0.19",
          "state": {
            "_model_module": "jupyter-leaflet",
            "_model_module_version": "^0.19",
            "_model_name": "LeafletWidgetControlModel",
            "_view_count": null,
            "_view_module": "jupyter-leaflet",
            "_view_module_version": "^0.19",
            "_view_name": "LeafletWidgetControlView",
            "max_height": null,
            "max_width": null,
            "min_height": null,
            "min_width": null,
            "options": [
              "position",
              "transparent_bg"
            ],
            "position": "bottomright",
            "transparent_bg": false,
            "widget": "IPY_MODEL_71fe6d47ab574c15bc01323980ba4afc"
          }
        },
        "30b2a0198bea4d18997f4c967ce54bc9": {
          "model_module": "jupyter-leaflet",
          "model_name": "LeafletMapStyleModel",
          "model_module_version": "^0.19",
          "state": {
            "_model_module": "jupyter-leaflet",
            "_model_module_version": "^0.19",
            "_model_name": "LeafletMapStyleModel",
            "_view_count": null,
            "_view_module": "@jupyter-widgets/base",
            "_view_module_version": "1.2.0",
            "_view_name": "StyleView",
            "cursor": "grab"
          }
        },
        "606137d9b2a64cce8514aa129acdaddd": {
          "model_module": "jupyter-leaflet",
          "model_name": "LeafletMapStyleModel",
          "model_module_version": "^0.19",
          "state": {
            "_model_module": "jupyter-leaflet",
            "_model_module_version": "^0.19",
            "_model_name": "LeafletMapStyleModel",
            "_view_count": null,
            "_view_module": "@jupyter-widgets/base",
            "_view_module_version": "1.2.0",
            "_view_name": "StyleView",
            "cursor": "move"
          }
        },
        "fd29832d1f7a4233aa07a3feae8059b5": {
          "model_module": "@jupyter-widgets/base",
          "model_name": "LayoutModel",
          "model_module_version": "1.2.0",
          "state": {
            "_model_module": "@jupyter-widgets/base",
            "_model_module_version": "1.2.0",
            "_model_name": "LayoutModel",
            "_view_count": null,
            "_view_module": "@jupyter-widgets/base",
            "_view_module_version": "1.2.0",
            "_view_name": "LayoutView",
            "align_content": null,
            "align_items": null,
            "align_self": null,
            "border": null,
            "bottom": null,
            "display": null,
            "flex": null,
            "flex_flow": null,
            "grid_area": null,
            "grid_auto_columns": null,
            "grid_auto_flow": null,
            "grid_auto_rows": null,
            "grid_column": null,
            "grid_gap": null,
            "grid_row": null,
            "grid_template_areas": null,
            "grid_template_columns": null,
            "grid_template_rows": null,
            "height": "600px",
            "justify_content": null,
            "justify_items": null,
            "left": null,
            "margin": null,
            "max_height": null,
            "max_width": null,
            "min_height": null,
            "min_width": null,
            "object_fit": null,
            "object_position": null,
            "order": null,
            "overflow": null,
            "overflow_x": null,
            "overflow_y": null,
            "padding": null,
            "right": null,
            "top": null,
            "visibility": null,
            "width": null
          }
        },
        "93a5f1a5b21a409bb86a77392ec9d762": {
          "model_module": "jupyter-leaflet",
          "model_name": "LeafletMapStyleModel",
          "model_module_version": "^0.19",
          "state": {
            "_model_module": "jupyter-leaflet",
            "_model_module_version": "^0.19",
            "_model_name": "LeafletMapStyleModel",
            "_view_count": null,
            "_view_module": "@jupyter-widgets/base",
            "_view_module_version": "1.2.0",
            "_view_name": "StyleView",
            "cursor": "grab"
          }
        },
        "eb74dab57d6942a79698ff85fd1bbf58": {
          "model_module": "@jupyter-widgets/controls",
          "model_name": "VBoxModel",
          "model_module_version": "1.5.0",
          "state": {
            "_dom_classes": [],
            "_model_module": "@jupyter-widgets/controls",
            "_model_module_version": "1.5.0",
            "_model_name": "VBoxModel",
            "_view_count": null,
            "_view_module": "@jupyter-widgets/controls",
            "_view_module_version": "1.5.0",
            "_view_name": "VBoxView",
            "box_style": "",
            "children": [
              "IPY_MODEL_dd93b772d9644aca8fd7b06deb13dad1"
            ],
            "layout": "IPY_MODEL_e0c493f298f34265b68438725f96a9ba"
          }
        },
        "71fe6d47ab574c15bc01323980ba4afc": {
          "model_module": "@jupyter-widgets/controls",
          "model_name": "VBoxModel",
          "model_module_version": "1.5.0",
          "state": {
            "_dom_classes": [],
            "_model_module": "@jupyter-widgets/controls",
            "_model_module_version": "1.5.0",
            "_model_name": "VBoxModel",
            "_view_count": null,
            "_view_module": "@jupyter-widgets/controls",
            "_view_module_version": "1.5.0",
            "_view_name": "VBoxView",
            "box_style": "",
            "children": [
              "IPY_MODEL_d3041f21fe7f4f6f889d19d40e55d34a"
            ],
            "layout": "IPY_MODEL_ec74bdd48461404f92853d3d11f4bc42"
          }
        },
        "dd93b772d9644aca8fd7b06deb13dad1": {
          "model_module": "@jupyter-widgets/controls",
          "model_name": "ToggleButtonModel",
          "model_module_version": "1.5.0",
          "state": {
            "_dom_classes": [],
            "_model_module": "@jupyter-widgets/controls",
            "_model_module_version": "1.5.0",
            "_model_name": "ToggleButtonModel",
            "_view_count": null,
            "_view_module": "@jupyter-widgets/controls",
            "_view_module_version": "1.5.0",
            "_view_name": "ToggleButtonView",
            "button_style": "",
            "description": "",
            "description_tooltip": null,
            "disabled": false,
            "icon": "wrench",
            "layout": "IPY_MODEL_585a40d7cfba4985b01caf425011e660",
            "style": "IPY_MODEL_64eb36e9907e47a7861e5f9451c521fd",
            "tooltip": "Toolbar",
            "value": false
          }
        },
        "e0c493f298f34265b68438725f96a9ba": {
          "model_module": "@jupyter-widgets/base",
          "model_name": "LayoutModel",
          "model_module_version": "1.2.0",
          "state": {
            "_model_module": "@jupyter-widgets/base",
            "_model_module_version": "1.2.0",
            "_model_name": "LayoutModel",
            "_view_count": null,
            "_view_module": "@jupyter-widgets/base",
            "_view_module_version": "1.2.0",
            "_view_name": "LayoutView",
            "align_content": null,
            "align_items": null,
            "align_self": null,
            "border": null,
            "bottom": null,
            "display": null,
            "flex": null,
            "flex_flow": null,
            "grid_area": null,
            "grid_auto_columns": null,
            "grid_auto_flow": null,
            "grid_auto_rows": null,
            "grid_column": null,
            "grid_gap": null,
            "grid_row": null,
            "grid_template_areas": null,
            "grid_template_columns": null,
            "grid_template_rows": null,
            "height": null,
            "justify_content": null,
            "justify_items": null,
            "left": null,
            "margin": null,
            "max_height": null,
            "max_width": null,
            "min_height": null,
            "min_width": null,
            "object_fit": null,
            "object_position": null,
            "order": null,
            "overflow": null,
            "overflow_x": null,
            "overflow_y": null,
            "padding": null,
            "right": null,
            "top": null,
            "visibility": null,
            "width": null
          }
        },
        "be554a805ad84ff1ac77968e60cd0bb6": {
          "model_module": "@jupyter-widgets/controls",
          "model_name": "HBoxModel",
          "model_module_version": "1.5.0",
          "state": {
            "_dom_classes": [],
            "_model_module": "@jupyter-widgets/controls",
            "_model_module_version": "1.5.0",
            "_model_name": "HBoxModel",
            "_view_count": null,
            "_view_module": "@jupyter-widgets/controls",
            "_view_module_version": "1.5.0",
            "_view_name": "HBoxView",
            "box_style": "",
            "children": [
              "IPY_MODEL_57e0d40185494c7ab36e2dead96e5e9d",
              "IPY_MODEL_047f5633c64b4371bc47f916d1953730"
            ],
            "layout": "IPY_MODEL_b1534a1617764525bdc6e36ce0fecc24"
          }
        },
        "e9774e231bba46f6ac4eb829b5cbeeef": {
          "model_module": "@jupyter-widgets/controls",
          "model_name": "HTMLModel",
          "model_module_version": "1.5.0",
          "state": {
            "_dom_classes": [],
            "_model_module": "@jupyter-widgets/controls",
            "_model_module_version": "1.5.0",
            "_model_name": "HTMLModel",
            "_view_count": null,
            "_view_module": "@jupyter-widgets/controls",
            "_view_module_version": "1.5.0",
            "_view_name": "HTMLView",
            "description": "",
            "description_tooltip": null,
            "layout": "IPY_MODEL_0469b579b9b047ddb829ba1eeb4ed4d0",
            "placeholder": "​",
            "style": "IPY_MODEL_0ed617b123d64fe2ba798e048a4731df",
            "value": "<b>id: </b>08b6096129a35fff020004869793533e<br><b>version: </b>0<br><b>sources: </b>[ { \"property\": \"\", \"dataset\": \"Microsoft ML Buildings\", \"record_id\": \"c63bb5599aea\", \"update_time\": \"2019-04-12T00:00:00.000Z\", \"confidence\": null } ]<br><b>has_parts: </b>False<br><b>is_underground: </b>False<br>"
          }
        },
        "ec74bdd48461404f92853d3d11f4bc42": {
          "model_module": "@jupyter-widgets/base",
          "model_name": "LayoutModel",
          "model_module_version": "1.2.0",
          "state": {
            "_model_module": "@jupyter-widgets/base",
            "_model_module_version": "1.2.0",
            "_model_name": "LayoutModel",
            "_view_count": null,
            "_view_module": "@jupyter-widgets/base",
            "_view_module_version": "1.2.0",
            "_view_name": "LayoutView",
            "align_content": null,
            "align_items": null,
            "align_self": null,
            "border": null,
            "bottom": null,
            "display": null,
            "flex": null,
            "flex_flow": null,
            "grid_area": null,
            "grid_auto_columns": null,
            "grid_auto_flow": null,
            "grid_auto_rows": null,
            "grid_column": null,
            "grid_gap": null,
            "grid_row": null,
            "grid_template_areas": null,
            "grid_template_columns": null,
            "grid_template_rows": null,
            "height": null,
            "justify_content": null,
            "justify_items": null,
            "left": null,
            "margin": null,
            "max_height": null,
            "max_width": null,
            "min_height": null,
            "min_width": null,
            "object_fit": null,
            "object_position": null,
            "order": null,
            "overflow": null,
            "overflow_x": null,
            "overflow_y": null,
            "padding": null,
            "right": null,
            "top": null,
            "visibility": null,
            "width": null
          }
        },
        "585a40d7cfba4985b01caf425011e660": {
          "model_module": "@jupyter-widgets/base",
          "model_name": "LayoutModel",
          "model_module_version": "1.2.0",
          "state": {
            "_model_module": "@jupyter-widgets/base",
            "_model_module_version": "1.2.0",
            "_model_name": "LayoutModel",
            "_view_count": null,
            "_view_module": "@jupyter-widgets/base",
            "_view_module_version": "1.2.0",
            "_view_name": "LayoutView",
            "align_content": null,
            "align_items": null,
            "align_self": null,
            "border": null,
            "bottom": null,
            "display": null,
            "flex": null,
            "flex_flow": null,
            "grid_area": null,
            "grid_auto_columns": null,
            "grid_auto_flow": null,
            "grid_auto_rows": null,
            "grid_column": null,
            "grid_gap": null,
            "grid_row": null,
            "grid_template_areas": null,
            "grid_template_columns": null,
            "grid_template_rows": null,
            "height": "28px",
            "justify_content": null,
            "justify_items": null,
            "left": null,
            "margin": null,
            "max_height": null,
            "max_width": null,
            "min_height": null,
            "min_width": null,
            "object_fit": null,
            "object_position": null,
            "order": null,
            "overflow": null,
            "overflow_x": null,
            "overflow_y": null,
            "padding": "0px 0px 0px 4px",
            "right": null,
            "top": null,
            "visibility": null,
            "width": "28px"
          }
        },
        "64eb36e9907e47a7861e5f9451c521fd": {
          "model_module": "@jupyter-widgets/controls",
          "model_name": "DescriptionStyleModel",
          "model_module_version": "1.5.0",
          "state": {
            "_model_module": "@jupyter-widgets/controls",
            "_model_module_version": "1.5.0",
            "_model_name": "DescriptionStyleModel",
            "_view_count": null,
            "_view_module": "@jupyter-widgets/base",
            "_view_module_version": "1.2.0",
            "_view_name": "StyleView",
            "description_width": ""
          }
        },
        "57e0d40185494c7ab36e2dead96e5e9d": {
          "model_module": "@jupyter-widgets/controls",
          "model_name": "ToggleButtonModel",
          "model_module_version": "1.5.0",
          "state": {
            "_dom_classes": [],
            "_model_module": "@jupyter-widgets/controls",
            "_model_module_version": "1.5.0",
            "_model_name": "ToggleButtonModel",
            "_view_count": null,
            "_view_module": "@jupyter-widgets/controls",
            "_view_module_version": "1.5.0",
            "_view_name": "ToggleButtonView",
            "button_style": "",
            "description": "",
            "description_tooltip": null,
            "disabled": false,
            "icon": "info",
            "layout": "IPY_MODEL_39c14b44d90c46f186db55e17d44c5f1",
            "style": "IPY_MODEL_4a560d44e962473a9f84f822f6eecfa6",
            "tooltip": "Toolbar",
            "value": false
          }
        },
        "047f5633c64b4371bc47f916d1953730": {
          "model_module": "@jupyter-widgets/controls",
          "model_name": "ToggleButtonModel",
          "model_module_version": "1.5.0",
          "state": {
            "_dom_classes": [],
            "_model_module": "@jupyter-widgets/controls",
            "_model_module_version": "1.5.0",
            "_model_name": "ToggleButtonModel",
            "_view_count": null,
            "_view_module": "@jupyter-widgets/controls",
            "_view_module_version": "1.5.0",
            "_view_name": "ToggleButtonView",
            "button_style": "",
            "description": "",
            "description_tooltip": null,
            "disabled": false,
            "icon": "times",
            "layout": "IPY_MODEL_95be0148f2034eb98058578463f641cf",
            "style": "IPY_MODEL_a58d2dbc9c2b48c3a3675519019f8594",
            "tooltip": "Close the tool",
            "value": true
          }
        },
        "b1534a1617764525bdc6e36ce0fecc24": {
          "model_module": "@jupyter-widgets/base",
          "model_name": "LayoutModel",
          "model_module_version": "1.2.0",
          "state": {
            "_model_module": "@jupyter-widgets/base",
            "_model_module_version": "1.2.0",
            "_model_name": "LayoutModel",
            "_view_count": null,
            "_view_module": "@jupyter-widgets/base",
            "_view_module_version": "1.2.0",
            "_view_name": "LayoutView",
            "align_content": null,
            "align_items": null,
            "align_self": null,
            "border": null,
            "bottom": null,
            "display": null,
            "flex": null,
            "flex_flow": null,
            "grid_area": null,
            "grid_auto_columns": null,
            "grid_auto_flow": null,
            "grid_auto_rows": null,
            "grid_column": null,
            "grid_gap": null,
            "grid_row": null,
            "grid_template_areas": null,
            "grid_template_columns": null,
            "grid_template_rows": null,
            "height": null,
            "justify_content": null,
            "justify_items": null,
            "left": null,
            "margin": null,
            "max_height": null,
            "max_width": null,
            "min_height": null,
            "min_width": null,
            "object_fit": null,
            "object_position": null,
            "order": null,
            "overflow": null,
            "overflow_x": null,
            "overflow_y": null,
            "padding": null,
            "right": null,
            "top": null,
            "visibility": null,
            "width": null
          }
        },
        "0469b579b9b047ddb829ba1eeb4ed4d0": {
          "model_module": "@jupyter-widgets/base",
          "model_name": "LayoutModel",
          "model_module_version": "1.2.0",
          "state": {
            "_model_module": "@jupyter-widgets/base",
            "_model_module_version": "1.2.0",
            "_model_name": "LayoutModel",
            "_view_count": null,
            "_view_module": "@jupyter-widgets/base",
            "_view_module_version": "1.2.0",
            "_view_name": "LayoutView",
            "align_content": null,
            "align_items": null,
            "align_self": null,
            "border": null,
            "bottom": null,
            "display": null,
            "flex": null,
            "flex_flow": null,
            "grid_area": null,
            "grid_auto_columns": null,
            "grid_auto_flow": null,
            "grid_auto_rows": null,
            "grid_column": null,
            "grid_gap": null,
            "grid_row": null,
            "grid_template_areas": null,
            "grid_template_columns": null,
            "grid_template_rows": null,
            "height": null,
            "justify_content": null,
            "justify_items": null,
            "left": null,
            "margin": "0px 10px 0px 10px",
            "max_height": "250px",
            "max_width": "250px",
            "min_height": null,
            "min_width": null,
            "object_fit": null,
            "object_position": null,
            "order": null,
            "overflow": null,
            "overflow_x": null,
            "overflow_y": null,
            "padding": null,
            "right": null,
            "top": null,
            "visibility": null,
            "width": null
          }
        },
        "0ed617b123d64fe2ba798e048a4731df": {
          "model_module": "@jupyter-widgets/controls",
          "model_name": "DescriptionStyleModel",
          "model_module_version": "1.5.0",
          "state": {
            "_model_module": "@jupyter-widgets/controls",
            "_model_module_version": "1.5.0",
            "_model_name": "DescriptionStyleModel",
            "_view_count": null,
            "_view_module": "@jupyter-widgets/base",
            "_view_module_version": "1.2.0",
            "_view_name": "StyleView",
            "description_width": ""
          }
        },
        "39c14b44d90c46f186db55e17d44c5f1": {
          "model_module": "@jupyter-widgets/base",
          "model_name": "LayoutModel",
          "model_module_version": "1.2.0",
          "state": {
            "_model_module": "@jupyter-widgets/base",
            "_model_module_version": "1.2.0",
            "_model_name": "LayoutModel",
            "_view_count": null,
            "_view_module": "@jupyter-widgets/base",
            "_view_module_version": "1.2.0",
            "_view_name": "LayoutView",
            "align_content": null,
            "align_items": null,
            "align_self": null,
            "border": null,
            "bottom": null,
            "display": null,
            "flex": null,
            "flex_flow": null,
            "grid_area": null,
            "grid_auto_columns": null,
            "grid_auto_flow": null,
            "grid_auto_rows": null,
            "grid_column": null,
            "grid_gap": null,
            "grid_row": null,
            "grid_template_areas": null,
            "grid_template_columns": null,
            "grid_template_rows": null,
            "height": "28px",
            "justify_content": null,
            "justify_items": null,
            "left": null,
            "margin": null,
            "max_height": null,
            "max_width": null,
            "min_height": null,
            "min_width": null,
            "object_fit": null,
            "object_position": null,
            "order": null,
            "overflow": null,
            "overflow_x": null,
            "overflow_y": null,
            "padding": "0px 0px 0px 4px",
            "right": null,
            "top": null,
            "visibility": null,
            "width": "28px"
          }
        },
        "4a560d44e962473a9f84f822f6eecfa6": {
          "model_module": "@jupyter-widgets/controls",
          "model_name": "DescriptionStyleModel",
          "model_module_version": "1.5.0",
          "state": {
            "_model_module": "@jupyter-widgets/controls",
            "_model_module_version": "1.5.0",
            "_model_name": "DescriptionStyleModel",
            "_view_count": null,
            "_view_module": "@jupyter-widgets/base",
            "_view_module_version": "1.2.0",
            "_view_name": "StyleView",
            "description_width": ""
          }
        },
        "95be0148f2034eb98058578463f641cf": {
          "model_module": "@jupyter-widgets/base",
          "model_name": "LayoutModel",
          "model_module_version": "1.2.0",
          "state": {
            "_model_module": "@jupyter-widgets/base",
            "_model_module_version": "1.2.0",
            "_model_name": "LayoutModel",
            "_view_count": null,
            "_view_module": "@jupyter-widgets/base",
            "_view_module_version": "1.2.0",
            "_view_name": "LayoutView",
            "align_content": null,
            "align_items": null,
            "align_self": null,
            "border": null,
            "bottom": null,
            "display": null,
            "flex": null,
            "flex_flow": null,
            "grid_area": null,
            "grid_auto_columns": null,
            "grid_auto_flow": null,
            "grid_auto_rows": null,
            "grid_column": null,
            "grid_gap": null,
            "grid_row": null,
            "grid_template_areas": null,
            "grid_template_columns": null,
            "grid_template_rows": null,
            "height": "28px",
            "justify_content": null,
            "justify_items": null,
            "left": null,
            "margin": null,
            "max_height": null,
            "max_width": null,
            "min_height": null,
            "min_width": null,
            "object_fit": null,
            "object_position": null,
            "order": null,
            "overflow": null,
            "overflow_x": null,
            "overflow_y": null,
            "padding": "0px 0px 0px 4px",
            "right": null,
            "top": null,
            "visibility": null,
            "width": "28px"
          }
        },
        "a58d2dbc9c2b48c3a3675519019f8594": {
          "model_module": "@jupyter-widgets/controls",
          "model_name": "DescriptionStyleModel",
          "model_module_version": "1.5.0",
          "state": {
            "_model_module": "@jupyter-widgets/controls",
            "_model_module_version": "1.5.0",
            "_model_name": "DescriptionStyleModel",
            "_view_count": null,
            "_view_module": "@jupyter-widgets/base",
            "_view_module_version": "1.2.0",
            "_view_name": "StyleView",
            "description_width": ""
          }
        },
        "fc64072b1ba0448d9e7f00d6d99af44d": {
          "model_module": "@jupyter-widgets/base",
          "model_name": "LayoutModel",
          "model_module_version": "1.2.0",
          "state": {
            "_model_module": "@jupyter-widgets/base",
            "_model_module_version": "1.2.0",
            "_model_name": "LayoutModel",
            "_view_count": null,
            "_view_module": "@jupyter-widgets/base",
            "_view_module_version": "1.2.0",
            "_view_name": "LayoutView",
            "align_content": null,
            "align_items": null,
            "align_self": null,
            "border": null,
            "bottom": null,
            "display": null,
            "flex": null,
            "flex_flow": null,
            "grid_area": null,
            "grid_auto_columns": null,
            "grid_auto_flow": null,
            "grid_auto_rows": null,
            "grid_column": null,
            "grid_gap": null,
            "grid_row": null,
            "grid_template_areas": null,
            "grid_template_columns": null,
            "grid_template_rows": null,
            "height": null,
            "justify_content": null,
            "justify_items": null,
            "left": null,
            "margin": null,
            "max_height": null,
            "max_width": null,
            "min_height": null,
            "min_width": null,
            "object_fit": null,
            "object_position": null,
            "order": null,
            "overflow": null,
            "overflow_x": null,
            "overflow_y": null,
            "padding": null,
            "right": null,
            "top": null,
            "visibility": null,
            "width": null
          }
        },
        "d3041f21fe7f4f6f889d19d40e55d34a": {
          "model_module": "@jupyter-widgets/controls",
          "model_name": "HBoxModel",
          "model_module_version": "1.5.0",
          "state": {
            "_dom_classes": [],
            "_model_module": "@jupyter-widgets/controls",
            "_model_module_version": "1.5.0",
            "_model_name": "HBoxModel",
            "_view_count": null,
            "_view_module": "@jupyter-widgets/controls",
            "_view_module_version": "1.5.0",
            "_view_name": "HBoxView",
            "box_style": "",
            "children": [
              "IPY_MODEL_57e0d40185494c7ab36e2dead96e5e9d",
              "IPY_MODEL_047f5633c64b4371bc47f916d1953730"
            ],
            "layout": "IPY_MODEL_fc64072b1ba0448d9e7f00d6d99af44d"
          }
        }
      }
    }
  },
  "nbformat": 4,
  "nbformat_minor": 0
}